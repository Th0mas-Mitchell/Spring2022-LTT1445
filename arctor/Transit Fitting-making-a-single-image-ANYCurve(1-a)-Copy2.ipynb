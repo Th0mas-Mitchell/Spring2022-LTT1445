{
 "cells": [
  {
   "cell_type": "code",
   "execution_count": 1,
   "id": "e90c81d3",
   "metadata": {},
   "outputs": [],
   "source": [
    "import time\n",
    "start_time = time.time()\n",
    "import os\n",
    "HOME = os.environ['HOME']\n",
    "# os.chdir(f'{HOME}/desktop/LTT1445_fits_files/Test/Tes2/Tes3/Tes4')\n",
    "# os.chdir(f'{HOME}/desktop/LTT1445_fits_files/Test/Tes2/Tes3')                    #2nd epoch\n",
    "os.chdir(f'{HOME}/desktop/LTT1445_fits_files/Test/Tes2')                         #1st epoch"
   ]
  },
  {
   "cell_type": "code",
   "execution_count": 2,
   "id": "543d3144",
   "metadata": {},
   "outputs": [],
   "source": [
    "import joblib\n",
    "import glob\n",
    "import numpy as np\n",
    "import matplotlib.pyplot as plt\n",
    "import pandas as pd\n",
    "from astropy.stats import mad_std, sigma_clip\n",
    "from astropy.io import fits\n",
    "from astropy.utils.data import get_pkg_data_filename\n",
    "import warnings\n",
    "warnings.filterwarnings(\"ignore\")\n",
    "\n",
    "import exoplanet as xo\n",
    "\n",
    "from arctor3 import Arctor, info_message"
   ]
  },
  {
   "cell_type": "code",
   "execution_count": 3,
   "id": "25ded32e",
   "metadata": {},
   "outputs": [],
   "source": [
    "transit1 = [0,512,300,513]\n",
    "transit2 = [0,512,178,220]\n",
    "transit3 = [0,512,150,180]"
   ]
  },
  {
   "cell_type": "code",
   "execution_count": 4,
   "id": "6f360508",
   "metadata": {},
   "outputs": [],
   "source": [
    "def instantiate_arctor(planet_name, transit, data_dir, working_dir, file_type):\n",
    "    planet = Arctor(\n",
    "        planet_name=planet_name,\n",
    "        data_dir=data_dir,\n",
    "        working_dir=working_dir,\n",
    "        file_type=file_type)\n",
    "\n",
    "    joblib_filename = f'{planet_name}_savedict.joblib.save'\n",
    "    joblib_filename = f'{working_dir}/{joblib_filename}'\n",
    "    if os.path.exists(joblib_filename):\n",
    "        info_message('Loading Data from Save File')\n",
    "        planet.load_data(joblib_filename)\n",
    "    else:\n",
    "        info_message('Loading New Data Object')\n",
    "        planet.load_data(transit)\n",
    "\n",
    "    return planet\n",
    "\n",
    "def create_raw_lc_stddev(planet):\n",
    "    ppm = 1e6\n",
    "    phot_vals = planet.photometry_df\n",
    "    lc_std_rev = phot_vals.iloc[planet.idx_rev].std(axis=0)                \n",
    "    lc_std_fwd = phot_vals.iloc[planet.idx_fwd].std(axis=0)                \n",
    "\n",
    "    lc_med_rev = np.median(phot_vals.iloc[planet.idx_rev], axis=0)\n",
    "    lc_med_fwd = np.median(phot_vals.iloc[planet.idx_rev], axis=0)\n",
    "\n",
    "    lc_std = np.mean([lc_std_rev, lc_std_fwd], axis=0)\n",
    "    lc_med = np.mean([lc_med_rev, lc_med_fwd], axis=0)\n",
    "\n",
    "    return lc_std / lc_med * ppm"
   ]
  },
  {
   "cell_type": "code",
   "execution_count": 5,
   "id": "b725fd91",
   "metadata": {},
   "outputs": [],
   "source": [
    "plot_verbose = False\n",
    "save_now = False\n",
    "planet_name = 'PlanetName'\n",
    "file_type = 'flt.fits'\n",
    "\n",
    "HOME = os.environ['HOME']\n",
    "# base_dir = os.path.join(HOME, 'path', 'to', 'base')\n",
    "# data_dir = os.path.join(base_dir, 'path', 'to', 'data')\n",
    "# data_dir = os.path.join(data_dir, 'HST', 'FLTs')\n",
    "# working_dir = os.path.join(base_dir, 'path', 'to', 'savefiles')\n",
    "# base_dir = os.path.join(HOME, 'desktop', 'LTT1445_fits_files', 'Test', 'Tes2', 'Tes3')        #2nd epoch\n",
    "base_dir = os.path.join(HOME, 'desktop', 'LTT1445_fits_files', 'Test', 'Tes2')                #1st epoch\n",
    "data_dir = os.path.join(base_dir)\n",
    "data_dir = os.path.join(data_dir)\n",
    "working_dir = os.path.join(base_dir)"
   ]
  },
  {
   "cell_type": "code",
   "execution_count": 6,
   "id": "1cd47777",
   "metadata": {},
   "outputs": [
    {
     "name": "stdout",
     "output_type": "stream",
     "text": [
      "[INFO] Initializing Instance of the `Arctor` Object\n",
      "[INFO] Loading New Data Object\n",
      "[INFO] Loading Fits Files\n"
     ]
    },
    {
     "name": "stderr",
     "output_type": "stream",
     "text": [
      "100%|███████████████████████████████████████████████████████████████████████████████████| 94/94 [00:01<00:00, 87.01it/s]\n"
     ]
    },
    {
     "name": "stdout",
     "output_type": "stream",
     "text": [
      "[INFO] Creating New Flux/Error/Time Attributes\n"
     ]
    },
    {
     "name": "stderr",
     "output_type": "stream",
     "text": [
      "100%|███████████████████████████████████████████████████████████████████████████████████| 94/94 [00:01<00:00, 56.06it/s]\n"
     ]
    },
    {
     "name": "stdout",
     "output_type": "stream",
     "text": [
      "[INFO] Found 94 flt.fits files\n",
      "<arctor3.Arctor object at 0x7f3d8c392be0>\n"
     ]
    }
   ],
   "source": [
    "transit = transit1\n",
    "planet = instantiate_arctor(planet_name, transit, data_dir, working_dir, file_type)\n",
    "print(planet)"
   ]
  },
  {
   "cell_type": "code",
   "execution_count": 7,
   "id": "6a4629f4",
   "metadata": {},
   "outputs": [
    {
     "name": "stdout",
     "output_type": "stream",
     "text": [
      "[INFO] Flagging Cosmic Rays using `Temporal Simple` Technique\n"
     ]
    },
    {
     "name": "stderr",
     "output_type": "stream",
     "text": [
      "100%|█████████████████████████████████████████████████████████████████████████████████| 213/213 [00:12<00:00, 17.73it/s]\n"
     ]
    },
    {
     "name": "stdout",
     "output_type": "stream",
     "text": [
      "[INFO] Cosmic Ray Mask Creation Took 12.017797946929932 seconds\n",
      "None\n",
      "[INFO] Calibration the Median Trace Location\n",
      "[INFO] Cubic Spline Interpolating the Median Trace Location\n",
      "[INFO] Calibration the Per Image Trace Location\n"
     ]
    },
    {
     "name": "stderr",
     "output_type": "stream",
     "text": [
      "100%|█████████████████████████████████████████████████████████████████████████████████| 94/94 [00:00<00:00, 1097.23it/s]\n"
     ]
    },
    {
     "name": "stdout",
     "output_type": "stream",
     "text": [
      "[INFO] Identifying Trace Direction per Image\n"
     ]
    },
    {
     "name": "stderr",
     "output_type": "stream",
     "text": [
      "100%|██████████████████████████████████████████████████████████████████████████████████| 94/94 [00:00<00:00, 670.47it/s]\n"
     ]
    },
    {
     "name": "stdout",
     "output_type": "stream",
     "text": [
      "[INFO] Computing the Center of the Trace\n"
     ]
    },
    {
     "name": "stderr",
     "output_type": "stream",
     "text": [
      "100%|███████████████████████████████████████████████████████████████████████████████████| 94/94 [01:03<00:00,  1.47it/s]\n"
     ]
    },
    {
     "name": "stdout",
     "output_type": "stream",
     "text": [
      "[INFO] Fitting a slope to the Center of the Trace\n"
     ]
    },
    {
     "name": "stderr",
     "output_type": "stream",
     "text": [
      "100%|███████████████████████████████████████████████████████████████████████████████████| 94/94 [00:34<00:00,  2.72it/s]\n",
      "100%|██████████████████████████████████████████████████████████████████████████████████| 94/94 [00:00<00:00, 123.86it/s]\n"
     ]
    }
   ],
   "source": [
    "planet.clean_cosmic_rays()\n",
    "planet.calibration_trace_location()\n",
    "planet.identify_trace_direction()\n",
    "planet.simple_phots()\n",
    "planet.center_all_traces()\n",
    "planet.fit_trace_slopes()\n",
    "planet.compute_sky_background(subpixels=32)\n",
    "planet.compute_columnwise_sky_background()"
   ]
  },
  {
   "cell_type": "code",
   "execution_count": 8,
   "id": "45e96dd5",
   "metadata": {},
   "outputs": [],
   "source": [
    "# Set up the list of aperture widths and heights to search\n",
    "min_aper_width = 1\n",
    "max_aper_width = 100\n",
    "min_aper_height = 1\n",
    "max_aper_height = 100\n",
    "\n",
    "aper_widths = np.arange(min_aper_width, max_aper_width + 2, 5)\n",
    "aper_heights = np.arange(min_aper_height, max_aper_height + 2, 5)"
   ]
  },
  {
   "cell_type": "code",
   "execution_count": 9,
   "id": "4524c33f",
   "metadata": {
    "scrolled": true
   },
   "outputs": [
    {
     "name": "stdout",
     "output_type": "stream",
     "text": [
      "[INFO] Beginning Multi-Aperture Photometry\n",
      "[INFO] Creating Apertures\n"
     ]
    },
    {
     "name": "stderr",
     "output_type": "stream",
     "text": [
      "100%|███████████████████████████████████████████████████████████████████████████████████| 94/94 [00:01<00:00, 71.50it/s]"
     ]
    },
    {
     "name": "stdout",
     "output_type": "stream",
     "text": [
      "[INFO] Configuing Photoutils.Aperture_Photometry\n",
      "[INFO] Computing Aperture Photometry per Image\n"
     ]
    },
    {
     "name": "stderr",
     "output_type": "stream",
     "text": [
      "\n"
     ]
    },
    {
     "name": "stdout",
     "output_type": "stream",
     "text": [
      "[INFO] Aperture Photometry per Image took 382.9222004413605 seconds for 41454 apertures.\n",
      "[INFO] Restructuring Aperture Photometry into DataFrames\n",
      "    aperture_sum_1x1  aperture_sum_6x1  aperture_sum_11x1  aperture_sum_16x1  \\\n",
      "0       6.623312e+06      6.731760e+06       6.831949e+06       6.925911e+06   \n",
      "1       6.798609e+06      6.937614e+06       7.041327e+06       7.143942e+06   \n",
      "2       6.673027e+06      6.783864e+06       6.884207e+06       6.978811e+06   \n",
      "3       6.820079e+06      6.953671e+06       7.056537e+06       7.160818e+06   \n",
      "4       6.725468e+06      6.831667e+06       6.933143e+06       7.029653e+06   \n",
      "..               ...               ...                ...                ...   \n",
      "89      6.459691e+06      6.588050e+06       6.695673e+06       6.801059e+06   \n",
      "90      6.235696e+06      6.346934e+06       6.452752e+06       6.548807e+06   \n",
      "91      6.444365e+06      6.579563e+06       6.686831e+06       6.791377e+06   \n",
      "92      6.260931e+06      6.371929e+06       6.475150e+06       6.574486e+06   \n",
      "93      6.444405e+06      6.571789e+06       6.676951e+06       6.779585e+06   \n",
      "\n",
      "    aperture_sum_21x1  aperture_sum_26x1  aperture_sum_31x1  \\\n",
      "0        7.015077e+06       7.097961e+06       7.179106e+06   \n",
      "1        7.248603e+06       7.353732e+06       7.456364e+06   \n",
      "2        7.069584e+06       7.157145e+06       7.241133e+06   \n",
      "3        7.265303e+06       7.368217e+06       7.470539e+06   \n",
      "4        7.122571e+06       7.208700e+06       7.292157e+06   \n",
      "..                ...                ...                ...   \n",
      "89       6.907465e+06       7.013869e+06       7.118557e+06   \n",
      "90       6.640624e+06       6.729923e+06       6.812927e+06   \n",
      "91       6.896592e+06       7.000413e+06       7.103757e+06   \n",
      "92       6.673970e+06       6.762743e+06       6.838551e+06   \n",
      "93       6.885399e+06       6.990678e+06       7.096287e+06   \n",
      "\n",
      "    aperture_sum_36x1  aperture_sum_41x1  aperture_sum_46x1  ...  \\\n",
      "0        7.263960e+06       7.353034e+06       7.442881e+06  ...   \n",
      "1        7.556277e+06       7.656665e+06       7.757578e+06  ...   \n",
      "2        7.328472e+06       7.418306e+06       7.511363e+06  ...   \n",
      "3        7.572213e+06       7.673297e+06       7.773694e+06  ...   \n",
      "4        7.376166e+06       7.464376e+06       7.555223e+06  ...   \n",
      "..                ...                ...                ...  ...   \n",
      "89       7.224017e+06       7.326008e+06       7.424432e+06  ...   \n",
      "90       6.891343e+06       6.971333e+06       7.057783e+06  ...   \n",
      "91       7.204852e+06       7.307996e+06       7.410385e+06  ...   \n",
      "92       6.908491e+06       6.986546e+06       7.074427e+06  ...   \n",
      "93       7.198192e+06       7.301330e+06       7.406090e+06  ...   \n",
      "\n",
      "    aperture_sum_66x101  aperture_sum_71x101  aperture_sum_76x101  \\\n",
      "0          2.662121e+07         2.698460e+07         2.734549e+07   \n",
      "1          2.716322e+07         2.752597e+07         2.788659e+07   \n",
      "2          2.668841e+07         2.705485e+07         2.741970e+07   \n",
      "3          2.715062e+07         2.751674e+07         2.788212e+07   \n",
      "4          2.660391e+07         2.696881e+07         2.733150e+07   \n",
      "..                  ...                  ...                  ...   \n",
      "89         2.711549e+07         2.748170e+07         2.784679e+07   \n",
      "90         2.658735e+07         2.695339e+07         2.731642e+07   \n",
      "91         2.714194e+07         2.750865e+07         2.787312e+07   \n",
      "92         2.656219e+07         2.693400e+07         2.729786e+07   \n",
      "93         2.709031e+07         2.746225e+07         2.783196e+07   \n",
      "\n",
      "    aperture_sum_81x101  aperture_sum_86x101  aperture_sum_91x101  \\\n",
      "0          2.770611e+07         2.806942e+07         2.842499e+07   \n",
      "1          2.825034e+07         2.861130e+07         2.897093e+07   \n",
      "2          2.778269e+07         2.814170e+07         2.849161e+07   \n",
      "3          2.824747e+07         2.860912e+07         2.897137e+07   \n",
      "4          2.769223e+07         2.805298e+07         2.840927e+07   \n",
      "..                  ...                  ...                  ...   \n",
      "89         2.821260e+07         2.857474e+07         2.893344e+07   \n",
      "90         2.767585e+07         2.803088e+07         2.838666e+07   \n",
      "91         2.823812e+07         2.860365e+07         2.896668e+07   \n",
      "92         2.765478e+07         2.800898e+07         2.836735e+07   \n",
      "93         2.819432e+07         2.855104e+07         2.891160e+07   \n",
      "\n",
      "    aperture_sum_96x101  aperture_sum_101x101    xcenter     ycenter  \n",
      "0          2.873244e+07          2.888234e+07  72.203390  351.894037  \n",
      "1          2.932667e+07          2.966655e+07  75.803559  351.967757  \n",
      "2          2.878602e+07          2.890350e+07  72.603409  351.874848  \n",
      "3          2.933117e+07          2.967224e+07  75.683553  351.971745  \n",
      "4          2.871883e+07          2.887374e+07  72.093385  351.940090  \n",
      "..                  ...                   ...        ...         ...  \n",
      "89         2.928748e+07          2.963271e+07  75.473543  351.784740  \n",
      "90         2.871549e+07          2.890164e+07  71.873374  351.728073  \n",
      "91         2.932491e+07          2.966870e+07  75.673553  351.787123  \n",
      "92         2.870342e+07          2.888990e+07  71.883375  351.743575  \n",
      "93         2.927365e+07          2.962731e+07  75.473543  351.794735  \n",
      "\n",
      "[94 rows x 443 columns]\n",
      "code took 8.5953276236852 minutes\n"
     ]
    }
   ],
   "source": [
    "planet.do_multi_phot(aper_widths, aper_heights)\n",
    "print(\"code took\", (time.time()-start_time)/60, \"minutes\")"
   ]
  },
  {
   "cell_type": "code",
   "execution_count": 10,
   "id": "a795a328",
   "metadata": {},
   "outputs": [
    {
     "data": {
      "text/html": [
       "<div>\n",
       "<style scoped>\n",
       "    .dataframe tbody tr th:only-of-type {\n",
       "        vertical-align: middle;\n",
       "    }\n",
       "\n",
       "    .dataframe tbody tr th {\n",
       "        vertical-align: top;\n",
       "    }\n",
       "\n",
       "    .dataframe thead th {\n",
       "        text-align: right;\n",
       "    }\n",
       "</style>\n",
       "<table border=\"1\" class=\"dataframe\">\n",
       "  <thead>\n",
       "    <tr style=\"text-align: right;\">\n",
       "      <th></th>\n",
       "      <th>aperture_sum_1x1</th>\n",
       "      <th>aperture_sum_6x1</th>\n",
       "      <th>aperture_sum_11x1</th>\n",
       "      <th>aperture_sum_16x1</th>\n",
       "      <th>aperture_sum_21x1</th>\n",
       "      <th>aperture_sum_26x1</th>\n",
       "      <th>aperture_sum_31x1</th>\n",
       "      <th>aperture_sum_36x1</th>\n",
       "      <th>aperture_sum_41x1</th>\n",
       "      <th>aperture_sum_46x1</th>\n",
       "      <th>...</th>\n",
       "      <th>aperture_sum_56x101</th>\n",
       "      <th>aperture_sum_61x101</th>\n",
       "      <th>aperture_sum_66x101</th>\n",
       "      <th>aperture_sum_71x101</th>\n",
       "      <th>aperture_sum_76x101</th>\n",
       "      <th>aperture_sum_81x101</th>\n",
       "      <th>aperture_sum_86x101</th>\n",
       "      <th>aperture_sum_91x101</th>\n",
       "      <th>aperture_sum_96x101</th>\n",
       "      <th>aperture_sum_101x101</th>\n",
       "    </tr>\n",
       "  </thead>\n",
       "  <tbody>\n",
       "    <tr>\n",
       "      <th>0</th>\n",
       "      <td>6.623312e+06</td>\n",
       "      <td>6.731760e+06</td>\n",
       "      <td>6.831949e+06</td>\n",
       "      <td>6.925911e+06</td>\n",
       "      <td>7.015077e+06</td>\n",
       "      <td>7.097961e+06</td>\n",
       "      <td>7.179106e+06</td>\n",
       "      <td>7.263960e+06</td>\n",
       "      <td>7.353034e+06</td>\n",
       "      <td>7.442881e+06</td>\n",
       "      <td>...</td>\n",
       "      <td>2.588753e+07</td>\n",
       "      <td>2.625691e+07</td>\n",
       "      <td>2.662121e+07</td>\n",
       "      <td>2.698460e+07</td>\n",
       "      <td>2.734549e+07</td>\n",
       "      <td>2.770611e+07</td>\n",
       "      <td>2.806942e+07</td>\n",
       "      <td>2.842499e+07</td>\n",
       "      <td>2.873244e+07</td>\n",
       "      <td>2.888234e+07</td>\n",
       "    </tr>\n",
       "    <tr>\n",
       "      <th>1</th>\n",
       "      <td>6.798609e+06</td>\n",
       "      <td>6.937614e+06</td>\n",
       "      <td>7.041327e+06</td>\n",
       "      <td>7.143942e+06</td>\n",
       "      <td>7.248603e+06</td>\n",
       "      <td>7.353732e+06</td>\n",
       "      <td>7.456364e+06</td>\n",
       "      <td>7.556277e+06</td>\n",
       "      <td>7.656665e+06</td>\n",
       "      <td>7.757578e+06</td>\n",
       "      <td>...</td>\n",
       "      <td>2.642705e+07</td>\n",
       "      <td>2.679562e+07</td>\n",
       "      <td>2.716322e+07</td>\n",
       "      <td>2.752597e+07</td>\n",
       "      <td>2.788659e+07</td>\n",
       "      <td>2.825034e+07</td>\n",
       "      <td>2.861130e+07</td>\n",
       "      <td>2.897093e+07</td>\n",
       "      <td>2.932667e+07</td>\n",
       "      <td>2.966655e+07</td>\n",
       "    </tr>\n",
       "    <tr>\n",
       "      <th>2</th>\n",
       "      <td>6.673027e+06</td>\n",
       "      <td>6.783864e+06</td>\n",
       "      <td>6.884207e+06</td>\n",
       "      <td>6.978811e+06</td>\n",
       "      <td>7.069584e+06</td>\n",
       "      <td>7.157145e+06</td>\n",
       "      <td>7.241133e+06</td>\n",
       "      <td>7.328472e+06</td>\n",
       "      <td>7.418306e+06</td>\n",
       "      <td>7.511363e+06</td>\n",
       "      <td>...</td>\n",
       "      <td>2.595596e+07</td>\n",
       "      <td>2.632120e+07</td>\n",
       "      <td>2.668841e+07</td>\n",
       "      <td>2.705485e+07</td>\n",
       "      <td>2.741970e+07</td>\n",
       "      <td>2.778269e+07</td>\n",
       "      <td>2.814170e+07</td>\n",
       "      <td>2.849161e+07</td>\n",
       "      <td>2.878602e+07</td>\n",
       "      <td>2.890350e+07</td>\n",
       "    </tr>\n",
       "    <tr>\n",
       "      <th>3</th>\n",
       "      <td>6.820079e+06</td>\n",
       "      <td>6.953671e+06</td>\n",
       "      <td>7.056537e+06</td>\n",
       "      <td>7.160818e+06</td>\n",
       "      <td>7.265303e+06</td>\n",
       "      <td>7.368217e+06</td>\n",
       "      <td>7.470539e+06</td>\n",
       "      <td>7.572213e+06</td>\n",
       "      <td>7.673297e+06</td>\n",
       "      <td>7.773694e+06</td>\n",
       "      <td>...</td>\n",
       "      <td>2.642021e+07</td>\n",
       "      <td>2.678580e+07</td>\n",
       "      <td>2.715062e+07</td>\n",
       "      <td>2.751674e+07</td>\n",
       "      <td>2.788212e+07</td>\n",
       "      <td>2.824747e+07</td>\n",
       "      <td>2.860912e+07</td>\n",
       "      <td>2.897137e+07</td>\n",
       "      <td>2.933117e+07</td>\n",
       "      <td>2.967224e+07</td>\n",
       "    </tr>\n",
       "    <tr>\n",
       "      <th>4</th>\n",
       "      <td>6.725468e+06</td>\n",
       "      <td>6.831667e+06</td>\n",
       "      <td>6.933143e+06</td>\n",
       "      <td>7.029653e+06</td>\n",
       "      <td>7.122571e+06</td>\n",
       "      <td>7.208700e+06</td>\n",
       "      <td>7.292157e+06</td>\n",
       "      <td>7.376166e+06</td>\n",
       "      <td>7.464376e+06</td>\n",
       "      <td>7.555223e+06</td>\n",
       "      <td>...</td>\n",
       "      <td>2.587616e+07</td>\n",
       "      <td>2.624004e+07</td>\n",
       "      <td>2.660391e+07</td>\n",
       "      <td>2.696881e+07</td>\n",
       "      <td>2.733150e+07</td>\n",
       "      <td>2.769223e+07</td>\n",
       "      <td>2.805298e+07</td>\n",
       "      <td>2.840927e+07</td>\n",
       "      <td>2.871883e+07</td>\n",
       "      <td>2.887374e+07</td>\n",
       "    </tr>\n",
       "    <tr>\n",
       "      <th>...</th>\n",
       "      <td>...</td>\n",
       "      <td>...</td>\n",
       "      <td>...</td>\n",
       "      <td>...</td>\n",
       "      <td>...</td>\n",
       "      <td>...</td>\n",
       "      <td>...</td>\n",
       "      <td>...</td>\n",
       "      <td>...</td>\n",
       "      <td>...</td>\n",
       "      <td>...</td>\n",
       "      <td>...</td>\n",
       "      <td>...</td>\n",
       "      <td>...</td>\n",
       "      <td>...</td>\n",
       "      <td>...</td>\n",
       "      <td>...</td>\n",
       "      <td>...</td>\n",
       "      <td>...</td>\n",
       "      <td>...</td>\n",
       "      <td>...</td>\n",
       "    </tr>\n",
       "    <tr>\n",
       "      <th>89</th>\n",
       "      <td>6.459691e+06</td>\n",
       "      <td>6.588050e+06</td>\n",
       "      <td>6.695673e+06</td>\n",
       "      <td>6.801059e+06</td>\n",
       "      <td>6.907465e+06</td>\n",
       "      <td>7.013869e+06</td>\n",
       "      <td>7.118557e+06</td>\n",
       "      <td>7.224017e+06</td>\n",
       "      <td>7.326008e+06</td>\n",
       "      <td>7.424432e+06</td>\n",
       "      <td>...</td>\n",
       "      <td>2.638715e+07</td>\n",
       "      <td>2.675100e+07</td>\n",
       "      <td>2.711549e+07</td>\n",
       "      <td>2.748170e+07</td>\n",
       "      <td>2.784679e+07</td>\n",
       "      <td>2.821260e+07</td>\n",
       "      <td>2.857474e+07</td>\n",
       "      <td>2.893344e+07</td>\n",
       "      <td>2.928748e+07</td>\n",
       "      <td>2.963271e+07</td>\n",
       "    </tr>\n",
       "    <tr>\n",
       "      <th>90</th>\n",
       "      <td>6.235696e+06</td>\n",
       "      <td>6.346934e+06</td>\n",
       "      <td>6.452752e+06</td>\n",
       "      <td>6.548807e+06</td>\n",
       "      <td>6.640624e+06</td>\n",
       "      <td>6.729923e+06</td>\n",
       "      <td>6.812927e+06</td>\n",
       "      <td>6.891343e+06</td>\n",
       "      <td>6.971333e+06</td>\n",
       "      <td>7.057783e+06</td>\n",
       "      <td>...</td>\n",
       "      <td>2.585071e+07</td>\n",
       "      <td>2.622017e+07</td>\n",
       "      <td>2.658735e+07</td>\n",
       "      <td>2.695339e+07</td>\n",
       "      <td>2.731642e+07</td>\n",
       "      <td>2.767585e+07</td>\n",
       "      <td>2.803088e+07</td>\n",
       "      <td>2.838666e+07</td>\n",
       "      <td>2.871549e+07</td>\n",
       "      <td>2.890164e+07</td>\n",
       "    </tr>\n",
       "    <tr>\n",
       "      <th>91</th>\n",
       "      <td>6.444365e+06</td>\n",
       "      <td>6.579563e+06</td>\n",
       "      <td>6.686831e+06</td>\n",
       "      <td>6.791377e+06</td>\n",
       "      <td>6.896592e+06</td>\n",
       "      <td>7.000413e+06</td>\n",
       "      <td>7.103757e+06</td>\n",
       "      <td>7.204852e+06</td>\n",
       "      <td>7.307996e+06</td>\n",
       "      <td>7.410385e+06</td>\n",
       "      <td>...</td>\n",
       "      <td>2.640222e+07</td>\n",
       "      <td>2.677134e+07</td>\n",
       "      <td>2.714194e+07</td>\n",
       "      <td>2.750865e+07</td>\n",
       "      <td>2.787312e+07</td>\n",
       "      <td>2.823812e+07</td>\n",
       "      <td>2.860365e+07</td>\n",
       "      <td>2.896668e+07</td>\n",
       "      <td>2.932491e+07</td>\n",
       "      <td>2.966870e+07</td>\n",
       "    </tr>\n",
       "    <tr>\n",
       "      <th>92</th>\n",
       "      <td>6.260931e+06</td>\n",
       "      <td>6.371929e+06</td>\n",
       "      <td>6.475150e+06</td>\n",
       "      <td>6.574486e+06</td>\n",
       "      <td>6.673970e+06</td>\n",
       "      <td>6.762743e+06</td>\n",
       "      <td>6.838551e+06</td>\n",
       "      <td>6.908491e+06</td>\n",
       "      <td>6.986546e+06</td>\n",
       "      <td>7.074427e+06</td>\n",
       "      <td>...</td>\n",
       "      <td>2.582995e+07</td>\n",
       "      <td>2.619252e+07</td>\n",
       "      <td>2.656219e+07</td>\n",
       "      <td>2.693400e+07</td>\n",
       "      <td>2.729786e+07</td>\n",
       "      <td>2.765478e+07</td>\n",
       "      <td>2.800898e+07</td>\n",
       "      <td>2.836735e+07</td>\n",
       "      <td>2.870342e+07</td>\n",
       "      <td>2.888990e+07</td>\n",
       "    </tr>\n",
       "    <tr>\n",
       "      <th>93</th>\n",
       "      <td>6.444405e+06</td>\n",
       "      <td>6.571789e+06</td>\n",
       "      <td>6.676951e+06</td>\n",
       "      <td>6.779585e+06</td>\n",
       "      <td>6.885399e+06</td>\n",
       "      <td>6.990678e+06</td>\n",
       "      <td>7.096287e+06</td>\n",
       "      <td>7.198192e+06</td>\n",
       "      <td>7.301330e+06</td>\n",
       "      <td>7.406090e+06</td>\n",
       "      <td>...</td>\n",
       "      <td>2.636333e+07</td>\n",
       "      <td>2.672401e+07</td>\n",
       "      <td>2.709031e+07</td>\n",
       "      <td>2.746225e+07</td>\n",
       "      <td>2.783196e+07</td>\n",
       "      <td>2.819432e+07</td>\n",
       "      <td>2.855104e+07</td>\n",
       "      <td>2.891160e+07</td>\n",
       "      <td>2.927365e+07</td>\n",
       "      <td>2.962731e+07</td>\n",
       "    </tr>\n",
       "  </tbody>\n",
       "</table>\n",
       "<p>94 rows × 441 columns</p>\n",
       "</div>"
      ],
      "text/plain": [
       "    aperture_sum_1x1  aperture_sum_6x1  aperture_sum_11x1  aperture_sum_16x1  \\\n",
       "0       6.623312e+06      6.731760e+06       6.831949e+06       6.925911e+06   \n",
       "1       6.798609e+06      6.937614e+06       7.041327e+06       7.143942e+06   \n",
       "2       6.673027e+06      6.783864e+06       6.884207e+06       6.978811e+06   \n",
       "3       6.820079e+06      6.953671e+06       7.056537e+06       7.160818e+06   \n",
       "4       6.725468e+06      6.831667e+06       6.933143e+06       7.029653e+06   \n",
       "..               ...               ...                ...                ...   \n",
       "89      6.459691e+06      6.588050e+06       6.695673e+06       6.801059e+06   \n",
       "90      6.235696e+06      6.346934e+06       6.452752e+06       6.548807e+06   \n",
       "91      6.444365e+06      6.579563e+06       6.686831e+06       6.791377e+06   \n",
       "92      6.260931e+06      6.371929e+06       6.475150e+06       6.574486e+06   \n",
       "93      6.444405e+06      6.571789e+06       6.676951e+06       6.779585e+06   \n",
       "\n",
       "    aperture_sum_21x1  aperture_sum_26x1  aperture_sum_31x1  \\\n",
       "0        7.015077e+06       7.097961e+06       7.179106e+06   \n",
       "1        7.248603e+06       7.353732e+06       7.456364e+06   \n",
       "2        7.069584e+06       7.157145e+06       7.241133e+06   \n",
       "3        7.265303e+06       7.368217e+06       7.470539e+06   \n",
       "4        7.122571e+06       7.208700e+06       7.292157e+06   \n",
       "..                ...                ...                ...   \n",
       "89       6.907465e+06       7.013869e+06       7.118557e+06   \n",
       "90       6.640624e+06       6.729923e+06       6.812927e+06   \n",
       "91       6.896592e+06       7.000413e+06       7.103757e+06   \n",
       "92       6.673970e+06       6.762743e+06       6.838551e+06   \n",
       "93       6.885399e+06       6.990678e+06       7.096287e+06   \n",
       "\n",
       "    aperture_sum_36x1  aperture_sum_41x1  aperture_sum_46x1  ...  \\\n",
       "0        7.263960e+06       7.353034e+06       7.442881e+06  ...   \n",
       "1        7.556277e+06       7.656665e+06       7.757578e+06  ...   \n",
       "2        7.328472e+06       7.418306e+06       7.511363e+06  ...   \n",
       "3        7.572213e+06       7.673297e+06       7.773694e+06  ...   \n",
       "4        7.376166e+06       7.464376e+06       7.555223e+06  ...   \n",
       "..                ...                ...                ...  ...   \n",
       "89       7.224017e+06       7.326008e+06       7.424432e+06  ...   \n",
       "90       6.891343e+06       6.971333e+06       7.057783e+06  ...   \n",
       "91       7.204852e+06       7.307996e+06       7.410385e+06  ...   \n",
       "92       6.908491e+06       6.986546e+06       7.074427e+06  ...   \n",
       "93       7.198192e+06       7.301330e+06       7.406090e+06  ...   \n",
       "\n",
       "    aperture_sum_56x101  aperture_sum_61x101  aperture_sum_66x101  \\\n",
       "0          2.588753e+07         2.625691e+07         2.662121e+07   \n",
       "1          2.642705e+07         2.679562e+07         2.716322e+07   \n",
       "2          2.595596e+07         2.632120e+07         2.668841e+07   \n",
       "3          2.642021e+07         2.678580e+07         2.715062e+07   \n",
       "4          2.587616e+07         2.624004e+07         2.660391e+07   \n",
       "..                  ...                  ...                  ...   \n",
       "89         2.638715e+07         2.675100e+07         2.711549e+07   \n",
       "90         2.585071e+07         2.622017e+07         2.658735e+07   \n",
       "91         2.640222e+07         2.677134e+07         2.714194e+07   \n",
       "92         2.582995e+07         2.619252e+07         2.656219e+07   \n",
       "93         2.636333e+07         2.672401e+07         2.709031e+07   \n",
       "\n",
       "    aperture_sum_71x101  aperture_sum_76x101  aperture_sum_81x101  \\\n",
       "0          2.698460e+07         2.734549e+07         2.770611e+07   \n",
       "1          2.752597e+07         2.788659e+07         2.825034e+07   \n",
       "2          2.705485e+07         2.741970e+07         2.778269e+07   \n",
       "3          2.751674e+07         2.788212e+07         2.824747e+07   \n",
       "4          2.696881e+07         2.733150e+07         2.769223e+07   \n",
       "..                  ...                  ...                  ...   \n",
       "89         2.748170e+07         2.784679e+07         2.821260e+07   \n",
       "90         2.695339e+07         2.731642e+07         2.767585e+07   \n",
       "91         2.750865e+07         2.787312e+07         2.823812e+07   \n",
       "92         2.693400e+07         2.729786e+07         2.765478e+07   \n",
       "93         2.746225e+07         2.783196e+07         2.819432e+07   \n",
       "\n",
       "    aperture_sum_86x101  aperture_sum_91x101  aperture_sum_96x101  \\\n",
       "0          2.806942e+07         2.842499e+07         2.873244e+07   \n",
       "1          2.861130e+07         2.897093e+07         2.932667e+07   \n",
       "2          2.814170e+07         2.849161e+07         2.878602e+07   \n",
       "3          2.860912e+07         2.897137e+07         2.933117e+07   \n",
       "4          2.805298e+07         2.840927e+07         2.871883e+07   \n",
       "..                  ...                  ...                  ...   \n",
       "89         2.857474e+07         2.893344e+07         2.928748e+07   \n",
       "90         2.803088e+07         2.838666e+07         2.871549e+07   \n",
       "91         2.860365e+07         2.896668e+07         2.932491e+07   \n",
       "92         2.800898e+07         2.836735e+07         2.870342e+07   \n",
       "93         2.855104e+07         2.891160e+07         2.927365e+07   \n",
       "\n",
       "    aperture_sum_101x101  \n",
       "0           2.888234e+07  \n",
       "1           2.966655e+07  \n",
       "2           2.890350e+07  \n",
       "3           2.967224e+07  \n",
       "4           2.887374e+07  \n",
       "..                   ...  \n",
       "89          2.963271e+07  \n",
       "90          2.890164e+07  \n",
       "91          2.966870e+07  \n",
       "92          2.888990e+07  \n",
       "93          2.962731e+07  \n",
       "\n",
       "[94 rows x 441 columns]"
      ]
     },
     "execution_count": 10,
     "metadata": {},
     "output_type": "execute_result"
    }
   ],
   "source": [
    "planet_coarse_photometry_df = planet.photometry_df.copy()\n",
    "planet.photometry_df\n"
   ]
  },
  {
   "cell_type": "code",
   "execution_count": 11,
   "id": "8dbb0ec2",
   "metadata": {},
   "outputs": [],
   "source": [
    "coarse_snr_lightcurves = create_raw_lc_stddev(planet)\n",
    "coarse_min_snr = coarse_snr_lightcurves[coarse_snr_lightcurves.argmin()]\n",
    "coarse_min_snr_colname = planet.photometry_df.columns[coarse_snr_lightcurves.argmin()]\n",
    "coarse_min_snr_col = planet.normed_photometry_df[coarse_min_snr_colname]\n",
    "coarse_temp = coarse_min_snr_colname.split('_')[-1].split('x')\n",
    "coarse_min_snr_aper_width, coarse_min_snr_aper_height = np.int32(coarse_temp)"
   ]
  },
  {
   "cell_type": "code",
   "execution_count": 12,
   "id": "dc40438e",
   "metadata": {},
   "outputs": [
    {
     "name": "stdout",
     "output_type": "stream",
     "text": [
      "[INFO] Coarse Aperture Photometry Resulted in 1121ppm with 101x21 aperture size\n"
     ]
    }
   ],
   "source": [
    "info_message(f'Coarse Aperture Photometry Resulted in {coarse_min_snr:0.0f}ppm with '\n",
    "             f'{coarse_min_snr_aper_width}x{coarse_min_snr_aper_height} aperture size')"
   ]
  },
  {
   "cell_type": "code",
   "execution_count": 13,
   "id": "1e9d0f7c",
   "metadata": {},
   "outputs": [],
   "source": [
    "fine_buffer = 10\n",
    "fine_aper_widths = np.arange(coarse_min_snr_aper_width - fine_buffer,\n",
    "                             coarse_min_snr_aper_width + fine_buffer)\n",
    "\n",
    "fine_aper_heights = np.arange(coarse_min_snr_aper_height - fine_buffer,\n",
    "                              coarse_min_snr_aper_height + fine_buffer)"
   ]
  },
  {
   "cell_type": "code",
   "execution_count": 14,
   "id": "e2e9c046",
   "metadata": {},
   "outputs": [
    {
     "name": "stdout",
     "output_type": "stream",
     "text": [
      "[INFO] Beginning Multi-Aperture Photometry\n",
      "[INFO] Creating Apertures\n"
     ]
    },
    {
     "name": "stderr",
     "output_type": "stream",
     "text": [
      "100%|███████████████████████████████████████████████████████████████████████████████████| 94/94 [00:01<00:00, 60.08it/s]\n"
     ]
    },
    {
     "name": "stdout",
     "output_type": "stream",
     "text": [
      "[INFO] Configuing Photoutils.Aperture_Photometry\n",
      "[INFO] Computing Aperture Photometry per Image\n",
      "[INFO] Aperture Photometry per Image took 195.60649061203003 seconds for 37600 apertures.\n",
      "[INFO] Restructuring Aperture Photometry into DataFrames\n",
      "    aperture_sum_91x11  aperture_sum_92x11  aperture_sum_93x11  \\\n",
      "0         2.615728e+07        2.622103e+07        2.628268e+07   \n",
      "1         2.664949e+07        2.671628e+07        2.678301e+07   \n",
      "2         2.620640e+07        2.626968e+07        2.632906e+07   \n",
      "3         2.664178e+07        2.670908e+07        2.677645e+07   \n",
      "4         2.613285e+07        2.619765e+07        2.626115e+07   \n",
      "..                 ...                 ...                 ...   \n",
      "89        2.653047e+07        2.659691e+07        2.666326e+07   \n",
      "90        2.603666e+07        2.610252e+07        2.616813e+07   \n",
      "91        2.656125e+07        2.662848e+07        2.669526e+07   \n",
      "92        2.601447e+07        2.608120e+07        2.614765e+07   \n",
      "93        2.650380e+07        2.657117e+07        2.663877e+07   \n",
      "\n",
      "    aperture_sum_94x11  aperture_sum_95x11  aperture_sum_96x11  \\\n",
      "0         2.634090e+07        2.639596e+07        2.644587e+07   \n",
      "1         2.684976e+07        2.691652e+07        2.698281e+07   \n",
      "2         2.638660e+07        2.643615e+07        2.648250e+07   \n",
      "3         2.684393e+07        2.691159e+07        2.697876e+07   \n",
      "4         2.631890e+07        2.637495e+07        2.642353e+07   \n",
      "..                 ...                 ...                 ...   \n",
      "89        2.672960e+07        2.679503e+07        2.686040e+07   \n",
      "90        2.622988e+07        2.629032e+07        2.634531e+07   \n",
      "91        2.676196e+07        2.682847e+07        2.689475e+07   \n",
      "92        2.621110e+07        2.627356e+07        2.633013e+07   \n",
      "93        2.670640e+07        2.677404e+07        2.684169e+07   \n",
      "\n",
      "    aperture_sum_97x11  aperture_sum_98x11  aperture_sum_99x11  \\\n",
      "0         2.648939e+07        2.652246e+07        2.654946e+07   \n",
      "1         2.704877e+07        2.711368e+07        2.717790e+07   \n",
      "2         2.651503e+07        2.654461e+07        2.656149e+07   \n",
      "3         2.704510e+07        2.711069e+07        2.717497e+07   \n",
      "4         2.646918e+07        2.650193e+07        2.653168e+07   \n",
      "..                 ...                 ...                 ...   \n",
      "89        2.692614e+07        2.699191e+07        2.705658e+07   \n",
      "90        2.639844e+07        2.643924e+07        2.647587e+07   \n",
      "91        2.696060e+07        2.702615e+07        2.709100e+07   \n",
      "92        2.638474e+07        2.642541e+07        2.646145e+07   \n",
      "93        2.690925e+07        2.697681e+07        2.704347e+07   \n",
      "\n",
      "    aperture_sum_100x11  ...  aperture_sum_103x30  aperture_sum_104x30  \\\n",
      "0          2.656652e+07  ...         2.820635e+07         2.821304e+07   \n",
      "1          2.724078e+07  ...         2.907048e+07         2.911915e+07   \n",
      "2          2.657685e+07  ...         2.821610e+07         2.822206e+07   \n",
      "3          2.723819e+07  ...         2.907440e+07         2.912578e+07   \n",
      "4          2.654823e+07  ...         2.819700e+07         2.820315e+07   \n",
      "..                  ...  ...                  ...                  ...   \n",
      "89         2.712117e+07  ...         2.903253e+07         2.909368e+07   \n",
      "90         2.649805e+07  ...         2.821407e+07         2.822076e+07   \n",
      "91         2.715498e+07  ...         2.906518e+07         2.912042e+07   \n",
      "92         2.648329e+07  ...         2.820172e+07         2.820818e+07   \n",
      "93         2.711008e+07  ...         2.902766e+07         2.908790e+07   \n",
      "\n",
      "    aperture_sum_105x30  aperture_sum_106x30  aperture_sum_107x30  \\\n",
      "0          2.821876e+07         2.822293e+07         2.822658e+07   \n",
      "1          2.916151e+07         2.919156e+07         2.921356e+07   \n",
      "2          2.822602e+07         2.822975e+07         2.823245e+07   \n",
      "3          2.916662e+07         2.919988e+07         2.922029e+07   \n",
      "4          2.820887e+07         2.821267e+07         2.821628e+07   \n",
      "..                  ...                  ...                  ...   \n",
      "89         2.914038e+07         2.918612e+07         2.921020e+07   \n",
      "90         2.822641e+07         2.823039e+07         2.823379e+07   \n",
      "91         2.916552e+07         2.920335e+07         2.922576e+07   \n",
      "92         2.821357e+07         2.821742e+07         2.822074e+07   \n",
      "93         2.913110e+07         2.917316e+07         2.919454e+07   \n",
      "\n",
      "    aperture_sum_108x30  aperture_sum_109x30  aperture_sum_110x30    xcenter  \\\n",
      "0          2.822943e+07         2.823203e+07         2.823425e+07  72.203390   \n",
      "1          2.922944e+07         2.924131e+07         2.925041e+07  75.803559   \n",
      "2          2.823507e+07         2.823727e+07         2.823941e+07  72.603409   \n",
      "3          2.923720e+07         2.924813e+07         2.925752e+07  75.683553   \n",
      "4          2.821903e+07         2.822167e+07         2.822383e+07  72.093385   \n",
      "..                  ...                  ...                  ...        ...   \n",
      "89         2.923283e+07         2.924436e+07         2.925515e+07  75.473543   \n",
      "90         2.823651e+07         2.823899e+07         2.824117e+07  71.873374   \n",
      "91         2.924440e+07         2.925510e+07         2.926439e+07  75.673553   \n",
      "92         2.822343e+07         2.822591e+07         2.822810e+07  71.883375   \n",
      "93         2.921453e+07         2.922528e+07         2.923542e+07  75.473543   \n",
      "\n",
      "       ycenter  \n",
      "0   351.894037  \n",
      "1   351.967757  \n",
      "2   351.874848  \n",
      "3   351.971745  \n",
      "4   351.940090  \n",
      "..         ...  \n",
      "89  351.784740  \n",
      "90  351.728073  \n",
      "91  351.787123  \n",
      "92  351.743575  \n",
      "93  351.794735  \n",
      "\n",
      "[94 rows x 402 columns]\n",
      "[INFO] Adding column aperture_sum_92x11 to self.photometry_df\n",
      "[INFO] Adding column aperture_sum_93x11 to self.photometry_df\n",
      "[INFO] Adding column aperture_sum_94x11 to self.photometry_df\n",
      "[INFO] Adding column aperture_sum_95x11 to self.photometry_df\n",
      "[INFO] Adding column aperture_sum_97x11 to self.photometry_df\n",
      "[INFO] Adding column aperture_sum_98x11 to self.photometry_df\n",
      "[INFO] Adding column aperture_sum_99x11 to self.photometry_df\n",
      "[INFO] Adding column aperture_sum_100x11 to self.photometry_df\n",
      "[INFO] Adding column aperture_sum_102x11 to self.photometry_df\n",
      "[INFO] Adding column aperture_sum_103x11 to self.photometry_df\n",
      "[INFO] Adding column aperture_sum_104x11 to self.photometry_df\n",
      "[INFO] Adding column aperture_sum_105x11 to self.photometry_df\n",
      "[INFO] Adding column aperture_sum_106x11 to self.photometry_df\n",
      "[INFO] Adding column aperture_sum_107x11 to self.photometry_df\n",
      "[INFO] Adding column aperture_sum_108x11 to self.photometry_df\n",
      "[INFO] Adding column aperture_sum_109x11 to self.photometry_df\n",
      "[INFO] Adding column aperture_sum_110x11 to self.photometry_df\n",
      "[INFO] Adding column aperture_sum_91x12 to self.photometry_df\n",
      "[INFO] Adding column aperture_sum_92x12 to self.photometry_df\n",
      "[INFO] Adding column aperture_sum_93x12 to self.photometry_df\n",
      "[INFO] Adding column aperture_sum_94x12 to self.photometry_df\n",
      "[INFO] Adding column aperture_sum_95x12 to self.photometry_df\n",
      "[INFO] Adding column aperture_sum_96x12 to self.photometry_df\n",
      "[INFO] Adding column aperture_sum_97x12 to self.photometry_df\n",
      "[INFO] Adding column aperture_sum_98x12 to self.photometry_df\n",
      "[INFO] Adding column aperture_sum_99x12 to self.photometry_df\n",
      "[INFO] Adding column aperture_sum_100x12 to self.photometry_df\n",
      "[INFO] Adding column aperture_sum_101x12 to self.photometry_df\n",
      "[INFO] Adding column aperture_sum_102x12 to self.photometry_df\n",
      "[INFO] Adding column aperture_sum_103x12 to self.photometry_df\n",
      "[INFO] Adding column aperture_sum_104x12 to self.photometry_df\n",
      "[INFO] Adding column aperture_sum_105x12 to self.photometry_df\n",
      "[INFO] Adding column aperture_sum_106x12 to self.photometry_df\n",
      "[INFO] Adding column aperture_sum_107x12 to self.photometry_df\n",
      "[INFO] Adding column aperture_sum_108x12 to self.photometry_df\n",
      "[INFO] Adding column aperture_sum_109x12 to self.photometry_df\n",
      "[INFO] Adding column aperture_sum_110x12 to self.photometry_df\n",
      "[INFO] Adding column aperture_sum_91x13 to self.photometry_df\n",
      "[INFO] Adding column aperture_sum_92x13 to self.photometry_df\n",
      "[INFO] Adding column aperture_sum_93x13 to self.photometry_df\n",
      "[INFO] Adding column aperture_sum_94x13 to self.photometry_df\n",
      "[INFO] Adding column aperture_sum_95x13 to self.photometry_df\n",
      "[INFO] Adding column aperture_sum_96x13 to self.photometry_df\n",
      "[INFO] Adding column aperture_sum_97x13 to self.photometry_df\n",
      "[INFO] Adding column aperture_sum_98x13 to self.photometry_df\n",
      "[INFO] Adding column aperture_sum_99x13 to self.photometry_df\n",
      "[INFO] Adding column aperture_sum_100x13 to self.photometry_df\n",
      "[INFO] Adding column aperture_sum_101x13 to self.photometry_df\n",
      "[INFO] Adding column aperture_sum_102x13 to self.photometry_df\n",
      "[INFO] Adding column aperture_sum_103x13 to self.photometry_df\n",
      "[INFO] Adding column aperture_sum_104x13 to self.photometry_df\n",
      "[INFO] Adding column aperture_sum_105x13 to self.photometry_df\n",
      "[INFO] Adding column aperture_sum_106x13 to self.photometry_df\n",
      "[INFO] Adding column aperture_sum_107x13 to self.photometry_df\n",
      "[INFO] Adding column aperture_sum_108x13 to self.photometry_df\n",
      "[INFO] Adding column aperture_sum_109x13 to self.photometry_df\n",
      "[INFO] Adding column aperture_sum_110x13 to self.photometry_df\n",
      "[INFO] Adding column aperture_sum_91x14 to self.photometry_df\n",
      "[INFO] Adding column aperture_sum_92x14 to self.photometry_df\n",
      "[INFO] Adding column aperture_sum_93x14 to self.photometry_df\n",
      "[INFO] Adding column aperture_sum_94x14 to self.photometry_df\n",
      "[INFO] Adding column aperture_sum_95x14 to self.photometry_df\n",
      "[INFO] Adding column aperture_sum_96x14 to self.photometry_df\n",
      "[INFO] Adding column aperture_sum_97x14 to self.photometry_df\n",
      "[INFO] Adding column aperture_sum_98x14 to self.photometry_df\n",
      "[INFO] Adding column aperture_sum_99x14 to self.photometry_df\n",
      "[INFO] Adding column aperture_sum_100x14 to self.photometry_df\n",
      "[INFO] Adding column aperture_sum_101x14 to self.photometry_df\n",
      "[INFO] Adding column aperture_sum_102x14 to self.photometry_df\n",
      "[INFO] Adding column aperture_sum_103x14 to self.photometry_df\n",
      "[INFO] Adding column aperture_sum_104x14 to self.photometry_df\n",
      "[INFO] Adding column aperture_sum_105x14 to self.photometry_df\n",
      "[INFO] Adding column aperture_sum_106x14 to self.photometry_df\n",
      "[INFO] Adding column aperture_sum_107x14 to self.photometry_df\n",
      "[INFO] Adding column aperture_sum_108x14 to self.photometry_df\n",
      "[INFO] Adding column aperture_sum_109x14 to self.photometry_df\n",
      "[INFO] Adding column aperture_sum_110x14 to self.photometry_df\n",
      "[INFO] Adding column aperture_sum_91x15 to self.photometry_df\n",
      "[INFO] Adding column aperture_sum_92x15 to self.photometry_df\n",
      "[INFO] Adding column aperture_sum_93x15 to self.photometry_df\n",
      "[INFO] Adding column aperture_sum_94x15 to self.photometry_df\n",
      "[INFO] Adding column aperture_sum_95x15 to self.photometry_df\n",
      "[INFO] Adding column aperture_sum_96x15 to self.photometry_df\n",
      "[INFO] Adding column aperture_sum_97x15 to self.photometry_df\n",
      "[INFO] Adding column aperture_sum_98x15 to self.photometry_df\n",
      "[INFO] Adding column aperture_sum_99x15 to self.photometry_df\n",
      "[INFO] Adding column aperture_sum_100x15 to self.photometry_df\n",
      "[INFO] Adding column aperture_sum_101x15 to self.photometry_df\n",
      "[INFO] Adding column aperture_sum_102x15 to self.photometry_df\n",
      "[INFO] Adding column aperture_sum_103x15 to self.photometry_df\n",
      "[INFO] Adding column aperture_sum_104x15 to self.photometry_df\n",
      "[INFO] Adding column aperture_sum_105x15 to self.photometry_df\n",
      "[INFO] Adding column aperture_sum_106x15 to self.photometry_df\n",
      "[INFO] Adding column aperture_sum_107x15 to self.photometry_df\n",
      "[INFO] Adding column aperture_sum_108x15 to self.photometry_df\n",
      "[INFO] Adding column aperture_sum_109x15 to self.photometry_df\n",
      "[INFO] Adding column aperture_sum_110x15 to self.photometry_df\n",
      "[INFO] Adding column aperture_sum_92x16 to self.photometry_df\n",
      "[INFO] Adding column aperture_sum_93x16 to self.photometry_df\n",
      "[INFO] Adding column aperture_sum_94x16 to self.photometry_df\n",
      "[INFO] Adding column aperture_sum_95x16 to self.photometry_df\n",
      "[INFO] Adding column aperture_sum_97x16 to self.photometry_df\n",
      "[INFO] Adding column aperture_sum_98x16 to self.photometry_df\n",
      "[INFO] Adding column aperture_sum_99x16 to self.photometry_df\n",
      "[INFO] Adding column aperture_sum_100x16 to self.photometry_df\n"
     ]
    },
    {
     "name": "stdout",
     "output_type": "stream",
     "text": [
      "[INFO] Adding column aperture_sum_102x16 to self.photometry_df\n",
      "[INFO] Adding column aperture_sum_103x16 to self.photometry_df\n",
      "[INFO] Adding column aperture_sum_104x16 to self.photometry_df\n",
      "[INFO] Adding column aperture_sum_105x16 to self.photometry_df\n",
      "[INFO] Adding column aperture_sum_106x16 to self.photometry_df\n",
      "[INFO] Adding column aperture_sum_107x16 to self.photometry_df\n",
      "[INFO] Adding column aperture_sum_108x16 to self.photometry_df\n",
      "[INFO] Adding column aperture_sum_109x16 to self.photometry_df\n",
      "[INFO] Adding column aperture_sum_110x16 to self.photometry_df\n",
      "[INFO] Adding column aperture_sum_91x17 to self.photometry_df\n",
      "[INFO] Adding column aperture_sum_92x17 to self.photometry_df\n",
      "[INFO] Adding column aperture_sum_93x17 to self.photometry_df\n",
      "[INFO] Adding column aperture_sum_94x17 to self.photometry_df\n",
      "[INFO] Adding column aperture_sum_95x17 to self.photometry_df\n",
      "[INFO] Adding column aperture_sum_96x17 to self.photometry_df\n",
      "[INFO] Adding column aperture_sum_97x17 to self.photometry_df\n",
      "[INFO] Adding column aperture_sum_98x17 to self.photometry_df\n",
      "[INFO] Adding column aperture_sum_99x17 to self.photometry_df\n",
      "[INFO] Adding column aperture_sum_100x17 to self.photometry_df\n",
      "[INFO] Adding column aperture_sum_101x17 to self.photometry_df\n",
      "[INFO] Adding column aperture_sum_102x17 to self.photometry_df\n",
      "[INFO] Adding column aperture_sum_103x17 to self.photometry_df\n",
      "[INFO] Adding column aperture_sum_104x17 to self.photometry_df\n",
      "[INFO] Adding column aperture_sum_105x17 to self.photometry_df\n",
      "[INFO] Adding column aperture_sum_106x17 to self.photometry_df\n",
      "[INFO] Adding column aperture_sum_107x17 to self.photometry_df\n",
      "[INFO] Adding column aperture_sum_108x17 to self.photometry_df\n",
      "[INFO] Adding column aperture_sum_109x17 to self.photometry_df\n",
      "[INFO] Adding column aperture_sum_110x17 to self.photometry_df\n",
      "[INFO] Adding column aperture_sum_91x18 to self.photometry_df\n",
      "[INFO] Adding column aperture_sum_92x18 to self.photometry_df\n",
      "[INFO] Adding column aperture_sum_93x18 to self.photometry_df\n",
      "[INFO] Adding column aperture_sum_94x18 to self.photometry_df\n",
      "[INFO] Adding column aperture_sum_95x18 to self.photometry_df\n",
      "[INFO] Adding column aperture_sum_96x18 to self.photometry_df\n",
      "[INFO] Adding column aperture_sum_97x18 to self.photometry_df\n",
      "[INFO] Adding column aperture_sum_98x18 to self.photometry_df\n",
      "[INFO] Adding column aperture_sum_99x18 to self.photometry_df\n",
      "[INFO] Adding column aperture_sum_100x18 to self.photometry_df\n",
      "[INFO] Adding column aperture_sum_101x18 to self.photometry_df\n",
      "[INFO] Adding column aperture_sum_102x18 to self.photometry_df\n",
      "[INFO] Adding column aperture_sum_103x18 to self.photometry_df\n",
      "[INFO] Adding column aperture_sum_104x18 to self.photometry_df\n",
      "[INFO] Adding column aperture_sum_105x18 to self.photometry_df\n",
      "[INFO] Adding column aperture_sum_106x18 to self.photometry_df\n",
      "[INFO] Adding column aperture_sum_107x18 to self.photometry_df\n",
      "[INFO] Adding column aperture_sum_108x18 to self.photometry_df\n",
      "[INFO] Adding column aperture_sum_109x18 to self.photometry_df\n",
      "[INFO] Adding column aperture_sum_110x18 to self.photometry_df\n",
      "[INFO] Adding column aperture_sum_91x19 to self.photometry_df\n",
      "[INFO] Adding column aperture_sum_92x19 to self.photometry_df\n",
      "[INFO] Adding column aperture_sum_93x19 to self.photometry_df\n",
      "[INFO] Adding column aperture_sum_94x19 to self.photometry_df\n",
      "[INFO] Adding column aperture_sum_95x19 to self.photometry_df\n",
      "[INFO] Adding column aperture_sum_96x19 to self.photometry_df\n",
      "[INFO] Adding column aperture_sum_97x19 to self.photometry_df\n",
      "[INFO] Adding column aperture_sum_98x19 to self.photometry_df\n",
      "[INFO] Adding column aperture_sum_99x19 to self.photometry_df\n",
      "[INFO] Adding column aperture_sum_100x19 to self.photometry_df\n",
      "[INFO] Adding column aperture_sum_101x19 to self.photometry_df\n",
      "[INFO] Adding column aperture_sum_102x19 to self.photometry_df\n",
      "[INFO] Adding column aperture_sum_103x19 to self.photometry_df\n",
      "[INFO] Adding column aperture_sum_104x19 to self.photometry_df\n",
      "[INFO] Adding column aperture_sum_105x19 to self.photometry_df\n",
      "[INFO] Adding column aperture_sum_106x19 to self.photometry_df\n",
      "[INFO] Adding column aperture_sum_107x19 to self.photometry_df\n",
      "[INFO] Adding column aperture_sum_108x19 to self.photometry_df\n",
      "[INFO] Adding column aperture_sum_109x19 to self.photometry_df\n",
      "[INFO] Adding column aperture_sum_110x19 to self.photometry_df\n",
      "[INFO] Adding column aperture_sum_91x20 to self.photometry_df\n",
      "[INFO] Adding column aperture_sum_92x20 to self.photometry_df\n",
      "[INFO] Adding column aperture_sum_93x20 to self.photometry_df\n",
      "[INFO] Adding column aperture_sum_94x20 to self.photometry_df\n",
      "[INFO] Adding column aperture_sum_95x20 to self.photometry_df\n",
      "[INFO] Adding column aperture_sum_96x20 to self.photometry_df\n",
      "[INFO] Adding column aperture_sum_97x20 to self.photometry_df\n",
      "[INFO] Adding column aperture_sum_98x20 to self.photometry_df\n",
      "[INFO] Adding column aperture_sum_99x20 to self.photometry_df\n",
      "[INFO] Adding column aperture_sum_100x20 to self.photometry_df\n",
      "[INFO] Adding column aperture_sum_101x20 to self.photometry_df\n",
      "[INFO] Adding column aperture_sum_102x20 to self.photometry_df\n",
      "[INFO] Adding column aperture_sum_103x20 to self.photometry_df\n",
      "[INFO] Adding column aperture_sum_104x20 to self.photometry_df\n",
      "[INFO] Adding column aperture_sum_105x20 to self.photometry_df\n",
      "[INFO] Adding column aperture_sum_106x20 to self.photometry_df\n",
      "[INFO] Adding column aperture_sum_107x20 to self.photometry_df\n",
      "[INFO] Adding column aperture_sum_108x20 to self.photometry_df\n",
      "[INFO] Adding column aperture_sum_109x20 to self.photometry_df\n",
      "[INFO] Adding column aperture_sum_110x20 to self.photometry_df\n",
      "[INFO] Adding column aperture_sum_92x21 to self.photometry_df\n",
      "[INFO] Adding column aperture_sum_93x21 to self.photometry_df\n",
      "[INFO] Adding column aperture_sum_94x21 to self.photometry_df\n",
      "[INFO] Adding column aperture_sum_95x21 to self.photometry_df\n",
      "[INFO] Adding column aperture_sum_97x21 to self.photometry_df\n",
      "[INFO] Adding column aperture_sum_98x21 to self.photometry_df\n",
      "[INFO] Adding column aperture_sum_99x21 to self.photometry_df\n",
      "[INFO] Adding column aperture_sum_100x21 to self.photometry_df\n",
      "[INFO] Adding column aperture_sum_102x21 to self.photometry_df\n",
      "[INFO] Adding column aperture_sum_103x21 to self.photometry_df\n",
      "[INFO] Adding column aperture_sum_104x21 to self.photometry_df\n",
      "[INFO] Adding column aperture_sum_105x21 to self.photometry_df\n",
      "[INFO] Adding column aperture_sum_106x21 to self.photometry_df\n",
      "[INFO] Adding column aperture_sum_107x21 to self.photometry_df\n",
      "[INFO] Adding column aperture_sum_108x21 to self.photometry_df\n",
      "[INFO] Adding column aperture_sum_109x21 to self.photometry_df\n",
      "[INFO] Adding column aperture_sum_110x21 to self.photometry_df\n",
      "[INFO] Adding column aperture_sum_91x22 to self.photometry_df\n",
      "[INFO] Adding column aperture_sum_92x22 to self.photometry_df\n",
      "[INFO] Adding column aperture_sum_93x22 to self.photometry_df\n",
      "[INFO] Adding column aperture_sum_94x22 to self.photometry_df\n",
      "[INFO] Adding column aperture_sum_95x22 to self.photometry_df\n",
      "[INFO] Adding column aperture_sum_96x22 to self.photometry_df\n",
      "[INFO] Adding column aperture_sum_97x22 to self.photometry_df\n",
      "[INFO] Adding column aperture_sum_98x22 to self.photometry_df\n",
      "[INFO] Adding column aperture_sum_99x22 to self.photometry_df\n",
      "[INFO] Adding column aperture_sum_100x22 to self.photometry_df\n",
      "[INFO] Adding column aperture_sum_101x22 to self.photometry_df\n",
      "[INFO] Adding column aperture_sum_102x22 to self.photometry_df\n",
      "[INFO] Adding column aperture_sum_103x22 to self.photometry_df\n",
      "[INFO] Adding column aperture_sum_104x22 to self.photometry_df\n",
      "[INFO] Adding column aperture_sum_105x22 to self.photometry_df\n",
      "[INFO] Adding column aperture_sum_106x22 to self.photometry_df\n",
      "[INFO] Adding column aperture_sum_107x22 to self.photometry_df\n",
      "[INFO] Adding column aperture_sum_108x22 to self.photometry_df\n",
      "[INFO] Adding column aperture_sum_109x22 to self.photometry_df\n",
      "[INFO] Adding column aperture_sum_110x22 to self.photometry_df\n",
      "[INFO] Adding column aperture_sum_91x23 to self.photometry_df\n",
      "[INFO] Adding column aperture_sum_92x23 to self.photometry_df\n",
      "[INFO] Adding column aperture_sum_93x23 to self.photometry_df\n",
      "[INFO] Adding column aperture_sum_94x23 to self.photometry_df\n",
      "[INFO] Adding column aperture_sum_95x23 to self.photometry_df\n",
      "[INFO] Adding column aperture_sum_96x23 to self.photometry_df\n"
     ]
    },
    {
     "name": "stdout",
     "output_type": "stream",
     "text": [
      "[INFO] Adding column aperture_sum_97x23 to self.photometry_df\n",
      "[INFO] Adding column aperture_sum_98x23 to self.photometry_df\n",
      "[INFO] Adding column aperture_sum_99x23 to self.photometry_df\n",
      "[INFO] Adding column aperture_sum_100x23 to self.photometry_df\n",
      "[INFO] Adding column aperture_sum_101x23 to self.photometry_df\n",
      "[INFO] Adding column aperture_sum_102x23 to self.photometry_df\n",
      "[INFO] Adding column aperture_sum_103x23 to self.photometry_df\n",
      "[INFO] Adding column aperture_sum_104x23 to self.photometry_df\n",
      "[INFO] Adding column aperture_sum_105x23 to self.photometry_df\n",
      "[INFO] Adding column aperture_sum_106x23 to self.photometry_df\n",
      "[INFO] Adding column aperture_sum_107x23 to self.photometry_df\n",
      "[INFO] Adding column aperture_sum_108x23 to self.photometry_df\n",
      "[INFO] Adding column aperture_sum_109x23 to self.photometry_df\n",
      "[INFO] Adding column aperture_sum_110x23 to self.photometry_df\n",
      "[INFO] Adding column aperture_sum_91x24 to self.photometry_df\n",
      "[INFO] Adding column aperture_sum_92x24 to self.photometry_df\n",
      "[INFO] Adding column aperture_sum_93x24 to self.photometry_df\n",
      "[INFO] Adding column aperture_sum_94x24 to self.photometry_df\n",
      "[INFO] Adding column aperture_sum_95x24 to self.photometry_df\n",
      "[INFO] Adding column aperture_sum_96x24 to self.photometry_df\n",
      "[INFO] Adding column aperture_sum_97x24 to self.photometry_df\n",
      "[INFO] Adding column aperture_sum_98x24 to self.photometry_df\n",
      "[INFO] Adding column aperture_sum_99x24 to self.photometry_df\n",
      "[INFO] Adding column aperture_sum_100x24 to self.photometry_df\n",
      "[INFO] Adding column aperture_sum_101x24 to self.photometry_df\n",
      "[INFO] Adding column aperture_sum_102x24 to self.photometry_df\n",
      "[INFO] Adding column aperture_sum_103x24 to self.photometry_df\n",
      "[INFO] Adding column aperture_sum_104x24 to self.photometry_df\n",
      "[INFO] Adding column aperture_sum_105x24 to self.photometry_df\n",
      "[INFO] Adding column aperture_sum_106x24 to self.photometry_df\n",
      "[INFO] Adding column aperture_sum_107x24 to self.photometry_df\n",
      "[INFO] Adding column aperture_sum_108x24 to self.photometry_df\n",
      "[INFO] Adding column aperture_sum_109x24 to self.photometry_df\n",
      "[INFO] Adding column aperture_sum_110x24 to self.photometry_df\n",
      "[INFO] Adding column aperture_sum_91x25 to self.photometry_df\n",
      "[INFO] Adding column aperture_sum_92x25 to self.photometry_df\n",
      "[INFO] Adding column aperture_sum_93x25 to self.photometry_df\n",
      "[INFO] Adding column aperture_sum_94x25 to self.photometry_df\n",
      "[INFO] Adding column aperture_sum_95x25 to self.photometry_df\n",
      "[INFO] Adding column aperture_sum_96x25 to self.photometry_df\n",
      "[INFO] Adding column aperture_sum_97x25 to self.photometry_df\n",
      "[INFO] Adding column aperture_sum_98x25 to self.photometry_df\n",
      "[INFO] Adding column aperture_sum_99x25 to self.photometry_df\n",
      "[INFO] Adding column aperture_sum_100x25 to self.photometry_df\n",
      "[INFO] Adding column aperture_sum_101x25 to self.photometry_df\n",
      "[INFO] Adding column aperture_sum_102x25 to self.photometry_df\n",
      "[INFO] Adding column aperture_sum_103x25 to self.photometry_df\n",
      "[INFO] Adding column aperture_sum_104x25 to self.photometry_df\n",
      "[INFO] Adding column aperture_sum_105x25 to self.photometry_df\n",
      "[INFO] Adding column aperture_sum_106x25 to self.photometry_df\n",
      "[INFO] Adding column aperture_sum_107x25 to self.photometry_df\n",
      "[INFO] Adding column aperture_sum_108x25 to self.photometry_df\n",
      "[INFO] Adding column aperture_sum_109x25 to self.photometry_df\n",
      "[INFO] Adding column aperture_sum_110x25 to self.photometry_df\n",
      "[INFO] Adding column aperture_sum_92x26 to self.photometry_df\n",
      "[INFO] Adding column aperture_sum_93x26 to self.photometry_df\n",
      "[INFO] Adding column aperture_sum_94x26 to self.photometry_df\n",
      "[INFO] Adding column aperture_sum_95x26 to self.photometry_df\n",
      "[INFO] Adding column aperture_sum_97x26 to self.photometry_df\n",
      "[INFO] Adding column aperture_sum_98x26 to self.photometry_df\n",
      "[INFO] Adding column aperture_sum_99x26 to self.photometry_df\n",
      "[INFO] Adding column aperture_sum_100x26 to self.photometry_df\n",
      "[INFO] Adding column aperture_sum_102x26 to self.photometry_df\n",
      "[INFO] Adding column aperture_sum_103x26 to self.photometry_df\n",
      "[INFO] Adding column aperture_sum_104x26 to self.photometry_df\n",
      "[INFO] Adding column aperture_sum_105x26 to self.photometry_df\n",
      "[INFO] Adding column aperture_sum_106x26 to self.photometry_df\n",
      "[INFO] Adding column aperture_sum_107x26 to self.photometry_df\n",
      "[INFO] Adding column aperture_sum_108x26 to self.photometry_df\n",
      "[INFO] Adding column aperture_sum_109x26 to self.photometry_df\n",
      "[INFO] Adding column aperture_sum_110x26 to self.photometry_df\n",
      "[INFO] Adding column aperture_sum_91x27 to self.photometry_df\n",
      "[INFO] Adding column aperture_sum_92x27 to self.photometry_df\n",
      "[INFO] Adding column aperture_sum_93x27 to self.photometry_df\n",
      "[INFO] Adding column aperture_sum_94x27 to self.photometry_df\n",
      "[INFO] Adding column aperture_sum_95x27 to self.photometry_df\n",
      "[INFO] Adding column aperture_sum_96x27 to self.photometry_df\n",
      "[INFO] Adding column aperture_sum_97x27 to self.photometry_df\n",
      "[INFO] Adding column aperture_sum_98x27 to self.photometry_df\n",
      "[INFO] Adding column aperture_sum_99x27 to self.photometry_df\n",
      "[INFO] Adding column aperture_sum_100x27 to self.photometry_df\n",
      "[INFO] Adding column aperture_sum_101x27 to self.photometry_df\n",
      "[INFO] Adding column aperture_sum_102x27 to self.photometry_df\n",
      "[INFO] Adding column aperture_sum_103x27 to self.photometry_df\n",
      "[INFO] Adding column aperture_sum_104x27 to self.photometry_df\n",
      "[INFO] Adding column aperture_sum_105x27 to self.photometry_df\n",
      "[INFO] Adding column aperture_sum_106x27 to self.photometry_df\n",
      "[INFO] Adding column aperture_sum_107x27 to self.photometry_df\n",
      "[INFO] Adding column aperture_sum_108x27 to self.photometry_df\n",
      "[INFO] Adding column aperture_sum_109x27 to self.photometry_df\n",
      "[INFO] Adding column aperture_sum_110x27 to self.photometry_df\n",
      "[INFO] Adding column aperture_sum_91x28 to self.photometry_df\n",
      "[INFO] Adding column aperture_sum_92x28 to self.photometry_df\n",
      "[INFO] Adding column aperture_sum_93x28 to self.photometry_df\n",
      "[INFO] Adding column aperture_sum_94x28 to self.photometry_df\n",
      "[INFO] Adding column aperture_sum_95x28 to self.photometry_df\n",
      "[INFO] Adding column aperture_sum_96x28 to self.photometry_df\n",
      "[INFO] Adding column aperture_sum_97x28 to self.photometry_df\n",
      "[INFO] Adding column aperture_sum_98x28 to self.photometry_df\n",
      "[INFO] Adding column aperture_sum_99x28 to self.photometry_df\n",
      "[INFO] Adding column aperture_sum_100x28 to self.photometry_df\n",
      "[INFO] Adding column aperture_sum_101x28 to self.photometry_df\n",
      "[INFO] Adding column aperture_sum_102x28 to self.photometry_df\n",
      "[INFO] Adding column aperture_sum_103x28 to self.photometry_df\n",
      "[INFO] Adding column aperture_sum_104x28 to self.photometry_df\n",
      "[INFO] Adding column aperture_sum_105x28 to self.photometry_df\n",
      "[INFO] Adding column aperture_sum_106x28 to self.photometry_df\n",
      "[INFO] Adding column aperture_sum_107x28 to self.photometry_df\n",
      "[INFO] Adding column aperture_sum_108x28 to self.photometry_df\n",
      "[INFO] Adding column aperture_sum_109x28 to self.photometry_df\n",
      "[INFO] Adding column aperture_sum_110x28 to self.photometry_df\n",
      "[INFO] Adding column aperture_sum_91x29 to self.photometry_df\n",
      "[INFO] Adding column aperture_sum_92x29 to self.photometry_df\n",
      "[INFO] Adding column aperture_sum_93x29 to self.photometry_df\n",
      "[INFO] Adding column aperture_sum_94x29 to self.photometry_df\n",
      "[INFO] Adding column aperture_sum_95x29 to self.photometry_df\n",
      "[INFO] Adding column aperture_sum_96x29 to self.photometry_df\n",
      "[INFO] Adding column aperture_sum_97x29 to self.photometry_df\n",
      "[INFO] Adding column aperture_sum_98x29 to self.photometry_df\n",
      "[INFO] Adding column aperture_sum_99x29 to self.photometry_df\n",
      "[INFO] Adding column aperture_sum_100x29 to self.photometry_df\n",
      "[INFO] Adding column aperture_sum_101x29 to self.photometry_df\n",
      "[INFO] Adding column aperture_sum_102x29 to self.photometry_df\n",
      "[INFO] Adding column aperture_sum_103x29 to self.photometry_df\n",
      "[INFO] Adding column aperture_sum_104x29 to self.photometry_df\n",
      "[INFO] Adding column aperture_sum_105x29 to self.photometry_df\n",
      "[INFO] Adding column aperture_sum_106x29 to self.photometry_df\n",
      "[INFO] Adding column aperture_sum_107x29 to self.photometry_df\n",
      "[INFO] Adding column aperture_sum_108x29 to self.photometry_df\n",
      "[INFO] Adding column aperture_sum_109x29 to self.photometry_df\n",
      "[INFO] Adding column aperture_sum_110x29 to self.photometry_df\n"
     ]
    },
    {
     "name": "stdout",
     "output_type": "stream",
     "text": [
      "[INFO] Adding column aperture_sum_91x30 to self.photometry_df\n",
      "[INFO] Adding column aperture_sum_92x30 to self.photometry_df\n",
      "[INFO] Adding column aperture_sum_93x30 to self.photometry_df\n",
      "[INFO] Adding column aperture_sum_94x30 to self.photometry_df\n",
      "[INFO] Adding column aperture_sum_95x30 to self.photometry_df\n",
      "[INFO] Adding column aperture_sum_96x30 to self.photometry_df\n",
      "[INFO] Adding column aperture_sum_97x30 to self.photometry_df\n",
      "[INFO] Adding column aperture_sum_98x30 to self.photometry_df\n",
      "[INFO] Adding column aperture_sum_99x30 to self.photometry_df\n",
      "[INFO] Adding column aperture_sum_100x30 to self.photometry_df\n",
      "[INFO] Adding column aperture_sum_101x30 to self.photometry_df\n",
      "[INFO] Adding column aperture_sum_102x30 to self.photometry_df\n",
      "[INFO] Adding column aperture_sum_103x30 to self.photometry_df\n",
      "[INFO] Adding column aperture_sum_104x30 to self.photometry_df\n",
      "[INFO] Adding column aperture_sum_105x30 to self.photometry_df\n",
      "[INFO] Adding column aperture_sum_106x30 to self.photometry_df\n",
      "[INFO] Adding column aperture_sum_107x30 to self.photometry_df\n",
      "[INFO] Adding column aperture_sum_108x30 to self.photometry_df\n",
      "[INFO] Adding column aperture_sum_109x30 to self.photometry_df\n",
      "[INFO] Adding column aperture_sum_110x30 to self.photometry_df\n"
     ]
    }
   ],
   "source": [
    "planet.do_multi_phot(fine_aper_widths, fine_aper_heights)"
   ]
  },
  {
   "cell_type": "code",
   "execution_count": 15,
   "id": "6d6f7c8a",
   "metadata": {},
   "outputs": [],
   "source": [
    "planet_fine_photometry_df = planet.photometry_df.copy()"
   ]
  },
  {
   "cell_type": "code",
   "execution_count": 16,
   "id": "df7dc268",
   "metadata": {},
   "outputs": [],
   "source": [
    "fine_snr_lightcurves = create_raw_lc_stddev(planet)\n",
    "fine_min_snr = fine_snr_lightcurves[fine_snr_lightcurves.argmin()]\n",
    "fine_min_snr_colname = planet.photometry_df.columns[fine_snr_lightcurves.argmin()]\n",
    "fine_min_snr_flux = planet.normed_photometry_df[fine_min_snr_colname]\n",
    "fine_min_snr_uncs = planet.normed_uncertainty_df[fine_min_snr_colname]\n",
    "fine_temp = fine_min_snr_colname.split('_')[-1].split('x')\n",
    "fine_min_snr_aper_width, fine_min_snr_aper_height = np.int32(fine_temp)"
   ]
  },
  {
   "cell_type": "code",
   "execution_count": 17,
   "id": "633d7c36",
   "metadata": {},
   "outputs": [
    {
     "name": "stdout",
     "output_type": "stream",
     "text": [
      "[INFO] Fine Aperture Photometry Resulted in 531ppm with 110x21 aperture size; with median uncertainties of 188 ppm\n"
     ]
    }
   ],
   "source": [
    "info_message(f'Fine Aperture Photometry Resulted in {fine_min_snr:0.0f}ppm with '\n",
    "             f'{fine_min_snr_aper_width}x{fine_min_snr_aper_height} aperture size; '\n",
    "             f'with median uncertainties of {np.median(fine_min_snr_uncs)*1e6:0.0f} ppm')"
   ]
  },
  {
   "cell_type": "code",
   "execution_count": 18,
   "id": "5e53285f",
   "metadata": {},
   "outputs": [
    {
     "data": {
      "text/html": [
       "<div>\n",
       "<style scoped>\n",
       "    .dataframe tbody tr th:only-of-type {\n",
       "        vertical-align: middle;\n",
       "    }\n",
       "\n",
       "    .dataframe tbody tr th {\n",
       "        vertical-align: top;\n",
       "    }\n",
       "\n",
       "    .dataframe thead th {\n",
       "        text-align: right;\n",
       "    }\n",
       "</style>\n",
       "<table border=\"1\" class=\"dataframe\">\n",
       "  <thead>\n",
       "    <tr style=\"text-align: right;\">\n",
       "      <th></th>\n",
       "      <th>flux</th>\n",
       "      <th>unc</th>\n",
       "      <th>times</th>\n",
       "    </tr>\n",
       "  </thead>\n",
       "  <tbody>\n",
       "    <tr>\n",
       "      <th>0</th>\n",
       "      <td>0.999615</td>\n",
       "      <td>0.000190</td>\n",
       "      <td>59483.485144</td>\n",
       "    </tr>\n",
       "    <tr>\n",
       "      <th>1</th>\n",
       "      <td>0.999830</td>\n",
       "      <td>0.000186</td>\n",
       "      <td>59483.486024</td>\n",
       "    </tr>\n",
       "    <tr>\n",
       "      <th>2</th>\n",
       "      <td>0.999866</td>\n",
       "      <td>0.000190</td>\n",
       "      <td>59483.486904</td>\n",
       "    </tr>\n",
       "    <tr>\n",
       "      <th>3</th>\n",
       "      <td>1.000191</td>\n",
       "      <td>0.000186</td>\n",
       "      <td>59483.487783</td>\n",
       "    </tr>\n",
       "    <tr>\n",
       "      <th>4</th>\n",
       "      <td>0.999520</td>\n",
       "      <td>0.000189</td>\n",
       "      <td>59483.488663</td>\n",
       "    </tr>\n",
       "    <tr>\n",
       "      <th>...</th>\n",
       "      <td>...</td>\n",
       "      <td>...</td>\n",
       "      <td>...</td>\n",
       "    </tr>\n",
       "    <tr>\n",
       "      <th>89</th>\n",
       "      <td>1.000687</td>\n",
       "      <td>0.000186</td>\n",
       "      <td>59483.639577</td>\n",
       "    </tr>\n",
       "    <tr>\n",
       "      <th>90</th>\n",
       "      <td>1.000626</td>\n",
       "      <td>0.000190</td>\n",
       "      <td>59483.640457</td>\n",
       "    </tr>\n",
       "    <tr>\n",
       "      <th>91</th>\n",
       "      <td>1.000983</td>\n",
       "      <td>0.000186</td>\n",
       "      <td>59483.641336</td>\n",
       "    </tr>\n",
       "    <tr>\n",
       "      <th>92</th>\n",
       "      <td>1.000168</td>\n",
       "      <td>0.000190</td>\n",
       "      <td>59483.642216</td>\n",
       "    </tr>\n",
       "    <tr>\n",
       "      <th>93</th>\n",
       "      <td>0.999979</td>\n",
       "      <td>0.000186</td>\n",
       "      <td>59483.643095</td>\n",
       "    </tr>\n",
       "  </tbody>\n",
       "</table>\n",
       "<p>94 rows × 3 columns</p>\n",
       "</div>"
      ],
      "text/plain": [
       "        flux       unc         times\n",
       "0   0.999615  0.000190  59483.485144\n",
       "1   0.999830  0.000186  59483.486024\n",
       "2   0.999866  0.000190  59483.486904\n",
       "3   1.000191  0.000186  59483.487783\n",
       "4   0.999520  0.000189  59483.488663\n",
       "..       ...       ...           ...\n",
       "89  1.000687  0.000186  59483.639577\n",
       "90  1.000626  0.000190  59483.640457\n",
       "91  1.000983  0.000186  59483.641336\n",
       "92  1.000168  0.000190  59483.642216\n",
       "93  0.999979  0.000186  59483.643095\n",
       "\n",
       "[94 rows x 3 columns]"
      ]
     },
     "execution_count": 18,
     "metadata": {},
     "output_type": "execute_result"
    }
   ],
   "source": [
    "data_df = pd.DataFrame()\n",
    "data_df['flux'] = fine_min_snr_flux.values\n",
    "data_df['unc'] = fine_min_snr_uncs.values\n",
    "data_df['times'] = planet.times\n",
    "idx_fwd = planet.idx_fwd\n",
    "idx_rev = planet.idx_rev\n",
    "# data_df.sort_values('times', inplace=True)\n",
    "# data_df = data_df.reset_index()\n",
    "# data_df.drop(['index'], axis=1, inplace=True)\n",
    "data_df"
   ]
  },
  {
   "cell_type": "code",
   "execution_count": 19,
   "id": "b88e5766",
   "metadata": {},
   "outputs": [
    {
     "data": {
      "image/png": "[encoded data removed]",
      "text/plain": [
       "<Figure size 432x288 with 1 Axes>"
      ]
     },
     "metadata": {
      "needs_background": "light"
     },
     "output_type": "display_data"
    }
   ],
   "source": [
    "# Compute a limb-darkened light curve using starry\n",
    "t = data_df['times']*86400\n",
    "u = []\n",
    "flux = data_df['flux']\n",
    "yerr = data_df['unc']\n",
    "# Note: the `eval` is needed because this is using Theano in\n",
    "# the background\n",
    "\n",
    "plt.errorbar(t[idx_fwd], flux[idx_fwd], yerr[idx_fwd], fmt='o', color=\"b\")\n",
    "plt.errorbar(t[idx_rev], flux[idx_rev], yerr[idx_rev], fmt='o', color=\"r\")\n",
    "plt.axhline(1.0, ls='--', color='C1')\n",
    "plt.ylabel(\"relative flux\")\n",
    "plt.xlabel(\"time [seconds]\")\n",
    "plt.xlim(t.min(), t.max());"
   ]
  },
  {
   "cell_type": "code",
   "execution_count": 20,
   "id": "5175221d",
   "metadata": {},
   "outputs": [],
   "source": [
    "fluxppm = (data_df['flux'] - 1)*1e6"
   ]
  },
  {
   "cell_type": "code",
   "execution_count": 21,
   "id": "ec2a50e1",
   "metadata": {},
   "outputs": [
    {
     "data": {
      "image/png": "[encoded data removed]",
      "text/plain": [
       "<Figure size 432x288 with 1 Axes>"
      ]
     },
     "metadata": {
      "needs_background": "light"
     },
     "output_type": "display_data"
    }
   ],
   "source": [
    "plt.errorbar(t[idx_fwd], fluxppm[idx_fwd], yerr[idx_fwd], fmt='o', color=\"b\")\n",
    "plt.errorbar(t[idx_rev], fluxppm[idx_rev], yerr[idx_rev], fmt='o', color=\"r\")\n",
    "plt.axhline(1.0, ls='--', color='C1')\n",
    "plt.ylabel(\"flux (ppm)\")\n",
    "plt.xlabel(\"time [seconds]\")\n",
    "plt.xlim(t.min(), t.max());"
   ]
  },
  {
   "cell_type": "code",
   "execution_count": 22,
   "id": "6c5d46a3",
   "metadata": {},
   "outputs": [
    {
     "name": "stdout",
     "output_type": "stream",
     "text": [
      "code took 12.128080483277639 minutes\n"
     ]
    }
   ],
   "source": [
    "print(\"code took\", (time.time()-start_time)/60, \"minutes\")"
   ]
  },
  {
   "cell_type": "code",
   "execution_count": 23,
   "id": "7f7ae6d8",
   "metadata": {},
   "outputs": [
    {
     "data": {
      "text/plain": [
       "Text(0.5, 0, 'time [seconds]')"
      ]
     },
     "execution_count": 23,
     "metadata": {},
     "output_type": "execute_result"
    },
    {
     "data": {
      "image/png": "[encoded data removed]",
      "text/plain": [
       "<Figure size 432x288 with 1 Axes>"
      ]
     },
     "metadata": {
      "needs_background": "light"
     },
     "output_type": "display_data"
    }
   ],
   "source": [
    "plt.axvline(11145.2654766+t.min(), color = 'g', label = 'axvline - full height') #Middle of transit\n",
    "plt.axvline(11145.2654766+t.min()+868.32, color = 'b', label = 'axvline - full height')\n",
    "plt.axvline(11145.2654766+t.min()-868.32, color = 'b', label = 'axvline - full height')\n",
    "plt.errorbar(t[idx_fwd], fluxppm[idx_fwd], yerr[idx_fwd], fmt='o', color=\"b\")\n",
    "plt.errorbar(t[idx_rev], fluxppm[idx_rev], yerr[idx_rev], fmt='o', color=\"r\")\n",
    "plt.axhline(1.0, ls='--', color='C1')\n",
    "plt.ylabel(\"flux (ppm)\")\n",
    "plt.xlabel(\"time [seconds]\")\n",
    "# plt.xlim(t.min(), t.max());\n",
    "\n",
    "#It's weird that the third set of data doesn't seem to act like the a-data. I am confuzled"
   ]
  },
  {
   "cell_type": "code",
   "execution_count": 24,
   "id": "050b75e4",
   "metadata": {},
   "outputs": [
    {
     "name": "stdout",
     "output_type": "stream",
     "text": [
      "5139373116.453695\n"
     ]
    }
   ],
   "source": [
    "print(t.min())"
   ]
  },
  {
   "cell_type": "code",
   "execution_count": 25,
   "id": "e1ac53b1",
   "metadata": {},
   "outputs": [
    {
     "data": {
      "text/plain": [
       "Text(0.5, 0, 'time [seconds]')"
      ]
     },
     "execution_count": 25,
     "metadata": {},
     "output_type": "execute_result"
    },
    {
     "data": {
      "image/png": "[encoded data removed]",
      "text/plain": [
       "<Figure size 432x288 with 1 Axes>"
      ]
     },
     "metadata": {
      "needs_background": "light"
     },
     "output_type": "display_data"
    }
   ],
   "source": [
    "#Ariel's Calculation... This would be great for explaining the data if it were true, but it looks like it doesn't actually\n",
    "#line up with one transit after the a-data\n",
    "\n",
    "plt.axvline(20109+t.min(), color = 'g', label = 'axvline - full height') #Middle of transit\n",
    "plt.axvline(20109+t.min()+868.32, color = 'b', label = 'axvline - full height')\n",
    "plt.axvline(20109+t.min()-868.32, color = 'b', label = 'axvline - full height')\n",
    "plt.errorbar(t[idx_fwd], fluxppm[idx_fwd], yerr[idx_fwd], fmt='o', color=\"b\")\n",
    "plt.errorbar(t[idx_rev], fluxppm[idx_rev], yerr[idx_rev], fmt='o', color=\"r\")\n",
    "plt.axhline(1.0, ls='--', color='C1')\n",
    "plt.ylabel(\"flux (ppm)\")\n",
    "plt.xlabel(\"time [seconds]\")\n",
    "# plt.xlim(t.min(), t.max());"
   ]
  },
  {
   "cell_type": "code",
   "execution_count": 26,
   "id": "6944b01e",
   "metadata": {},
   "outputs": [
    {
     "data": {
      "text/plain": [
       "Text(0.5, 0, 'time [seconds]')"
      ]
     },
     "execution_count": 26,
     "metadata": {},
     "output_type": "execute_result"
    },
    {
     "data": {
      "image/png": "[encoded data removed]",
      "text/plain": [
       "<Figure size 432x288 with 1 Axes>"
      ]
     },
     "metadata": {
      "needs_background": "light"
     },
     "output_type": "display_data"
    }
   ],
   "source": [
    "#Attempted 1 period after Ariel's 'a' max\n",
    "\n",
    "plt.axvline(12718+t.min(), color = 'g', label = 'axvline - full height') #Middle of transit\n",
    "plt.axvline(12718+t.min()+868.32, color = 'b', label = 'axvline - full height')\n",
    "plt.axvline(12718+t.min()-868.32, color = 'b', label = 'axvline - full height')\n",
    "plt.errorbar(t[idx_fwd], fluxppm[idx_fwd], yerr[idx_fwd], fmt='o', color=\"b\")\n",
    "plt.errorbar(t[idx_rev], fluxppm[idx_rev], yerr[idx_rev], fmt='o', color=\"r\")\n",
    "plt.axhline(1.0, ls='--', color='C1')\n",
    "plt.ylabel(\"flux (ppm)\")\n",
    "plt.xlabel(\"time [seconds]\")\n",
    "# plt.xlim(t.min(), t.max());"
   ]
  },
  {
   "cell_type": "code",
   "execution_count": 29,
   "id": "5dc094e9",
   "metadata": {},
   "outputs": [],
   "source": [
    "# -*- coding: utf-8 -*-\n",
    "\"\"\"\n",
    "Created on Wed Sep  9 11:49:59 2020\n",
    "\n",
    "@author: Trevor\n",
    "\"\"\"\n",
    "import numpy as np\n",
    "import matplotlib.pyplot as plt\n",
    "import pickle\n",
    "from skyfield.api import load\n",
    "from astropy.time import Time\n",
    "from barycorrpy import utc_tdb\n",
    "\n",
    "###########   Working Directory   #####################   \n",
    "\n",
    "\n",
    "def mjd_bjd(MJD_UTC, flux, flux_err, raDeg, decDeg):\n",
    "    #fpath='/Users/Trevor/Pythoncode/HST/WASP79/W79_data/'\n",
    "    fpath = base_dir\n",
    "#     fileObject = open(fpath+'wlc_extract_out', 'rb')\n",
    "#     print(fileObject)\n",
    "#     MJD_UTC, flux, flux_err, raDeg, decDeg, scidata_0, scidata, xybox = pickle.load(fileObject)\n",
    "#     fileObject.close()\n",
    "    \n",
    "    stations_url = 'http://celestrak.com/NORAD/elements/science.txt'\n",
    "    satellites = load.tle_file(stations_url)\n",
    "    by_name = {sat.name: sat for sat in satellites}\n",
    "    satellite = by_name['HST']\n",
    "    print(satellite)\n",
    "    \n",
    "    # MJDUTC in correct format for datetime64\n",
    "    MJDUTC_dt = Time(MJD_UTC, format='mjd', scale='utc')\n",
    "    yrs =[]\n",
    "    mths = []\n",
    "    days = []\n",
    "    hours = []\n",
    "    mins = []\n",
    "    secs = []\n",
    "    \n",
    "    for i in np.arange(len(MJDUTC_dt)):\n",
    "        tt = MJDUTC_dt[i].datetime64\n",
    "        yrss = tt.astype('datetime64[Y]')\n",
    "        MM = tt.astype('datetime64[M]')\n",
    "        mthss = MM-yrss\n",
    "        dd = tt.astype('datetime64[D]')\n",
    "        dayss = dd-MM\n",
    "        hh = tt.astype('datetime64[h]')\n",
    "        hourss = hh-dd\n",
    "        mm = tt.astype('datetime64[m]')\n",
    "        minss = mm-hh\n",
    "        ss = tt.astype('datetime64[ns]')\n",
    "        secss = ss-mm\n",
    "    \n",
    "        yrs.append(yrss.astype(int)+1970)\n",
    "        mths.append(mthss.astype(int)+1)\n",
    "        days.append(dayss.astype(int)+1)\n",
    "        hours.append(hourss.astype(int))\n",
    "        mins.append(minss.astype(int))\n",
    "        secs.append(secss.astype('float')*1e-9)\n",
    "    \n",
    "    ts = load.timescale(builtin=True)\n",
    "    \n",
    "    tmin = ts.utc(yrs,mths,days,hours,mins,secs) \n",
    "    geocentric = satellite.at(tmin)\n",
    "    subpoint = geocentric.subpoint()\n",
    "    lati = subpoint.latitude.degrees\n",
    "    longit = subpoint.longitude.degrees\n",
    "    elevation = subpoint.elevation.m\n",
    "    \n",
    "    for i in np.arange(len(elevation)):\n",
    "        elevation[i] = int(elevation[i])\n",
    "        \n",
    "    JDUTC = MJD_UTC + 2400000.5\n",
    "    results=[]\n",
    "    for i in np.arange(len(JDUTC)):\n",
    "        results.append(utc_tdb.JDUTC_to_BJDTDB(JDUTC[i], ra= raDeg, dec = decDeg, \n",
    "                                               lat=lati[i], longi=longit[i], \n",
    "                                               alt=elevation[i]))\n",
    "        if i % 12 == 0:\n",
    "                print(i)\n",
    "    \n",
    "    BJD_TDB=[]\n",
    "    for i in np.arange(len(results)):\n",
    "        BJD_TDB.append(float(results[i][0]))\n",
    "    BJD_TDB = np.array(BJD_TDB)\n",
    "    \n",
    "    plt.figure()\n",
    "    plt.errorbar(BJD_TDB, flux, flux_err, fmt='o', color='k')\n",
    "    plt.xlabel('Time ($BJD_{TDB}$)')\n",
    "    plt.ylabel('Flux (e$^-$)')\n",
    "    plt.show()\n",
    "\n",
    "#     outpath = fpath                                                                                #Commented this out\n",
    "#     fileObject = open(outpath+'BJD_TDB', 'wb')\n",
    "#     pickle.dump([BJD_TDB, flux, flux_err], fileObject)\n",
    "#     fileObject.close()    \n",
    "    \n",
    "    return BJD_TDB"
   ]
  },
  {
   "cell_type": "code",
   "execution_count": 30,
   "id": "3f7898ba",
   "metadata": {},
   "outputs": [
    {
     "name": "stdout",
     "output_type": "stream",
     "text": [
      "HST catalog #20580 epoch 2022-05-11 12:12:42 UTC\n",
      "0\n",
      "12\n",
      "24\n",
      "36\n"
     ]
    },
    {
     "data": {
      "image/png": "[encoded data removed]",
      "text/plain": [
       "<Figure size 432x288 with 1 Axes>"
      ]
     },
     "metadata": {
      "needs_background": "light"
     },
     "output_type": "display_data"
    },
    {
     "name": "stdout",
     "output_type": "stream",
     "text": [
      "HST catalog #20580 epoch 2022-05-11 12:12:42 UTC\n",
      "0\n",
      "12\n",
      "24\n",
      "36\n"
     ]
    },
    {
     "data": {
      "image/png": "[encoded data removed]",
      "text/plain": [
       "<Figure size 432x288 with 1 Axes>"
      ]
     },
     "metadata": {
      "needs_background": "light"
     },
     "output_type": "display_data"
    }
   ],
   "source": [
    "# tbjd = data_df['times']\n",
    "# tbjd[idx_fwd]\n",
    "t = data_df['times']\n",
    "u = []\n",
    "flux = data_df['flux']\n",
    "yerr = data_df['unc']\n",
    "\n",
    "hdul = fits.open(get_pkg_data_filename(glob.glob(base_dir+'/*fits')[1]))\n",
    "raDeg = hdul[0].header['RA_TARG']\n",
    "decDeg = hdul[0].header['DEC_TARG']\n",
    "# timefwd_bjd = mjd_bjd(tbjd[idx_fwd], flux[idx_fwd], yerr[idx_fwd], raDeg, decDeg)\n",
    "timefwd_bjd = mjd_bjd(t[idx_fwd].reset_index(drop=True), fluxppm[idx_fwd].reset_index(drop=True), yerr[idx_fwd].reset_index(drop=True), raDeg, decDeg)\n",
    "timerev_bjd = mjd_bjd(t[idx_rev].reset_index(drop=True), fluxppm[idx_rev].reset_index(drop=True), yerr[idx_rev].reset_index(drop=True), raDeg, decDeg)"
   ]
  },
  {
   "cell_type": "code",
   "execution_count": null,
   "id": "da26fcd7",
   "metadata": {},
   "outputs": [],
   "source": [
    "# t[idx_fwd].reset_index(drop=True)"
   ]
  },
  {
   "cell_type": "code",
   "execution_count": 31,
   "id": "97dff8c5",
   "metadata": {},
   "outputs": [
    {
     "data": {
      "text/plain": [
       "Text(0.5, 0, 'time [days]')"
      ]
     },
     "execution_count": 31,
     "metadata": {},
     "output_type": "execute_result"
    },
    {
     "data": {
      "image/png": "[encoded data removed]",
      "text/plain": [
       "<Figure size 432x288 with 1 Axes>"
      ]
     },
     "metadata": {
      "needs_background": "light"
     },
     "output_type": "display_data"
    }
   ],
   "source": [
    "plt.errorbar(timefwd_bjd, flux[idx_fwd], yerr[idx_fwd], fmt='o', color=\"b\")\n",
    "plt.errorbar(timerev_bjd, flux[idx_rev], yerr[idx_rev], fmt='o', color=\"r\")\n",
    "plt.axhline(1.0, ls='--', color='C1')\n",
    "plt.ylabel(\"relative flux\")\n",
    "plt.xlabel(\"time [days]\")\n",
    "# plt.xlim(t.min(), t.max());"
   ]
  },
  {
   "cell_type": "code",
   "execution_count": 32,
   "id": "cfdde8da",
   "metadata": {},
   "outputs": [
    {
     "name": "stdout",
     "output_type": "stream",
     "text": [
      "rev\n"
     ]
    }
   ],
   "source": [
    "if timefwd_bjd.max() < timerev_bjd.max():\n",
    "    print('rev')"
   ]
  },
  {
   "cell_type": "code",
   "execution_count": 33,
   "id": "af259e92",
   "metadata": {},
   "outputs": [
    {
     "name": "stdout",
     "output_type": "stream",
     "text": [
      "2459484.0804905\n"
     ]
    }
   ],
   "source": [
    "Tcon = 2458412.58159\n",
    "Period = 3.1239035\n",
    "Con = 0\n",
    "for i in range(400):\n",
    "    if Tcon + Period*i > timefwd_bjd.min():\n",
    "        if Tcon + Period*i < timerev_bjd.max():\n",
    "            Con = Tcon + Period*i\n",
    "            print(Con)"
   ]
  },
  {
   "cell_type": "code",
   "execution_count": 34,
   "id": "02c1e4c6",
   "metadata": {},
   "outputs": [
    {
     "data": {
      "text/plain": [
       "Text(0.5, 0, 'time [days]')"
      ]
     },
     "execution_count": 34,
     "metadata": {},
     "output_type": "execute_result"
    },
    {
     "data": {
      "image/png": "[encoded data removed]",
      "text/plain": [
       "<Figure size 432x288 with 1 Axes>"
      ]
     },
     "metadata": {
      "needs_background": "light"
     },
     "output_type": "display_data"
    }
   ],
   "source": [
    "Transit = 0.0201\n",
    "plt.axvline(Con, color = 'g', label = 'axvline - full height') #Middle of transit\n",
    "plt.axvline(Con+Transit/2, color = 'b', label = 'axvline - full height')\n",
    "plt.axvline(Con-Transit/2, color = 'b', label = 'axvline - full height')\n",
    "plt.errorbar(timefwd_bjd, flux[idx_fwd], yerr[idx_fwd], fmt='o', color=\"b\")\n",
    "plt.errorbar(timerev_bjd, flux[idx_rev], yerr[idx_rev], fmt='o', color=\"r\")\n",
    "plt.axhline(1.0, ls='--', color='C1')\n",
    "plt.ylabel(\"relative flux\")\n",
    "plt.xlabel(\"time [days]\")"
   ]
  },
  {
   "cell_type": "code",
   "execution_count": null,
   "id": "1b54e372",
   "metadata": {},
   "outputs": [],
   "source": []
  }
 ],
 "metadata": {
  "kernelspec": {
   "display_name": "Python 3 (ipykernel)",
   "language": "python",
   "name": "python3"
  },
  "language_info": {
   "codemirror_mode": {
    "name": "ipython",
    "version": 3
   },
   "file_extension": ".py",
   "mimetype": "text/x-python",
   "name": "python",
   "nbconvert_exporter": "python",
   "pygments_lexer": "ipython3",
   "version": "3.9.7"
  }
 },
 "nbformat": 4,
 "nbformat_minor": 5
}
