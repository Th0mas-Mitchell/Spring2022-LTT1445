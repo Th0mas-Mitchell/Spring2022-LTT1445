{
 "cells": [
  {
   "cell_type": "code",
   "execution_count": 101,
   "id": "711f1e2d",
   "metadata": {},
   "outputs": [],
   "source": [
    "import glob\n",
    "\n",
    "from PIL import Image\n",
    "\n",
    "\n",
    "def make_gif(frame_folder):\n",
    "    frames = [Image.open(image) for image in glob.glob(frame_folder+'*jpg')]\n",
    "    frame_one = frames[0]\n",
    "    frame_one.save(\"LTT1445_2ndEpoch.gif\", format=\"GIF\", append_images=frames,\n",
    "               save_all=True, duration=100, loop=0)\n",
    "    \n",
    "\n",
    "if __name__ == \"__main__\":\n",
    "    make_gif(\"/home/thomas/desktop/LTT1445_fits_files/Test/Tes2/images/\")"
   ]
  },
  {
   "cell_type": "code",
   "execution_count": 89,
   "id": "fbcc0b3e",
   "metadata": {},
   "outputs": [
    {
     "data": {
      "text/plain": [
       "['/home/thomas/desktop/LTT1445_fits_files/Test/Tes2/images/iejra2k8q_flt.fits.jpg',\n",
       " '/home/thomas/desktop/LTT1445_fits_files/Test/Tes2/images/iejra2jnq_flt.fits.jpg',\n",
       " '/home/thomas/desktop/LTT1445_fits_files/Test/Tes2/images/iejra2jlq_flt.fits.jpg',\n",
       " '/home/thomas/desktop/LTT1445_fits_files/Test/Tes2/images/iejra2l2q_flt.fits.jpg',\n",
       " '/home/thomas/desktop/LTT1445_fits_files/Test/Tes2/images/iejra2laq_flt.fits.jpg',\n",
       " '/home/thomas/desktop/LTT1445_fits_files/Test/Tes2/images/iejra2lkq_flt.fits.jpg',\n",
       " '/home/thomas/desktop/LTT1445_fits_files/Test/Tes2/images/iejra2kzq_flt.fits.jpg',\n",
       " '/home/thomas/desktop/LTT1445_fits_files/Test/Tes2/images/iejra2kvq_flt.fits.jpg',\n",
       " '/home/thomas/desktop/LTT1445_fits_files/Test/Tes2/images/iejra2jxq_flt.fits.jpg',\n",
       " '/home/thomas/desktop/LTT1445_fits_files/Test/Tes2/images/iejra2k5q_flt.fits.jpg',\n",
       " '/home/thomas/desktop/LTT1445_fits_files/Test/Tes2/images/iejra2k1q_flt.fits.jpg',\n",
       " '/home/thomas/desktop/LTT1445_fits_files/Test/Tes2/images/iejra2jrq_flt.fits.jpg',\n",
       " '/home/thomas/desktop/LTT1445_fits_files/Test/Tes2/images/iejra2liq_flt.fits.jpg',\n",
       " '/home/thomas/desktop/LTT1445_fits_files/Test/Tes2/images/iejra2l6q_flt.fits.jpg',\n",
       " '/home/thomas/desktop/LTT1445_fits_files/Test/Tes2/images/iejra2l7q_flt.fits.jpg',\n",
       " '/home/thomas/desktop/LTT1445_fits_files/Test/Tes2/images/iejra2krq_flt.fits.jpg',\n",
       " '/home/thomas/desktop/LTT1445_fits_files/Test/Tes2/images/iejra2kdq_flt.fits.jpg',\n",
       " '/home/thomas/desktop/LTT1445_fits_files/Test/Tes2/images/iejra2juq_flt.fits.jpg',\n",
       " '/home/thomas/desktop/LTT1445_fits_files/Test/Tes2/images/iejra2jeq_flt.fits.jpg',\n",
       " '/home/thomas/desktop/LTT1445_fits_files/Test/Tes2/images/iejra2loq_flt.fits.jpg',\n",
       " '/home/thomas/desktop/LTT1445_fits_files/Test/Tes2/images/iejra2kpq_flt.fits.jpg',\n",
       " '/home/thomas/desktop/LTT1445_fits_files/Test/Tes2/images/iejra2k6q_flt.fits.jpg',\n",
       " '/home/thomas/desktop/LTT1445_fits_files/Test/Tes2/images/iejra2lvq_flt.fits.jpg',\n",
       " '/home/thomas/desktop/LTT1445_fits_files/Test/Tes2/images/iejra2l4q_flt.fits.jpg',\n",
       " '/home/thomas/desktop/LTT1445_fits_files/Test/Tes2/images/iejra2ksq_flt.fits.jpg',\n",
       " '/home/thomas/desktop/LTT1445_fits_files/Test/Tes2/images/iejra2jjq_flt.fits.jpg',\n",
       " '/home/thomas/desktop/LTT1445_fits_files/Test/Tes2/images/iejra2lhq_flt.fits.jpg',\n",
       " '/home/thomas/desktop/LTT1445_fits_files/Test/Tes2/images/iejra2k0q_flt.fits.jpg',\n",
       " '/home/thomas/desktop/LTT1445_fits_files/Test/Tes2/images/iejra2jdq_flt.fits.jpg',\n",
       " '/home/thomas/desktop/LTT1445_fits_files/Test/Tes2/images/iejra2k7q_flt.fits.jpg',\n",
       " '/home/thomas/desktop/LTT1445_fits_files/Test/Tes2/images/iejra2kyq_flt.fits.jpg',\n",
       " '/home/thomas/desktop/LTT1445_fits_files/Test/Tes2/images/iejra2jiq_flt.fits.jpg',\n",
       " '/home/thomas/desktop/LTT1445_fits_files/Test/Tes2/images/iejra2l8q_flt.fits.jpg',\n",
       " '/home/thomas/desktop/LTT1445_fits_files/Test/Tes2/images/iejra2leq_flt.fits.jpg',\n",
       " '/home/thomas/desktop/LTT1445_fits_files/Test/Tes2/images/iejra2lfq_flt.fits.jpg',\n",
       " '/home/thomas/desktop/LTT1445_fits_files/Test/Tes2/images/iejra2luq_flt.fits.jpg',\n",
       " '/home/thomas/desktop/LTT1445_fits_files/Test/Tes2/images/iejra2jgq_flt.fits.jpg',\n",
       " '/home/thomas/desktop/LTT1445_fits_files/Test/Tes2/images/iejra2kiq_flt.fits.jpg',\n",
       " '/home/thomas/desktop/LTT1445_fits_files/Test/Tes2/images/iejra2jfq_flt.fits.jpg',\n",
       " '/home/thomas/desktop/LTT1445_fits_files/Test/Tes2/images/iejra2kwq_flt.fits.jpg',\n",
       " '/home/thomas/desktop/LTT1445_fits_files/Test/Tes2/images/iejra2lbq_flt.fits.jpg',\n",
       " '/home/thomas/desktop/LTT1445_fits_files/Test/Tes2/images/iejra2kqq_flt.fits.jpg',\n",
       " '/home/thomas/desktop/LTT1445_fits_files/Test/Tes2/images/iejra2keq_flt.fits.jpg',\n",
       " '/home/thomas/desktop/LTT1445_fits_files/Test/Tes2/images/iejra2lsq_flt.fits.jpg',\n",
       " '/home/thomas/desktop/LTT1445_fits_files/Test/Tes2/images/iejra2lcq_flt.fits.jpg',\n",
       " '/home/thomas/desktop/LTT1445_fits_files/Test/Tes2/images/iejra2jvq_flt.fits.jpg',\n",
       " '/home/thomas/desktop/LTT1445_fits_files/Test/Tes2/images/iejra2kjq_flt.fits.jpg',\n",
       " '/home/thomas/desktop/LTT1445_fits_files/Test/Tes2/images/iejra2ltq_flt.fits.jpg',\n",
       " '/home/thomas/desktop/LTT1445_fits_files/Test/Tes2/images/iejra2llq_flt.fits.jpg',\n",
       " '/home/thomas/desktop/LTT1445_fits_files/Test/Tes2/images/iejra2lrq_flt.fits.jpg',\n",
       " '/home/thomas/desktop/LTT1445_fits_files/Test/Tes2/images/iejra2kbq_flt.fits.jpg',\n",
       " '/home/thomas/desktop/LTT1445_fits_files/Test/Tes2/images/iejra2jyq_flt.fits.jpg',\n",
       " '/home/thomas/desktop/LTT1445_fits_files/Test/Tes2/images/iejra2l0q_flt.fits.jpg',\n",
       " '/home/thomas/desktop/LTT1445_fits_files/Test/Tes2/images/iejra2lpq_flt.fits.jpg',\n",
       " '/home/thomas/desktop/LTT1445_fits_files/Test/Tes2/images/iejra2l3q_flt.fits.jpg',\n",
       " '/home/thomas/desktop/LTT1445_fits_files/Test/Tes2/images/iejra2lmq_flt.fits.jpg',\n",
       " '/home/thomas/desktop/LTT1445_fits_files/Test/Tes2/images/iejra2knq_flt.fits.jpg',\n",
       " '/home/thomas/desktop/LTT1445_fits_files/Test/Tes2/images/iejra2lxq_flt.fits.jpg',\n",
       " '/home/thomas/desktop/LTT1445_fits_files/Test/Tes2/images/iejra2jqq_flt.fits.jpg',\n",
       " '/home/thomas/desktop/LTT1445_fits_files/Test/Tes2/images/iejra2kkq_flt.fits.jpg',\n",
       " '/home/thomas/desktop/LTT1445_fits_files/Test/Tes2/images/iejra2khq_flt.fits.jpg',\n",
       " '/home/thomas/desktop/LTT1445_fits_files/Test/Tes2/images/iejra2l1q_flt.fits.jpg',\n",
       " '/home/thomas/desktop/LTT1445_fits_files/Test/Tes2/images/iejra2jsq_flt.fits.jpg',\n",
       " '/home/thomas/desktop/LTT1445_fits_files/Test/Tes2/images/iejra2jtq_flt.fits.jpg',\n",
       " '/home/thomas/desktop/LTT1445_fits_files/Test/Tes2/images/iejra2lwq_flt.fits.jpg',\n",
       " '/home/thomas/desktop/LTT1445_fits_files/Test/Tes2/images/iejra2jkq_flt.fits.jpg',\n",
       " '/home/thomas/desktop/LTT1445_fits_files/Test/Tes2/images/iejra2kmq_flt.fits.jpg',\n",
       " '/home/thomas/desktop/LTT1445_fits_files/Test/Tes2/images/iejra2jhq_flt.fits.jpg',\n",
       " '/home/thomas/desktop/LTT1445_fits_files/Test/Tes2/images/iejra2lyq_flt.fits.jpg',\n",
       " '/home/thomas/desktop/LTT1445_fits_files/Test/Tes2/images/iejra2l5q_flt.fits.jpg',\n",
       " '/home/thomas/desktop/LTT1445_fits_files/Test/Tes2/images/iejra2kxq_flt.fits.jpg',\n",
       " '/home/thomas/desktop/LTT1445_fits_files/Test/Tes2/images/iejra2k9q_flt.fits.jpg',\n",
       " '/home/thomas/desktop/LTT1445_fits_files/Test/Tes2/images/iejra2k2q_flt.fits.jpg',\n",
       " '/home/thomas/desktop/LTT1445_fits_files/Test/Tes2/images/iejra2kaq_flt.fits.jpg',\n",
       " '/home/thomas/desktop/LTT1445_fits_files/Test/Tes2/images/iejra2ldq_flt.fits.jpg',\n",
       " '/home/thomas/desktop/LTT1445_fits_files/Test/Tes2/images/iejra2l9q_flt.fits.jpg',\n",
       " '/home/thomas/desktop/LTT1445_fits_files/Test/Tes2/images/iejra2kuq_flt.fits.jpg',\n",
       " '/home/thomas/desktop/LTT1445_fits_files/Test/Tes2/images/iejra2klq_flt.fits.jpg',\n",
       " '/home/thomas/desktop/LTT1445_fits_files/Test/Tes2/images/iejra2kgq_flt.fits.jpg',\n",
       " '/home/thomas/desktop/LTT1445_fits_files/Test/Tes2/images/iejra2lnq_flt.fits.jpg',\n",
       " '/home/thomas/desktop/LTT1445_fits_files/Test/Tes2/images/iejra2koq_flt.fits.jpg',\n",
       " '/home/thomas/desktop/LTT1445_fits_files/Test/Tes2/images/iejra2kcq_flt.fits.jpg',\n",
       " '/home/thomas/desktop/LTT1445_fits_files/Test/Tes2/images/iejra2ljq_flt.fits.jpg',\n",
       " '/home/thomas/desktop/LTT1445_fits_files/Test/Tes2/images/iejra2jmq_flt.fits.jpg',\n",
       " '/home/thomas/desktop/LTT1445_fits_files/Test/Tes2/images/iejra2lgq_flt.fits.jpg',\n",
       " '/home/thomas/desktop/LTT1445_fits_files/Test/Tes2/images/iejra2jpq_flt.fits.jpg',\n",
       " '/home/thomas/desktop/LTT1445_fits_files/Test/Tes2/images/iejra2kfq_flt.fits.jpg',\n",
       " '/home/thomas/desktop/LTT1445_fits_files/Test/Tes2/images/iejra2joq_flt.fits.jpg',\n",
       " '/home/thomas/desktop/LTT1445_fits_files/Test/Tes2/images/iejra2jwq_flt.fits.jpg',\n",
       " '/home/thomas/desktop/LTT1445_fits_files/Test/Tes2/images/iejra2k3q_flt.fits.jpg',\n",
       " '/home/thomas/desktop/LTT1445_fits_files/Test/Tes2/images/iejra2k4q_flt.fits.jpg',\n",
       " '/home/thomas/desktop/LTT1445_fits_files/Test/Tes2/images/iejra2ktq_flt.fits.jpg',\n",
       " '/home/thomas/desktop/LTT1445_fits_files/Test/Tes2/images/iejra2lqq_flt.fits.jpg',\n",
       " '/home/thomas/desktop/LTT1445_fits_files/Test/Tes2/images/iejra2jzq_flt.fits.jpg']"
      ]
     },
     "execution_count": 89,
     "metadata": {},
     "output_type": "execute_result"
    }
   ],
   "source": [
    "glob.glob('/home/thomas/desktop/LTT1445_fits_files/Test/Tes2/images/*jpg')"
   ]
  },
  {
   "cell_type": "code",
   "execution_count": null,
   "id": "c3babec3",
   "metadata": {},
   "outputs": [],
   "source": [
    "\"\\\\wsl.localhost\\Ubuntu\\home\\thomas\\desktop\\LTT1445_fits_files\\Test\\Tes2\\Tes3\""
   ]
  },
  {
   "cell_type": "code",
   "execution_count": null,
   "id": "11b01b5b",
   "metadata": {},
   "outputs": [],
   "source": [
    "fpath='/Users/fixit/Desktop/Python/Research/'\n",
    "print(glob.glob(fpath +'/LTT1445_fits_files/'+ '/Test/'+'/Tes2/'+'*flt.fits'))"
   ]
  },
  {
   "cell_type": "code",
   "execution_count": null,
   "id": "9ff4d3d6",
   "metadata": {},
   "outputs": [],
   "source": [
    "print(filenames)"
   ]
  },
  {
   "cell_type": "code",
   "execution_count": null,
   "id": "06c7d683",
   "metadata": {},
   "outputs": [],
   "source": [
    "glob.glob('/Users/fixit/Desktop/Python/Research/'+'/LTT1445_fits_files/'+ '/Test/'+'/Tes2/'+'*flt.fits')"
   ]
  },
  {
   "cell_type": "code",
   "execution_count": null,
   "id": "c6c7e424",
   "metadata": {},
   "outputs": [],
   "source": [
    "glob.glob('/Users/fixit/Desktop/Python/Research/LTT1445_fits_files/Test/Tes2/*flt.fits')"
   ]
  },
  {
   "cell_type": "code",
   "execution_count": 2,
   "id": "088107cf",
   "metadata": {},
   "outputs": [
    {
     "data": {
      "text/plain": [
       "[]"
      ]
     },
     "execution_count": 2,
     "metadata": {},
     "output_type": "execute_result"
    }
   ],
   "source": [
    "glob.glob('//wsl.localhost/Ubuntu/home/thomas/desktop/LTT1445_fits_files/Test/Tes2/*flt.fits')"
   ]
  },
  {
   "cell_type": "code",
   "execution_count": 3,
   "id": "54233694",
   "metadata": {},
   "outputs": [
    {
     "name": "stdout",
     "output_type": "stream",
     "text": [
      "['Random testing stuff.ipynb', 'utils.py', 'Transit Fitting-making-a-single-image-ANYCurve(2-1).ipynb', 'Making A GIF.ipynb', 'Transit Fitting-making-a-single-image-ANYCurve(2-2).ipynb', 'plotting.py', 'dwt', '__pycache__', 'arctor.py:Zone.Identifier', 'arctor3.py', 'twotils.py', 'Transit Fitting-making-a-single-image-ANYCurve(3-2).ipynb', 'twotilstheetid.ipynb', 'ArctorTestingOG', 'ArctorTesting.ipynb', 'arctor2.py', '__init__.py:Zone.Identifier', '.ipynb_checkpoints', 'arctor1.py', 'Transit Fitting-making-a-single-image-ANYCurve(1-2).ipynb', 'Transit Fitting.ipynb', 'Dumb.ipynb', 'arctor.py', 'Transit Fitting-making-a-single-image.ipynb', 'utils.py:Zone.Identifier', 'Transit Fitting-making-a-single-image-2ndCurve.ipynb', 'ArctorTesting.py', 'plotting.py:Zone.Identifier', 'Transit Fitting-making-a-single-image-ANYCurve(3-1).ipynb', '__init__.py', 'Transit Fitting-making-a-single-image-ANYCurve(1-1).ipynb']\n"
     ]
    }
   ],
   "source": [
    "import os\n",
    "print(os.listdir('.'))"
   ]
  },
  {
   "cell_type": "code",
   "execution_count": 5,
   "id": "29915153",
   "metadata": {},
   "outputs": [
    {
     "ename": "FileNotFoundError",
     "evalue": "[Errno 2] No such file or directory: '//wsl.localhost/Ubuntu/home/thomas/desktop/LTT1445_fits_files/Test/Tes2/'",
     "output_type": "error",
     "traceback": [
      "\u001b[0;31m---------------------------------------------------------------------------\u001b[0m",
      "\u001b[0;31mFileNotFoundError\u001b[0m                         Traceback (most recent call last)",
      "\u001b[0;32m/tmp/ipykernel_19188/3542671413.py\u001b[0m in \u001b[0;36m<cell line: 2>\u001b[0;34m()\u001b[0m\n\u001b[1;32m      1\u001b[0m \u001b[0;32mimport\u001b[0m \u001b[0mos\u001b[0m\u001b[0;34m\u001b[0m\u001b[0;34m\u001b[0m\u001b[0m\n\u001b[0;32m----> 2\u001b[0;31m \u001b[0mprint\u001b[0m\u001b[0;34m(\u001b[0m\u001b[0mos\u001b[0m\u001b[0;34m.\u001b[0m\u001b[0mlistdir\u001b[0m\u001b[0;34m(\u001b[0m\u001b[0;34m'//wsl.localhost/Ubuntu/home/thomas/desktop/LTT1445_fits_files/Test/Tes2/'\u001b[0m\u001b[0;34m)\u001b[0m\u001b[0;34m)\u001b[0m\u001b[0;34m\u001b[0m\u001b[0;34m\u001b[0m\u001b[0m\n\u001b[0m",
      "\u001b[0;31mFileNotFoundError\u001b[0m: [Errno 2] No such file or directory: '//wsl.localhost/Ubuntu/home/thomas/desktop/LTT1445_fits_files/Test/Tes2/'"
     ]
    }
   ],
   "source": [
    "import os\n",
    "print(os.listdir('//wsl.localhost/Ubuntu/home/thomas/desktop/LTT1445_fits_files/Test/Tes2/'))"
   ]
  },
  {
   "cell_type": "code",
   "execution_count": 6,
   "id": "e3a5a2fa",
   "metadata": {},
   "outputs": [
    {
     "ename": "FileNotFoundError",
     "evalue": "[Errno 2] No such file or directory: '/Ubuntu/home/thomas/desktop/LTT1445_fits_files/Test/Tes2/'",
     "output_type": "error",
     "traceback": [
      "\u001b[0;31m---------------------------------------------------------------------------\u001b[0m",
      "\u001b[0;31mFileNotFoundError\u001b[0m                         Traceback (most recent call last)",
      "\u001b[0;32m/tmp/ipykernel_19188/3921340785.py\u001b[0m in \u001b[0;36m<cell line: 2>\u001b[0;34m()\u001b[0m\n\u001b[1;32m      1\u001b[0m \u001b[0;32mimport\u001b[0m \u001b[0mos\u001b[0m\u001b[0;34m\u001b[0m\u001b[0;34m\u001b[0m\u001b[0m\n\u001b[0;32m----> 2\u001b[0;31m \u001b[0mprint\u001b[0m\u001b[0;34m(\u001b[0m\u001b[0mos\u001b[0m\u001b[0;34m.\u001b[0m\u001b[0mlistdir\u001b[0m\u001b[0;34m(\u001b[0m\u001b[0;34m'/Ubuntu/home/thomas/desktop/LTT1445_fits_files/Test/Tes2/'\u001b[0m\u001b[0;34m)\u001b[0m\u001b[0;34m)\u001b[0m\u001b[0;34m\u001b[0m\u001b[0;34m\u001b[0m\u001b[0m\n\u001b[0m",
      "\u001b[0;31mFileNotFoundError\u001b[0m: [Errno 2] No such file or directory: '/Ubuntu/home/thomas/desktop/LTT1445_fits_files/Test/Tes2/'"
     ]
    }
   ],
   "source": [
    "import os\n",
    "print(os.listdir('/Ubuntu/home/thomas/desktop/LTT1445_fits_files/Test/Tes2/'))"
   ]
  },
  {
   "cell_type": "code",
   "execution_count": 8,
   "id": "24153209",
   "metadata": {},
   "outputs": [
    {
     "name": "stdout",
     "output_type": "stream",
     "text": [
      "['iejra2jgq_flt.fits', 'iejra2jtq_flt.fits:Zone.Identifier', 'iejra2lqq_flt.fits', 'iejra2kuq_flt.fits:Zone.Identifier', 'iejra2lyq_flt.fits', 'iejra2jkq_flt.fits:Zone.Identifier', 'iejra2lxq_flt.fits', 'iejra2ktq_flt.fits', 'iejra2kwq_flt.fits', 'iejra2kzq_flt.fits', 'iejra2lnq_flt.fits:Zone.Identifier', 'iejra2kdq_flt.fits:Zone.Identifier', 'iejra2ksq_flt.fits:Zone.Identifier', 'iejra2k6q_flt.fits:Zone.Identifier', 'iejra2jfq_flt.fits:Zone.Identifier', 'iejra2kyq_flt.fits', 'iejra2kpq_flt.fits:Zone.Identifier', 'iejra2kwq_flt.fits:Zone.Identifier', 'iejra2lcq_flt.fits', 'iejra2lgq_flt.fits:Zone.Identifier', 'iejra2jgq_flt.fits:Zone.Identifier', 'iejra2jyq_flt.fits', 'iejra2laq_flt.fits', 'iejra2l3q_flt.fits', 'iejra2kqq_flt.fits:Zone.Identifier', 'iejra2kgq_flt.fits:Zone.Identifier', 'iejra2lyq_flt.fits:Zone.Identifier', 'iejra2kqq_flt.fits', 'iejra2jlq_flt.fits:Zone.Identifier', 'iejra2jqq_flt.fits:Zone.Identifier', 'iejra2jjq_flt.fits:Zone.Identifier', 'iejra2k6q_flt.fits', 'iejra2k7q_flt.fits:Zone.Identifier', 'iejra2jhq_flt.fits', 'iejra2l9q_flt.fits', 'iejra2jiq_flt.fits:Zone.Identifier', 'iejra2jpq_flt.fits', 'iejra2kcq_flt.fits:Zone.Identifier', 'iejra2ljq_flt.fits:Zone.Identifier', 'iejra2kjq_flt.fits', 'iejra2lfq_flt.fits:Zone.Identifier', 'iejra2kdq_flt.fits', 'iejra2k1q_flt.fits', 'iejra2kiq_flt.fits:Zone.Identifier', 'iejra2jnq_flt.fits:Zone.Identifier', 'iejra2jkq_flt.fits', 'iejra2kmq_flt.fits', 'iejra2ltq_flt.fits', 'iejra2lsq_flt.fits', 'iejra2lhq_flt.fits', 'iejra2l7q_flt.fits:Zone.Identifier', 'iejra2klq_flt.fits:Zone.Identifier', 'iejra2lmq_flt.fits', 'iejra2kiq_flt.fits', 'iejra2jvq_flt.fits', 'iejra2ktq_flt.fits:Zone.Identifier', 'iejra2k4q_flt.fits:Zone.Identifier', 'iejra2l3q_flt.fits:Zone.Identifier', 'iejra2jrq_flt.fits', 'iejra2lpq_flt.fits:Zone.Identifier', 'iejra2lwq_flt.fits:Zone.Identifier', 'iejra2kyq_flt.fits:Zone.Identifier', 'iejra2jvq_flt.fits:Zone.Identifier', 'iejra2k8q_flt.fits:Zone.Identifier', 'iejra2keq_flt.fits:Zone.Identifier', 'iejra2lmq_flt.fits:Zone.Identifier', 'iejra2k1q_flt.fits:Zone.Identifier', 'iejra2kbq_flt.fits', 'iejra2lkq_flt.fits:Zone.Identifier', 'iejra2jrq_flt.fits:Zone.Identifier', 'iejra2lcq_flt.fits:Zone.Identifier', 'iejra2lvq_flt.fits:Zone.Identifier', 'iejra2koq_flt.fits', 'iejra2jxq_flt.fits', 'iejra2l5q_flt.fits:Zone.Identifier', 'iejra2l0q_flt.fits', 'iejra2lfq_flt.fits', 'iejra2l0q_flt.fits:Zone.Identifier', 'iejra2k3q_flt.fits:Zone.Identifier', 'iejra2k0q_flt.fits:Zone.Identifier', 'iejra2l4q_flt.fits:Zone.Identifier', 'iejra2joq_flt.fits:Zone.Identifier', 'iejra2l6q_flt.fits:Zone.Identifier', 'iejra2ljq_flt.fits', 'iejra2l8q_flt.fits:Zone.Identifier', 'iejra2kvq_flt.fits:Zone.Identifier', 'iejra2lbq_flt.fits', 'iejra2l1q_flt.fits', 'iejra2jjq_flt.fits', 'iejra2leq_flt.fits', 'iejra2kxq_flt.fits:Zone.Identifier', 'iejra2llq_flt.fits:Zone.Identifier', 'iejra2kfq_flt.fits', 'iejra2jzq_flt.fits', 'iejra2lgq_flt.fits', 'iejra2jqq_flt.fits', 'iejra2krq_flt.fits:Zone.Identifier', 'iejra2ldq_flt.fits', 'iejra2jxq_flt.fits:Zone.Identifier', 'iejra2kuq_flt.fits', 'iejra2luq_flt.fits', 'iejra2ksq_flt.fits', 'iejra2jwq_flt.fits', 'iejra2lpq_flt.fits', 'iejra2k5q_flt.fits', 'iejra2juq_flt.fits', 'iejra2jfq_flt.fits', 'iejra2lxq_flt.fits:Zone.Identifier', 'iejra2kzq_flt.fits:Zone.Identifier', 'iejra2jtq_flt.fits', 'iejra2keq_flt.fits', 'Tes3', 'iejra2kkq_flt.fits', 'iejra2kaq_flt.fits:Zone.Identifier', 'iejra2liq_flt.fits', 'iejra2k3q_flt.fits', 'iejra2loq_flt.fits:Zone.Identifier', 'iejra2jdq_flt.fits', 'iejra2loq_flt.fits', 'iejra2lbq_flt.fits:Zone.Identifier', 'iejra2k8q_flt.fits', 'iejra2lqq_flt.fits:Zone.Identifier', 'iejra2leq_flt.fits:Zone.Identifier', 'iejra2jyq_flt.fits:Zone.Identifier', 'iejra2lwq_flt.fits', 'iejra2joq_flt.fits', 'iejra2lrq_flt.fits:Zone.Identifier', 'iejra2knq_flt.fits', 'iejra2llq_flt.fits', 'iejra2kgq_flt.fits', 'iejra2jnq_flt.fits', 'iejra2lhq_flt.fits:Zone.Identifier', 'iejra2jpq_flt.fits:Zone.Identifier', 'iejra2jsq_flt.fits', 'iejra2l6q_flt.fits', 'iejra2kkq_flt.fits:Zone.Identifier', 'iejra2kcq_flt.fits', 'iejra2jhq_flt.fits:Zone.Identifier', 'iejra2knq_flt.fits:Zone.Identifier', 'iejra2ldq_flt.fits:Zone.Identifier', 'iejra2jlq_flt.fits', 'iejra2k0q_flt.fits', 'iejra2kbq_flt.fits:Zone.Identifier', 'iejra2kvq_flt.fits', 'iejra2l8q_flt.fits', 'iejra2l7q_flt.fits', 'iejra2k2q_flt.fits:Zone.Identifier', 'iejra2k5q_flt.fits:Zone.Identifier', 'iejra2l2q_flt.fits', 'iejra2lnq_flt.fits', 'iejra2lsq_flt.fits:Zone.Identifier', 'iejra2krq_flt.fits', 'iejra2luq_flt.fits:Zone.Identifier', 'iejra2kxq_flt.fits', 'iejra2juq_flt.fits:Zone.Identifier', 'iejra2jmq_flt.fits:Zone.Identifier', 'iejra2lrq_flt.fits', 'iejra2jsq_flt.fits:Zone.Identifier', 'iejra2k7q_flt.fits', 'iejra2l4q_flt.fits', 'iejra2klq_flt.fits', 'iejra2laq_flt.fits:Zone.Identifier', 'iejra2k9q_flt.fits:Zone.Identifier', 'iejra2kpq_flt.fits', 'iejra2khq_flt.fits', 'iejra2l1q_flt.fits:Zone.Identifier', 'iejra2jwq_flt.fits:Zone.Identifier', 'iejra2koq_flt.fits:Zone.Identifier', 'iejra2l5q_flt.fits', 'iejra2jiq_flt.fits', 'iejra2kjq_flt.fits:Zone.Identifier', 'iejra2jdq_flt.fits:Zone.Identifier', 'iejra2k9q_flt.fits', 'iejra2lvq_flt.fits', 'iejra2l9q_flt.fits:Zone.Identifier', 'iejra2kaq_flt.fits', 'iejra2jmq_flt.fits', 'iejra2ltq_flt.fits:Zone.Identifier', 'iejra2k4q_flt.fits', 'iejra2jeq_flt.fits:Zone.Identifier', 'iejra2khq_flt.fits:Zone.Identifier', 'iejra2kmq_flt.fits:Zone.Identifier', 'iejra2jeq_flt.fits', 'iejra2liq_flt.fits:Zone.Identifier', 'iejra2kfq_flt.fits:Zone.Identifier', 'iejra2jzq_flt.fits:Zone.Identifier', 'iejra2l2q_flt.fits:Zone.Identifier', 'iejra2k2q_flt.fits', 'iejra2lkq_flt.fits']\n"
     ]
    }
   ],
   "source": [
    "import os\n",
    "print(os.listdir('/home/thomas/desktop/LTT1445_fits_files/Test/Tes2/'))"
   ]
  },
  {
   "cell_type": "code",
   "execution_count": 9,
   "id": "edec8c79",
   "metadata": {},
   "outputs": [
    {
     "data": {
      "text/plain": [
       "['/home/thomas/desktop/LTT1445_fits_files/Test/Tes2/iejra2jgq_flt.fits',\n",
       " '/home/thomas/desktop/LTT1445_fits_files/Test/Tes2/iejra2lqq_flt.fits',\n",
       " '/home/thomas/desktop/LTT1445_fits_files/Test/Tes2/iejra2lyq_flt.fits',\n",
       " '/home/thomas/desktop/LTT1445_fits_files/Test/Tes2/iejra2lxq_flt.fits',\n",
       " '/home/thomas/desktop/LTT1445_fits_files/Test/Tes2/iejra2ktq_flt.fits',\n",
       " '/home/thomas/desktop/LTT1445_fits_files/Test/Tes2/iejra2kwq_flt.fits',\n",
       " '/home/thomas/desktop/LTT1445_fits_files/Test/Tes2/iejra2kzq_flt.fits',\n",
       " '/home/thomas/desktop/LTT1445_fits_files/Test/Tes2/iejra2kyq_flt.fits',\n",
       " '/home/thomas/desktop/LTT1445_fits_files/Test/Tes2/iejra2lcq_flt.fits',\n",
       " '/home/thomas/desktop/LTT1445_fits_files/Test/Tes2/iejra2jyq_flt.fits',\n",
       " '/home/thomas/desktop/LTT1445_fits_files/Test/Tes2/iejra2laq_flt.fits',\n",
       " '/home/thomas/desktop/LTT1445_fits_files/Test/Tes2/iejra2l3q_flt.fits',\n",
       " '/home/thomas/desktop/LTT1445_fits_files/Test/Tes2/iejra2kqq_flt.fits',\n",
       " '/home/thomas/desktop/LTT1445_fits_files/Test/Tes2/iejra2k6q_flt.fits',\n",
       " '/home/thomas/desktop/LTT1445_fits_files/Test/Tes2/iejra2jhq_flt.fits',\n",
       " '/home/thomas/desktop/LTT1445_fits_files/Test/Tes2/iejra2l9q_flt.fits',\n",
       " '/home/thomas/desktop/LTT1445_fits_files/Test/Tes2/iejra2jpq_flt.fits',\n",
       " '/home/thomas/desktop/LTT1445_fits_files/Test/Tes2/iejra2kjq_flt.fits',\n",
       " '/home/thomas/desktop/LTT1445_fits_files/Test/Tes2/iejra2kdq_flt.fits',\n",
       " '/home/thomas/desktop/LTT1445_fits_files/Test/Tes2/iejra2k1q_flt.fits',\n",
       " '/home/thomas/desktop/LTT1445_fits_files/Test/Tes2/iejra2jkq_flt.fits',\n",
       " '/home/thomas/desktop/LTT1445_fits_files/Test/Tes2/iejra2kmq_flt.fits',\n",
       " '/home/thomas/desktop/LTT1445_fits_files/Test/Tes2/iejra2ltq_flt.fits',\n",
       " '/home/thomas/desktop/LTT1445_fits_files/Test/Tes2/iejra2lsq_flt.fits',\n",
       " '/home/thomas/desktop/LTT1445_fits_files/Test/Tes2/iejra2lhq_flt.fits',\n",
       " '/home/thomas/desktop/LTT1445_fits_files/Test/Tes2/iejra2lmq_flt.fits',\n",
       " '/home/thomas/desktop/LTT1445_fits_files/Test/Tes2/iejra2kiq_flt.fits',\n",
       " '/home/thomas/desktop/LTT1445_fits_files/Test/Tes2/iejra2jvq_flt.fits',\n",
       " '/home/thomas/desktop/LTT1445_fits_files/Test/Tes2/iejra2jrq_flt.fits',\n",
       " '/home/thomas/desktop/LTT1445_fits_files/Test/Tes2/iejra2kbq_flt.fits',\n",
       " '/home/thomas/desktop/LTT1445_fits_files/Test/Tes2/iejra2koq_flt.fits',\n",
       " '/home/thomas/desktop/LTT1445_fits_files/Test/Tes2/iejra2jxq_flt.fits',\n",
       " '/home/thomas/desktop/LTT1445_fits_files/Test/Tes2/iejra2l0q_flt.fits',\n",
       " '/home/thomas/desktop/LTT1445_fits_files/Test/Tes2/iejra2lfq_flt.fits',\n",
       " '/home/thomas/desktop/LTT1445_fits_files/Test/Tes2/iejra2ljq_flt.fits',\n",
       " '/home/thomas/desktop/LTT1445_fits_files/Test/Tes2/iejra2lbq_flt.fits',\n",
       " '/home/thomas/desktop/LTT1445_fits_files/Test/Tes2/iejra2l1q_flt.fits',\n",
       " '/home/thomas/desktop/LTT1445_fits_files/Test/Tes2/iejra2jjq_flt.fits',\n",
       " '/home/thomas/desktop/LTT1445_fits_files/Test/Tes2/iejra2leq_flt.fits',\n",
       " '/home/thomas/desktop/LTT1445_fits_files/Test/Tes2/iejra2kfq_flt.fits',\n",
       " '/home/thomas/desktop/LTT1445_fits_files/Test/Tes2/iejra2jzq_flt.fits',\n",
       " '/home/thomas/desktop/LTT1445_fits_files/Test/Tes2/iejra2lgq_flt.fits',\n",
       " '/home/thomas/desktop/LTT1445_fits_files/Test/Tes2/iejra2jqq_flt.fits',\n",
       " '/home/thomas/desktop/LTT1445_fits_files/Test/Tes2/iejra2ldq_flt.fits',\n",
       " '/home/thomas/desktop/LTT1445_fits_files/Test/Tes2/iejra2kuq_flt.fits',\n",
       " '/home/thomas/desktop/LTT1445_fits_files/Test/Tes2/iejra2luq_flt.fits',\n",
       " '/home/thomas/desktop/LTT1445_fits_files/Test/Tes2/iejra2ksq_flt.fits',\n",
       " '/home/thomas/desktop/LTT1445_fits_files/Test/Tes2/iejra2jwq_flt.fits',\n",
       " '/home/thomas/desktop/LTT1445_fits_files/Test/Tes2/iejra2lpq_flt.fits',\n",
       " '/home/thomas/desktop/LTT1445_fits_files/Test/Tes2/iejra2k5q_flt.fits',\n",
       " '/home/thomas/desktop/LTT1445_fits_files/Test/Tes2/iejra2juq_flt.fits',\n",
       " '/home/thomas/desktop/LTT1445_fits_files/Test/Tes2/iejra2jfq_flt.fits',\n",
       " '/home/thomas/desktop/LTT1445_fits_files/Test/Tes2/iejra2jtq_flt.fits',\n",
       " '/home/thomas/desktop/LTT1445_fits_files/Test/Tes2/iejra2keq_flt.fits',\n",
       " '/home/thomas/desktop/LTT1445_fits_files/Test/Tes2/iejra2kkq_flt.fits',\n",
       " '/home/thomas/desktop/LTT1445_fits_files/Test/Tes2/iejra2liq_flt.fits',\n",
       " '/home/thomas/desktop/LTT1445_fits_files/Test/Tes2/iejra2k3q_flt.fits',\n",
       " '/home/thomas/desktop/LTT1445_fits_files/Test/Tes2/iejra2jdq_flt.fits',\n",
       " '/home/thomas/desktop/LTT1445_fits_files/Test/Tes2/iejra2loq_flt.fits',\n",
       " '/home/thomas/desktop/LTT1445_fits_files/Test/Tes2/iejra2k8q_flt.fits',\n",
       " '/home/thomas/desktop/LTT1445_fits_files/Test/Tes2/iejra2lwq_flt.fits',\n",
       " '/home/thomas/desktop/LTT1445_fits_files/Test/Tes2/iejra2joq_flt.fits',\n",
       " '/home/thomas/desktop/LTT1445_fits_files/Test/Tes2/iejra2knq_flt.fits',\n",
       " '/home/thomas/desktop/LTT1445_fits_files/Test/Tes2/iejra2llq_flt.fits',\n",
       " '/home/thomas/desktop/LTT1445_fits_files/Test/Tes2/iejra2kgq_flt.fits',\n",
       " '/home/thomas/desktop/LTT1445_fits_files/Test/Tes2/iejra2jnq_flt.fits',\n",
       " '/home/thomas/desktop/LTT1445_fits_files/Test/Tes2/iejra2jsq_flt.fits',\n",
       " '/home/thomas/desktop/LTT1445_fits_files/Test/Tes2/iejra2l6q_flt.fits',\n",
       " '/home/thomas/desktop/LTT1445_fits_files/Test/Tes2/iejra2kcq_flt.fits',\n",
       " '/home/thomas/desktop/LTT1445_fits_files/Test/Tes2/iejra2jlq_flt.fits',\n",
       " '/home/thomas/desktop/LTT1445_fits_files/Test/Tes2/iejra2k0q_flt.fits',\n",
       " '/home/thomas/desktop/LTT1445_fits_files/Test/Tes2/iejra2kvq_flt.fits',\n",
       " '/home/thomas/desktop/LTT1445_fits_files/Test/Tes2/iejra2l8q_flt.fits',\n",
       " '/home/thomas/desktop/LTT1445_fits_files/Test/Tes2/iejra2l7q_flt.fits',\n",
       " '/home/thomas/desktop/LTT1445_fits_files/Test/Tes2/iejra2l2q_flt.fits',\n",
       " '/home/thomas/desktop/LTT1445_fits_files/Test/Tes2/iejra2lnq_flt.fits',\n",
       " '/home/thomas/desktop/LTT1445_fits_files/Test/Tes2/iejra2krq_flt.fits',\n",
       " '/home/thomas/desktop/LTT1445_fits_files/Test/Tes2/iejra2kxq_flt.fits',\n",
       " '/home/thomas/desktop/LTT1445_fits_files/Test/Tes2/iejra2lrq_flt.fits',\n",
       " '/home/thomas/desktop/LTT1445_fits_files/Test/Tes2/iejra2k7q_flt.fits',\n",
       " '/home/thomas/desktop/LTT1445_fits_files/Test/Tes2/iejra2l4q_flt.fits',\n",
       " '/home/thomas/desktop/LTT1445_fits_files/Test/Tes2/iejra2klq_flt.fits',\n",
       " '/home/thomas/desktop/LTT1445_fits_files/Test/Tes2/iejra2kpq_flt.fits',\n",
       " '/home/thomas/desktop/LTT1445_fits_files/Test/Tes2/iejra2khq_flt.fits',\n",
       " '/home/thomas/desktop/LTT1445_fits_files/Test/Tes2/iejra2l5q_flt.fits',\n",
       " '/home/thomas/desktop/LTT1445_fits_files/Test/Tes2/iejra2jiq_flt.fits',\n",
       " '/home/thomas/desktop/LTT1445_fits_files/Test/Tes2/iejra2k9q_flt.fits',\n",
       " '/home/thomas/desktop/LTT1445_fits_files/Test/Tes2/iejra2lvq_flt.fits',\n",
       " '/home/thomas/desktop/LTT1445_fits_files/Test/Tes2/iejra2kaq_flt.fits',\n",
       " '/home/thomas/desktop/LTT1445_fits_files/Test/Tes2/iejra2jmq_flt.fits',\n",
       " '/home/thomas/desktop/LTT1445_fits_files/Test/Tes2/iejra2k4q_flt.fits',\n",
       " '/home/thomas/desktop/LTT1445_fits_files/Test/Tes2/iejra2jeq_flt.fits',\n",
       " '/home/thomas/desktop/LTT1445_fits_files/Test/Tes2/iejra2k2q_flt.fits',\n",
       " '/home/thomas/desktop/LTT1445_fits_files/Test/Tes2/iejra2lkq_flt.fits']"
      ]
     },
     "execution_count": 9,
     "metadata": {},
     "output_type": "execute_result"
    }
   ],
   "source": [
    "glob.glob('/home/thomas/desktop/LTT1445_fits_files/Test/Tes2/*flt.fits')"
   ]
  },
  {
   "cell_type": "code",
   "execution_count": 25,
   "id": "cd1e5fef",
   "metadata": {},
   "outputs": [],
   "source": [
    "import math\n",
    "def imgsqrt(inputArray, scale_min=None, scale_max=None):\n",
    "    \"\"\"Performs sqrt scaling of the input numpy array.\n",
    "    @type inputArray: numpy array\n",
    "    @param inputArray: image data array\n",
    "    @type scale_min: float\n",
    "    @param scale_min: minimum data value\n",
    "    @type scale_max: float\n",
    "    @param scale_max: maximum data value\n",
    "    @rtype: numpy array\n",
    "    @return: image data array\n",
    "    \n",
    "    \"\"\"\n",
    "    \n",
    "    print(\"img_scale : sqrt\")\n",
    "    imageData=np.array(inputArray, copy=True)\n",
    "    \n",
    "    if scale_min == None:\n",
    "        scale_min = imageData.min()\n",
    "    if scale_max == None:\n",
    "        scale_max = imageData.max()\n",
    "\n",
    "    imageData = imageData.clip(min=scale_min, max=scale_max)\n",
    "    imageData = imageData - scale_min\n",
    "    indices = np.where(imageData < 0)\n",
    "    imageData[indices] = 0.0\n",
    "    imageData = np.sqrt(imageData)\n",
    "    imageData = imageData / math.sqrt(scale_max - scale_min)\n",
    "    \n",
    "    return imageData"
   ]
  },
  {
   "cell_type": "code",
   "execution_count": 77,
   "id": "5f1e3fb0",
   "metadata": {},
   "outputs": [
    {
     "name": "stdout",
     "output_type": "stream",
     "text": [
      "img_scale : sqrt\n",
      "img_scale : sqrt\n",
      "img_scale : sqrt\n",
      "img_scale : sqrt\n",
      "img_scale : sqrt\n",
      "img_scale : sqrt\n",
      "img_scale : sqrt\n",
      "img_scale : sqrt\n",
      "img_scale : sqrt\n",
      "img_scale : sqrt\n",
      "img_scale : sqrt\n",
      "img_scale : sqrt\n",
      "img_scale : sqrt\n",
      "img_scale : sqrt\n",
      "img_scale : sqrt\n",
      "img_scale : sqrt\n",
      "img_scale : sqrt\n",
      "img_scale : sqrt\n",
      "img_scale : sqrt\n",
      "img_scale : sqrt\n",
      "img_scale : sqrt\n",
      "img_scale : sqrt\n",
      "img_scale : sqrt\n",
      "img_scale : sqrt\n",
      "img_scale : sqrt\n",
      "img_scale : sqrt\n",
      "img_scale : sqrt\n",
      "img_scale : sqrt\n",
      "img_scale : sqrt\n",
      "img_scale : sqrt\n",
      "img_scale : sqrt\n",
      "img_scale : sqrt\n",
      "img_scale : sqrt\n",
      "img_scale : sqrt\n",
      "img_scale : sqrt\n",
      "img_scale : sqrt\n",
      "img_scale : sqrt\n",
      "img_scale : sqrt\n",
      "img_scale : sqrt\n",
      "img_scale : sqrt\n",
      "img_scale : sqrt\n",
      "img_scale : sqrt\n",
      "img_scale : sqrt\n",
      "img_scale : sqrt\n",
      "img_scale : sqrt\n",
      "img_scale : sqrt\n",
      "img_scale : sqrt\n",
      "img_scale : sqrt\n",
      "img_scale : sqrt\n",
      "img_scale : sqrt\n",
      "img_scale : sqrt\n",
      "img_scale : sqrt\n",
      "img_scale : sqrt\n",
      "img_scale : sqrt\n",
      "img_scale : sqrt\n",
      "img_scale : sqrt\n",
      "img_scale : sqrt\n",
      "img_scale : sqrt\n",
      "img_scale : sqrt\n",
      "img_scale : sqrt\n",
      "img_scale : sqrt\n",
      "img_scale : sqrt\n",
      "img_scale : sqrt\n",
      "img_scale : sqrt\n",
      "img_scale : sqrt\n",
      "img_scale : sqrt\n",
      "img_scale : sqrt\n",
      "img_scale : sqrt\n",
      "img_scale : sqrt\n",
      "img_scale : sqrt\n",
      "img_scale : sqrt\n",
      "img_scale : sqrt\n",
      "img_scale : sqrt\n",
      "img_scale : sqrt\n",
      "img_scale : sqrt\n",
      "img_scale : sqrt\n",
      "img_scale : sqrt\n",
      "img_scale : sqrt\n",
      "img_scale : sqrt\n",
      "img_scale : sqrt\n",
      "img_scale : sqrt\n",
      "img_scale : sqrt\n",
      "img_scale : sqrt\n",
      "img_scale : sqrt\n",
      "img_scale : sqrt\n",
      "img_scale : sqrt\n",
      "img_scale : sqrt\n",
      "img_scale : sqrt\n",
      "img_scale : sqrt\n",
      "img_scale : sqrt\n",
      "img_scale : sqrt\n",
      "img_scale : sqrt\n",
      "img_scale : sqrt\n",
      "img_scale : sqrt\n"
     ]
    }
   ],
   "source": [
    "import os\n",
    "import numpy as np\n",
    "import glob\n",
    "from PIL import Image\n",
    "from astropy.io import fits\n",
    "\n",
    "dir_path = '/home/thomas/desktop/LTT1445_fits_files/Test/Tes2/'\n",
    "for filename in glob.glob('/home/thomas/desktop/LTT1445_fits_files/Test/Tes2/*fits'):\n",
    "    if filename.endswith(\".fits\"):\n",
    "        image_data = fits.getdata(filename)\n",
    "        if len(image_data.shape) == 2:\n",
    "            sum_image = image_data\n",
    "        else:\n",
    "            sum_image = image_data[0] - image_data[0]\n",
    "            for single_image_data in image_data:\n",
    "                sum_image += single_image_data  \n",
    "\n",
    "        sum_image = imgsqrt(sum_image, scale_min=0, scale_max=np.amax(image_data))\n",
    "        sum_image = sum_image * 200\n",
    "        im = Image.fromarray(sum_image)\n",
    "        if im.mode != 'RGB':\n",
    "            im = im.convert('RGB')\n",
    "#         print(filename)\n",
    "#         print(os.path.basename(filename[0]))\n",
    "#         print(dir_path+\"/images/\"+os.path.splitext(os.path.basename(filename[0]))[0]+\".jpg\")\n",
    "#         im.save(dir_path+\"/images/\"+os.path.basename(filename)+\".jpg\")\n",
    "#         im.close()"
   ]
  },
  {
   "cell_type": "code",
   "execution_count": 39,
   "id": "b389a332",
   "metadata": {},
   "outputs": [],
   "source": [
    "fmpath = glob.glob('/home/thomas/desktop/LTT1445_fits_files/Test/Tes2/*fits')"
   ]
  },
  {
   "cell_type": "code",
   "execution_count": 34,
   "id": "c4ac1399",
   "metadata": {},
   "outputs": [
    {
     "ename": "TypeError",
     "evalue": "expected str, bytes or os.PathLike object, not list",
     "output_type": "error",
     "traceback": [
      "\u001b[0;31m---------------------------------------------------------------------------\u001b[0m",
      "\u001b[0;31mTypeError\u001b[0m                                 Traceback (most recent call last)",
      "\u001b[0;32m/tmp/ipykernel_157/2493239890.py\u001b[0m in \u001b[0;36m<cell line: 1>\u001b[0;34m()\u001b[0m\n\u001b[0;32m----> 1\u001b[0;31m \u001b[0mos\u001b[0m\u001b[0;34m.\u001b[0m\u001b[0mpath\u001b[0m\u001b[0;34m.\u001b[0m\u001b[0mbasename\u001b[0m\u001b[0;34m(\u001b[0m\u001b[0mfmpath\u001b[0m\u001b[0;34m)\u001b[0m\u001b[0;34m\u001b[0m\u001b[0;34m\u001b[0m\u001b[0m\n\u001b[0m",
      "\u001b[0;32m~/desktop/Anaconda/lib/python3.9/posixpath.py\u001b[0m in \u001b[0;36mbasename\u001b[0;34m(p)\u001b[0m\n\u001b[1;32m    140\u001b[0m \u001b[0;32mdef\u001b[0m \u001b[0mbasename\u001b[0m\u001b[0;34m(\u001b[0m\u001b[0mp\u001b[0m\u001b[0;34m)\u001b[0m\u001b[0;34m:\u001b[0m\u001b[0;34m\u001b[0m\u001b[0;34m\u001b[0m\u001b[0m\n\u001b[1;32m    141\u001b[0m     \u001b[0;34m\"\"\"Returns the final component of a pathname\"\"\"\u001b[0m\u001b[0;34m\u001b[0m\u001b[0;34m\u001b[0m\u001b[0m\n\u001b[0;32m--> 142\u001b[0;31m     \u001b[0mp\u001b[0m \u001b[0;34m=\u001b[0m \u001b[0mos\u001b[0m\u001b[0;34m.\u001b[0m\u001b[0mfspath\u001b[0m\u001b[0;34m(\u001b[0m\u001b[0mp\u001b[0m\u001b[0;34m)\u001b[0m\u001b[0;34m\u001b[0m\u001b[0;34m\u001b[0m\u001b[0m\n\u001b[0m\u001b[1;32m    143\u001b[0m     \u001b[0msep\u001b[0m \u001b[0;34m=\u001b[0m \u001b[0m_get_sep\u001b[0m\u001b[0;34m(\u001b[0m\u001b[0mp\u001b[0m\u001b[0;34m)\u001b[0m\u001b[0;34m\u001b[0m\u001b[0;34m\u001b[0m\u001b[0m\n\u001b[1;32m    144\u001b[0m     \u001b[0mi\u001b[0m \u001b[0;34m=\u001b[0m \u001b[0mp\u001b[0m\u001b[0;34m.\u001b[0m\u001b[0mrfind\u001b[0m\u001b[0;34m(\u001b[0m\u001b[0msep\u001b[0m\u001b[0;34m)\u001b[0m \u001b[0;34m+\u001b[0m \u001b[0;36m1\u001b[0m\u001b[0;34m\u001b[0m\u001b[0;34m\u001b[0m\u001b[0m\n",
      "\u001b[0;31mTypeError\u001b[0m: expected str, bytes or os.PathLike object, not list"
     ]
    }
   ],
   "source": [
    "os.path.basename(fmpath)"
   ]
  },
  {
   "cell_type": "code",
   "execution_count": 36,
   "id": "91a845d2",
   "metadata": {},
   "outputs": [
    {
     "ename": "TypeError",
     "evalue": "expected str, bytes or os.PathLike object, not list",
     "output_type": "error",
     "traceback": [
      "\u001b[0;31m---------------------------------------------------------------------------\u001b[0m",
      "\u001b[0;31mTypeError\u001b[0m                                 Traceback (most recent call last)",
      "\u001b[0;32m/tmp/ipykernel_157/2493239890.py\u001b[0m in \u001b[0;36m<cell line: 1>\u001b[0;34m()\u001b[0m\n\u001b[0;32m----> 1\u001b[0;31m \u001b[0mos\u001b[0m\u001b[0;34m.\u001b[0m\u001b[0mpath\u001b[0m\u001b[0;34m.\u001b[0m\u001b[0mbasename\u001b[0m\u001b[0;34m(\u001b[0m\u001b[0mfmpath\u001b[0m\u001b[0;34m)\u001b[0m\u001b[0;34m\u001b[0m\u001b[0;34m\u001b[0m\u001b[0m\n\u001b[0m",
      "\u001b[0;32m~/desktop/Anaconda/lib/python3.9/posixpath.py\u001b[0m in \u001b[0;36mbasename\u001b[0;34m(p)\u001b[0m\n\u001b[1;32m    140\u001b[0m \u001b[0;32mdef\u001b[0m \u001b[0mbasename\u001b[0m\u001b[0;34m(\u001b[0m\u001b[0mp\u001b[0m\u001b[0;34m)\u001b[0m\u001b[0;34m:\u001b[0m\u001b[0;34m\u001b[0m\u001b[0;34m\u001b[0m\u001b[0m\n\u001b[1;32m    141\u001b[0m     \u001b[0;34m\"\"\"Returns the final component of a pathname\"\"\"\u001b[0m\u001b[0;34m\u001b[0m\u001b[0;34m\u001b[0m\u001b[0m\n\u001b[0;32m--> 142\u001b[0;31m     \u001b[0mp\u001b[0m \u001b[0;34m=\u001b[0m \u001b[0mos\u001b[0m\u001b[0;34m.\u001b[0m\u001b[0mfspath\u001b[0m\u001b[0;34m(\u001b[0m\u001b[0mp\u001b[0m\u001b[0;34m)\u001b[0m\u001b[0;34m\u001b[0m\u001b[0;34m\u001b[0m\u001b[0m\n\u001b[0m\u001b[1;32m    143\u001b[0m     \u001b[0msep\u001b[0m \u001b[0;34m=\u001b[0m \u001b[0m_get_sep\u001b[0m\u001b[0;34m(\u001b[0m\u001b[0mp\u001b[0m\u001b[0;34m)\u001b[0m\u001b[0;34m\u001b[0m\u001b[0;34m\u001b[0m\u001b[0m\n\u001b[1;32m    144\u001b[0m     \u001b[0mi\u001b[0m \u001b[0;34m=\u001b[0m \u001b[0mp\u001b[0m\u001b[0;34m.\u001b[0m\u001b[0mrfind\u001b[0m\u001b[0;34m(\u001b[0m\u001b[0msep\u001b[0m\u001b[0;34m)\u001b[0m \u001b[0;34m+\u001b[0m \u001b[0;36m1\u001b[0m\u001b[0;34m\u001b[0m\u001b[0;34m\u001b[0m\u001b[0m\n",
      "\u001b[0;31mTypeError\u001b[0m: expected str, bytes or os.PathLike object, not list"
     ]
    }
   ],
   "source": [
    "os.path.basename(fmpath)"
   ]
  },
  {
   "cell_type": "code",
   "execution_count": 59,
   "id": "fed15d0e",
   "metadata": {},
   "outputs": [
    {
     "data": {
      "text/plain": [
       "['iejra2jgq_flt.fits',\n",
       " 'iejra2lqq_flt.fits',\n",
       " 'iejra2lyq_flt.fits',\n",
       " 'iejra2lxq_flt.fits',\n",
       " 'iejra2ktq_flt.fits',\n",
       " 'iejra2kwq_flt.fits',\n",
       " 'iejra2kzq_flt.fits',\n",
       " 'iejra2kyq_flt.fits',\n",
       " 'iejra2lcq_flt.fits',\n",
       " 'iejra2jyq_flt.fits',\n",
       " 'iejra2laq_flt.fits',\n",
       " 'iejra2l3q_flt.fits',\n",
       " 'iejra2kqq_flt.fits',\n",
       " 'iejra2k6q_flt.fits',\n",
       " 'iejra2jhq_flt.fits',\n",
       " 'iejra2l9q_flt.fits',\n",
       " 'iejra2jpq_flt.fits',\n",
       " 'iejra2kjq_flt.fits',\n",
       " 'iejra2kdq_flt.fits',\n",
       " 'iejra2k1q_flt.fits',\n",
       " 'iejra2jkq_flt.fits',\n",
       " 'iejra2kmq_flt.fits',\n",
       " 'iejra2ltq_flt.fits',\n",
       " 'iejra2lsq_flt.fits',\n",
       " 'iejra2lhq_flt.fits',\n",
       " 'iejra2lmq_flt.fits',\n",
       " 'iejra2kiq_flt.fits',\n",
       " 'iejra2jvq_flt.fits',\n",
       " 'iejra2jrq_flt.fits',\n",
       " 'iejra2kbq_flt.fits',\n",
       " 'iejra2koq_flt.fits',\n",
       " 'iejra2jxq_flt.fits',\n",
       " 'iejra2l0q_flt.fits',\n",
       " 'iejra2lfq_flt.fits',\n",
       " 'iejra2ljq_flt.fits',\n",
       " 'iejra2lbq_flt.fits',\n",
       " 'iejra2l1q_flt.fits',\n",
       " 'iejra2jjq_flt.fits',\n",
       " 'iejra2leq_flt.fits',\n",
       " 'iejra2kfq_flt.fits',\n",
       " 'iejra2jzq_flt.fits',\n",
       " 'iejra2lgq_flt.fits',\n",
       " 'iejra2jqq_flt.fits',\n",
       " 'iejra2ldq_flt.fits',\n",
       " 'iejra2kuq_flt.fits',\n",
       " 'iejra2luq_flt.fits',\n",
       " 'iejra2ksq_flt.fits',\n",
       " 'iejra2jwq_flt.fits',\n",
       " 'iejra2lpq_flt.fits',\n",
       " 'iejra2k5q_flt.fits',\n",
       " 'iejra2juq_flt.fits',\n",
       " 'iejra2jfq_flt.fits',\n",
       " 'iejra2jtq_flt.fits',\n",
       " 'iejra2keq_flt.fits',\n",
       " 'iejra2kkq_flt.fits',\n",
       " 'iejra2liq_flt.fits',\n",
       " 'iejra2k3q_flt.fits',\n",
       " 'iejra2jdq_flt.fits',\n",
       " 'iejra2loq_flt.fits',\n",
       " 'iejra2k8q_flt.fits',\n",
       " 'iejra2lwq_flt.fits',\n",
       " 'iejra2joq_flt.fits',\n",
       " 'iejra2knq_flt.fits',\n",
       " 'iejra2llq_flt.fits',\n",
       " 'iejra2kgq_flt.fits',\n",
       " 'iejra2jnq_flt.fits',\n",
       " 'iejra2jsq_flt.fits',\n",
       " 'iejra2l6q_flt.fits',\n",
       " 'iejra2kcq_flt.fits',\n",
       " 'iejra2jlq_flt.fits',\n",
       " 'iejra2k0q_flt.fits',\n",
       " 'iejra2kvq_flt.fits',\n",
       " 'iejra2l8q_flt.fits',\n",
       " 'iejra2l7q_flt.fits',\n",
       " 'iejra2l2q_flt.fits',\n",
       " 'iejra2lnq_flt.fits',\n",
       " 'iejra2krq_flt.fits',\n",
       " 'iejra2kxq_flt.fits',\n",
       " 'iejra2lrq_flt.fits',\n",
       " 'iejra2k7q_flt.fits',\n",
       " 'iejra2l4q_flt.fits',\n",
       " 'iejra2klq_flt.fits',\n",
       " 'iejra2kpq_flt.fits',\n",
       " 'iejra2khq_flt.fits',\n",
       " 'iejra2l5q_flt.fits',\n",
       " 'iejra2jiq_flt.fits',\n",
       " 'iejra2k9q_flt.fits',\n",
       " 'iejra2lvq_flt.fits',\n",
       " 'iejra2kaq_flt.fits',\n",
       " 'iejra2jmq_flt.fits',\n",
       " 'iejra2k4q_flt.fits',\n",
       " 'iejra2jeq_flt.fits',\n",
       " 'iejra2k2q_flt.fits',\n",
       " 'iejra2lkq_flt.fits']"
      ]
     },
     "execution_count": 59,
     "metadata": {},
     "output_type": "execute_result"
    }
   ],
   "source": [
    "filenames = []\n",
    "for f in range(len(fmpath)):\n",
    "    filenames.append(os.path.basename(fmpath[f]))\n",
    "filenames"
   ]
  },
  {
   "cell_type": "code",
   "execution_count": 50,
   "id": "4f250615",
   "metadata": {},
   "outputs": [
    {
     "data": {
      "text/plain": [
       "array([0., 0., 0., 0., 0., 0., 0., 0., 0., 0., 0., 0., 0., 0., 0., 0., 0.,\n",
       "       0., 0., 0., 0., 0., 0., 0., 0., 0., 0., 0., 0., 0., 0., 0., 0., 0.,\n",
       "       0., 0., 0., 0., 0., 0., 0., 0., 0., 0., 0., 0., 0., 0., 0., 0., 0.,\n",
       "       0., 0., 0., 0., 0., 0., 0., 0., 0., 0., 0., 0., 0., 0., 0., 0., 0.,\n",
       "       0., 0., 0., 0., 0., 0., 0., 0., 0., 0., 0., 0., 0., 0., 0., 0., 0.,\n",
       "       0., 0., 0., 0., 0., 0., 0., 0., 0.])"
      ]
     },
     "execution_count": 50,
     "metadata": {},
     "output_type": "execute_result"
    }
   ],
   "source": [
    "filenames = np.zeros(len(fmpath))\n",
    "filenames"
   ]
  },
  {
   "cell_type": "code",
   "execution_count": 52,
   "id": "c587958c",
   "metadata": {},
   "outputs": [
    {
     "ename": "ValueError",
     "evalue": "could not convert string to float: 'iejra2jgq_flt.fits'",
     "output_type": "error",
     "traceback": [
      "\u001b[0;31m---------------------------------------------------------------------------\u001b[0m",
      "\u001b[0;31mValueError\u001b[0m                                Traceback (most recent call last)",
      "\u001b[0;32m/tmp/ipykernel_157/1651908547.py\u001b[0m in \u001b[0;36m<cell line: 1>\u001b[0;34m()\u001b[0m\n\u001b[0;32m----> 1\u001b[0;31m \u001b[0mfilenames\u001b[0m\u001b[0;34m[\u001b[0m\u001b[0;36m0\u001b[0m\u001b[0;34m]\u001b[0m \u001b[0;34m=\u001b[0m \u001b[0mos\u001b[0m\u001b[0;34m.\u001b[0m\u001b[0mpath\u001b[0m\u001b[0;34m.\u001b[0m\u001b[0mbasename\u001b[0m\u001b[0;34m(\u001b[0m\u001b[0mfmpath\u001b[0m\u001b[0;34m[\u001b[0m\u001b[0;36m0\u001b[0m\u001b[0;34m]\u001b[0m\u001b[0;34m)\u001b[0m\u001b[0;34m\u001b[0m\u001b[0;34m\u001b[0m\u001b[0m\n\u001b[0m\u001b[1;32m      2\u001b[0m \u001b[0mfilenames\u001b[0m\u001b[0;34m\u001b[0m\u001b[0;34m\u001b[0m\u001b[0m\n",
      "\u001b[0;31mValueError\u001b[0m: could not convert string to float: 'iejra2jgq_flt.fits'"
     ]
    }
   ],
   "source": [
    "filenames[0] = os.path.basename(fmpath[0])\n",
    "filenames"
   ]
  },
  {
   "cell_type": "code",
   "execution_count": 64,
   "id": "ae272c9a",
   "metadata": {},
   "outputs": [
    {
     "data": {
      "text/plain": [
       "'iejra2jgq_flt'"
      ]
     },
     "execution_count": 64,
     "metadata": {},
     "output_type": "execute_result"
    }
   ],
   "source": [
    "os.path.splitext(os.path.basename(fmpath[0]))[0]"
   ]
  },
  {
   "cell_type": "code",
   "execution_count": 58,
   "id": "1ca1fdc5",
   "metadata": {},
   "outputs": [
    {
     "data": {
      "text/plain": [
       "['iejra2jgq_flt.fits']"
      ]
     },
     "execution_count": 58,
     "metadata": {},
     "output_type": "execute_result"
    }
   ],
   "source": [
    "filenames = []\n",
    "filenames.append(os.path.basename(fmpath[0]))\n",
    "filenames"
   ]
  },
  {
   "cell_type": "code",
   "execution_count": 73,
   "id": "7b099cbe",
   "metadata": {},
   "outputs": [],
   "source": [
    "Test = glob.glob('/home/thomas/desktop/LTT1445_fits_files/Test/Tes2/*fits')"
   ]
  },
  {
   "cell_type": "code",
   "execution_count": 76,
   "id": "a7ae53e7",
   "metadata": {},
   "outputs": [
    {
     "data": {
      "text/plain": [
       "'iejra2lyq_flt'"
      ]
     },
     "execution_count": 76,
     "metadata": {},
     "output_type": "execute_result"
    }
   ],
   "source": [
    "os.path.splitext(os.path.basename(Test[2]))[0]"
   ]
  },
  {
   "cell_type": "code",
   "execution_count": 120,
   "id": "86fc4070",
   "metadata": {},
   "outputs": [
    {
     "name": "stdout",
     "output_type": "stream",
     "text": [
      "1\n",
      "2\n"
     ]
    }
   ],
   "source": [
    "import glob\n",
    "from PIL import Image\n",
    "\n",
    "# filepaths\n",
    "fp_in = \"/home/thomas/desktop/LTT1445_fits_files/Test/Tes2/images/*jpg\"\n",
    "fp_out = \"/home/thomas/desktop/LTT1445_fits_files/Test/Tes2/images/GIF/Image.gif\"\n",
    "\n",
    "# https://pillow.readthedocs.io/en/stable/handbook/image-file-formats.html#gif\n",
    "imgs = (Image.open(f) for f in sorted(glob.glob(fp_in)))\n",
    "print(1)\n",
    "img = next(imgs)  # extract first image from iterator\n",
    "print(2)\n",
    "img.save(fp=fp_out, format='GIF', append_images=imgs,\n",
    "         save_all=True, duration=200, loop=0)"
   ]
  },
  {
   "cell_type": "code",
   "execution_count": 119,
   "id": "f064a098",
   "metadata": {},
   "outputs": [
    {
     "data": {
      "text/plain": [
       "[]"
      ]
     },
     "execution_count": 119,
     "metadata": {},
     "output_type": "execute_result"
    }
   ],
   "source": [
    "glob.glob('/home/thomas/desktop/LTT1445_fits_files/Test/Tes2/images*jpg')"
   ]
  },
  {
   "cell_type": "code",
   "execution_count": 118,
   "id": "7dddaad8",
   "metadata": {},
   "outputs": [
    {
     "data": {
      "text/plain": [
       "['/home/thomas/desktop/LTT1445_fits_files/Test/Tes2/images/iejra2k8q_flt.fits.jpg',\n",
       " '/home/thomas/desktop/LTT1445_fits_files/Test/Tes2/images/iejra2jnq_flt.fits.jpg',\n",
       " '/home/thomas/desktop/LTT1445_fits_files/Test/Tes2/images/iejra2jlq_flt.fits.jpg',\n",
       " '/home/thomas/desktop/LTT1445_fits_files/Test/Tes2/images/iejra2l2q_flt.fits.jpg',\n",
       " '/home/thomas/desktop/LTT1445_fits_files/Test/Tes2/images/iejra2laq_flt.fits.jpg',\n",
       " '/home/thomas/desktop/LTT1445_fits_files/Test/Tes2/images/iejra2lkq_flt.fits.jpg',\n",
       " '/home/thomas/desktop/LTT1445_fits_files/Test/Tes2/images/iejra2kzq_flt.fits.jpg',\n",
       " '/home/thomas/desktop/LTT1445_fits_files/Test/Tes2/images/iejra2kvq_flt.fits.jpg',\n",
       " '/home/thomas/desktop/LTT1445_fits_files/Test/Tes2/images/iejra2jxq_flt.fits.jpg',\n",
       " '/home/thomas/desktop/LTT1445_fits_files/Test/Tes2/images/iejra2k5q_flt.fits.jpg',\n",
       " '/home/thomas/desktop/LTT1445_fits_files/Test/Tes2/images/iejra2k1q_flt.fits.jpg',\n",
       " '/home/thomas/desktop/LTT1445_fits_files/Test/Tes2/images/iejra2jrq_flt.fits.jpg',\n",
       " '/home/thomas/desktop/LTT1445_fits_files/Test/Tes2/images/iejra2liq_flt.fits.jpg',\n",
       " '/home/thomas/desktop/LTT1445_fits_files/Test/Tes2/images/iejra2l6q_flt.fits.jpg',\n",
       " '/home/thomas/desktop/LTT1445_fits_files/Test/Tes2/images/iejra2l7q_flt.fits.jpg',\n",
       " '/home/thomas/desktop/LTT1445_fits_files/Test/Tes2/images/iejra2krq_flt.fits.jpg',\n",
       " '/home/thomas/desktop/LTT1445_fits_files/Test/Tes2/images/iejra2kdq_flt.fits.jpg',\n",
       " '/home/thomas/desktop/LTT1445_fits_files/Test/Tes2/images/iejra2juq_flt.fits.jpg',\n",
       " '/home/thomas/desktop/LTT1445_fits_files/Test/Tes2/images/iejra2jeq_flt.fits.jpg',\n",
       " '/home/thomas/desktop/LTT1445_fits_files/Test/Tes2/images/iejra2loq_flt.fits.jpg',\n",
       " '/home/thomas/desktop/LTT1445_fits_files/Test/Tes2/images/iejra2kpq_flt.fits.jpg',\n",
       " '/home/thomas/desktop/LTT1445_fits_files/Test/Tes2/images/iejra2k6q_flt.fits.jpg',\n",
       " '/home/thomas/desktop/LTT1445_fits_files/Test/Tes2/images/iejra2lvq_flt.fits.jpg',\n",
       " '/home/thomas/desktop/LTT1445_fits_files/Test/Tes2/images/iejra2l4q_flt.fits.jpg',\n",
       " '/home/thomas/desktop/LTT1445_fits_files/Test/Tes2/images/iejra2ksq_flt.fits.jpg',\n",
       " '/home/thomas/desktop/LTT1445_fits_files/Test/Tes2/images/iejra2jjq_flt.fits.jpg',\n",
       " '/home/thomas/desktop/LTT1445_fits_files/Test/Tes2/images/iejra2lhq_flt.fits.jpg',\n",
       " '/home/thomas/desktop/LTT1445_fits_files/Test/Tes2/images/iejra2k0q_flt.fits.jpg',\n",
       " '/home/thomas/desktop/LTT1445_fits_files/Test/Tes2/images/iejra2jdq_flt.fits.jpg',\n",
       " '/home/thomas/desktop/LTT1445_fits_files/Test/Tes2/images/iejra2k7q_flt.fits.jpg',\n",
       " '/home/thomas/desktop/LTT1445_fits_files/Test/Tes2/images/iejra2kyq_flt.fits.jpg',\n",
       " '/home/thomas/desktop/LTT1445_fits_files/Test/Tes2/images/iejra2jiq_flt.fits.jpg',\n",
       " '/home/thomas/desktop/LTT1445_fits_files/Test/Tes2/images/iejra2l8q_flt.fits.jpg',\n",
       " '/home/thomas/desktop/LTT1445_fits_files/Test/Tes2/images/iejra2leq_flt.fits.jpg',\n",
       " '/home/thomas/desktop/LTT1445_fits_files/Test/Tes2/images/iejra2lfq_flt.fits.jpg',\n",
       " '/home/thomas/desktop/LTT1445_fits_files/Test/Tes2/images/iejra2luq_flt.fits.jpg',\n",
       " '/home/thomas/desktop/LTT1445_fits_files/Test/Tes2/images/iejra2jgq_flt.fits.jpg',\n",
       " '/home/thomas/desktop/LTT1445_fits_files/Test/Tes2/images/iejra2kiq_flt.fits.jpg',\n",
       " '/home/thomas/desktop/LTT1445_fits_files/Test/Tes2/images/iejra2jfq_flt.fits.jpg',\n",
       " '/home/thomas/desktop/LTT1445_fits_files/Test/Tes2/images/iejra2kwq_flt.fits.jpg',\n",
       " '/home/thomas/desktop/LTT1445_fits_files/Test/Tes2/images/iejra2lbq_flt.fits.jpg',\n",
       " '/home/thomas/desktop/LTT1445_fits_files/Test/Tes2/images/iejra2kqq_flt.fits.jpg',\n",
       " '/home/thomas/desktop/LTT1445_fits_files/Test/Tes2/images/iejra2keq_flt.fits.jpg',\n",
       " '/home/thomas/desktop/LTT1445_fits_files/Test/Tes2/images/iejra2lsq_flt.fits.jpg',\n",
       " '/home/thomas/desktop/LTT1445_fits_files/Test/Tes2/images/iejra2lcq_flt.fits.jpg',\n",
       " '/home/thomas/desktop/LTT1445_fits_files/Test/Tes2/images/iejra2jvq_flt.fits.jpg',\n",
       " '/home/thomas/desktop/LTT1445_fits_files/Test/Tes2/images/iejra2kjq_flt.fits.jpg',\n",
       " '/home/thomas/desktop/LTT1445_fits_files/Test/Tes2/images/iejra2ltq_flt.fits.jpg',\n",
       " '/home/thomas/desktop/LTT1445_fits_files/Test/Tes2/images/iejra2llq_flt.fits.jpg',\n",
       " '/home/thomas/desktop/LTT1445_fits_files/Test/Tes2/images/iejra2lrq_flt.fits.jpg',\n",
       " '/home/thomas/desktop/LTT1445_fits_files/Test/Tes2/images/iejra2kbq_flt.fits.jpg',\n",
       " '/home/thomas/desktop/LTT1445_fits_files/Test/Tes2/images/iejra2jyq_flt.fits.jpg',\n",
       " '/home/thomas/desktop/LTT1445_fits_files/Test/Tes2/images/iejra2l0q_flt.fits.jpg',\n",
       " '/home/thomas/desktop/LTT1445_fits_files/Test/Tes2/images/iejra2lpq_flt.fits.jpg',\n",
       " '/home/thomas/desktop/LTT1445_fits_files/Test/Tes2/images/iejra2l3q_flt.fits.jpg',\n",
       " '/home/thomas/desktop/LTT1445_fits_files/Test/Tes2/images/iejra2lmq_flt.fits.jpg',\n",
       " '/home/thomas/desktop/LTT1445_fits_files/Test/Tes2/images/iejra2knq_flt.fits.jpg',\n",
       " '/home/thomas/desktop/LTT1445_fits_files/Test/Tes2/images/iejra2lxq_flt.fits.jpg',\n",
       " '/home/thomas/desktop/LTT1445_fits_files/Test/Tes2/images/iejra2jqq_flt.fits.jpg',\n",
       " '/home/thomas/desktop/LTT1445_fits_files/Test/Tes2/images/iejra2kkq_flt.fits.jpg',\n",
       " '/home/thomas/desktop/LTT1445_fits_files/Test/Tes2/images/iejra2khq_flt.fits.jpg',\n",
       " '/home/thomas/desktop/LTT1445_fits_files/Test/Tes2/images/iejra2l1q_flt.fits.jpg',\n",
       " '/home/thomas/desktop/LTT1445_fits_files/Test/Tes2/images/iejra2jsq_flt.fits.jpg',\n",
       " '/home/thomas/desktop/LTT1445_fits_files/Test/Tes2/images/iejra2jtq_flt.fits.jpg',\n",
       " '/home/thomas/desktop/LTT1445_fits_files/Test/Tes2/images/iejra2lwq_flt.fits.jpg',\n",
       " '/home/thomas/desktop/LTT1445_fits_files/Test/Tes2/images/iejra2jkq_flt.fits.jpg',\n",
       " '/home/thomas/desktop/LTT1445_fits_files/Test/Tes2/images/iejra2kmq_flt.fits.jpg',\n",
       " '/home/thomas/desktop/LTT1445_fits_files/Test/Tes2/images/iejra2jhq_flt.fits.jpg',\n",
       " '/home/thomas/desktop/LTT1445_fits_files/Test/Tes2/images/iejra2lyq_flt.fits.jpg',\n",
       " '/home/thomas/desktop/LTT1445_fits_files/Test/Tes2/images/iejra2l5q_flt.fits.jpg',\n",
       " '/home/thomas/desktop/LTT1445_fits_files/Test/Tes2/images/iejra2kxq_flt.fits.jpg',\n",
       " '/home/thomas/desktop/LTT1445_fits_files/Test/Tes2/images/iejra2k9q_flt.fits.jpg',\n",
       " '/home/thomas/desktop/LTT1445_fits_files/Test/Tes2/images/iejra2k2q_flt.fits.jpg',\n",
       " '/home/thomas/desktop/LTT1445_fits_files/Test/Tes2/images/iejra2kaq_flt.fits.jpg',\n",
       " '/home/thomas/desktop/LTT1445_fits_files/Test/Tes2/images/iejra2ldq_flt.fits.jpg',\n",
       " '/home/thomas/desktop/LTT1445_fits_files/Test/Tes2/images/iejra2l9q_flt.fits.jpg',\n",
       " '/home/thomas/desktop/LTT1445_fits_files/Test/Tes2/images/iejra2kuq_flt.fits.jpg',\n",
       " '/home/thomas/desktop/LTT1445_fits_files/Test/Tes2/images/iejra2klq_flt.fits.jpg',\n",
       " '/home/thomas/desktop/LTT1445_fits_files/Test/Tes2/images/iejra2kgq_flt.fits.jpg',\n",
       " '/home/thomas/desktop/LTT1445_fits_files/Test/Tes2/images/iejra2lnq_flt.fits.jpg',\n",
       " '/home/thomas/desktop/LTT1445_fits_files/Test/Tes2/images/iejra2koq_flt.fits.jpg',\n",
       " '/home/thomas/desktop/LTT1445_fits_files/Test/Tes2/images/iejra2kcq_flt.fits.jpg',\n",
       " '/home/thomas/desktop/LTT1445_fits_files/Test/Tes2/images/iejra2ljq_flt.fits.jpg',\n",
       " '/home/thomas/desktop/LTT1445_fits_files/Test/Tes2/images/iejra2jmq_flt.fits.jpg',\n",
       " '/home/thomas/desktop/LTT1445_fits_files/Test/Tes2/images/iejra2lgq_flt.fits.jpg',\n",
       " '/home/thomas/desktop/LTT1445_fits_files/Test/Tes2/images/iejra2jpq_flt.fits.jpg',\n",
       " '/home/thomas/desktop/LTT1445_fits_files/Test/Tes2/images/iejra2kfq_flt.fits.jpg',\n",
       " '/home/thomas/desktop/LTT1445_fits_files/Test/Tes2/images/iejra2joq_flt.fits.jpg',\n",
       " '/home/thomas/desktop/LTT1445_fits_files/Test/Tes2/images/iejra2jwq_flt.fits.jpg',\n",
       " '/home/thomas/desktop/LTT1445_fits_files/Test/Tes2/images/iejra2k3q_flt.fits.jpg',\n",
       " '/home/thomas/desktop/LTT1445_fits_files/Test/Tes2/images/iejra2k4q_flt.fits.jpg',\n",
       " '/home/thomas/desktop/LTT1445_fits_files/Test/Tes2/images/iejra2ktq_flt.fits.jpg',\n",
       " '/home/thomas/desktop/LTT1445_fits_files/Test/Tes2/images/iejra2lqq_flt.fits.jpg',\n",
       " '/home/thomas/desktop/LTT1445_fits_files/Test/Tes2/images/iejra2jzq_flt.fits.jpg']"
      ]
     },
     "execution_count": 118,
     "metadata": {},
     "output_type": "execute_result"
    }
   ],
   "source": [
    "glob.glob('/home/thomas/desktop/LTT1445_fits_files/Test/Tes2/images/*jpg')"
   ]
  },
  {
   "cell_type": "code",
   "execution_count": null,
   "id": "23253838",
   "metadata": {},
   "outputs": [],
   "source": []
  }
 ],
 "metadata": {
  "kernelspec": {
   "display_name": "Python 3 (ipykernel)",
   "language": "python",
   "name": "python3"
  },
  "language_info": {
   "codemirror_mode": {
    "name": "ipython",
    "version": 3
   },
   "file_extension": ".py",
   "mimetype": "text/x-python",
   "name": "python",
   "nbconvert_exporter": "python",
   "pygments_lexer": "ipython3",
   "version": "3.9.7"
  }
 },
 "nbformat": 4,
 "nbformat_minor": 5
}
