{
 "cells": [
  {
   "cell_type": "code",
   "execution_count": 1,
   "id": "cd1e5fef",
   "metadata": {},
   "outputs": [],
   "source": [
    "import math\n",
    "def imgsqrt(inputArray, scale_min=None, scale_max=None):\n",
    "    \"\"\"Performs sqrt scaling of the input numpy array.\n",
    "    @type inputArray: numpy array\n",
    "    @param inputArray: image data array\n",
    "    @type scale_min: float\n",
    "    @param scale_min: minimum data value\n",
    "    @type scale_max: float\n",
    "    @param scale_max: maximum data value\n",
    "    @rtype: numpy array\n",
    "    @return: image data array\n",
    "    \n",
    "    \"\"\"\n",
    "    \n",
    "#     print(\"img_scale : sqrt\")\n",
    "    imageData=np.array(inputArray, copy=True)\n",
    "    \n",
    "    if scale_min == None:\n",
    "        scale_min = imageData.min()\n",
    "    if scale_max == None:\n",
    "        scale_max = imageData.max()\n",
    "\n",
    "    imageData = imageData.clip(min=scale_min, max=scale_max)\n",
    "    imageData = imageData - scale_min\n",
    "    indices = np.where(imageData < 0)\n",
    "    imageData[indices] = 0.0\n",
    "    imageData = np.sqrt(imageData)\n",
    "    imageData = imageData / math.sqrt(scale_max - scale_min)\n",
    "    \n",
    "    return imageData"
   ]
  },
  {
   "cell_type": "code",
   "execution_count": 2,
   "id": "95c3806d",
   "metadata": {},
   "outputs": [],
   "source": [
    "import os\n",
    "import numpy as np\n",
    "import glob\n",
    "from PIL import Image\n",
    "from astropy.io import fits\n",
    "dir_path = '/home/thomas/desktop/LTT1445_fits_files/Test/Tes2/'\n",
    "for filename in glob.glob('/home/thomas/desktop/LTT1445_fits_files/Test/Tes2/*fits'): #Looking at 2nd Epoch\n",
    "    fname = filename\n",
    "    if filename.endswith(\".fits\"):\n",
    "        image_data = fits.getdata(filename)\n",
    "        if len(image_data.shape) == 2:\n",
    "            sum_image = image_data\n",
    "        else:\n",
    "            sum_image = image_data[0] - image_data[0]\n",
    "            for single_image_data in image_data:\n",
    "                sum_image += single_image_data  \n",
    "\n",
    "        sum_image = imgsqrt(sum_image, scale_min=0, scale_max=np.amax(image_data))\n",
    "        sum_image = sum_image * 200\n",
    "        im = Image.fromarray(sum_image)\n",
    "        if im.mode != 'RGB':\n",
    "            im = im.convert('RGB')\n",
    "#         print(filename)\n",
    "#         print(os.path.basename(filename[0]))\n",
    "#         print(os.path.splitext(os.path.basename(filename))[0])\n",
    "#         print(dir_path+\"/images/\"+os.path.splitext(os.path.basename(filename))[0]+\".jpg\")\n",
    "        im.save(dir_path+\"/images/\"+os.path.splitext(os.path.basename(filename))[0]+\".jpg\")\n",
    "        im.close()"
   ]
  },
  {
   "cell_type": "code",
   "execution_count": 3,
   "id": "5f1e3fb0",
   "metadata": {},
   "outputs": [],
   "source": [
    "# import os\n",
    "# import numpy as np\n",
    "# import glob\n",
    "# from PIL import Image\n",
    "# from astropy.io import fits\n",
    "\n",
    "# dir_path = '/home/thomas/desktop/LTT1445_fits_files/Test/Tes2/'\n",
    "# for filename in glob.glob('/home/thomas/desktop/LTT1445_fits_files/Test/Tes2/*fits'):\n",
    "#     if filename.endswith(\".fits\"):\n",
    "#         image_data = fits.getdata(filename)\n",
    "#         if len(image_data.shape) == 2:\n",
    "#             sum_image = image_data\n",
    "#         else:\n",
    "#             sum_image = image_data[0] - image_data[0]\n",
    "#             for single_image_data in image_data:\n",
    "#                 sum_image += single_image_data  \n",
    "\n",
    "#         sum_image = imgsqrt(sum_image, scale_min=0, scale_max=np.amax(image_data))\n",
    "#         sum_image = sum_image * 200\n",
    "#         im = Image.fromarray(sum_image)\n",
    "#         if im.mode != 'RGB':\n",
    "#             im = im.convert('RGB')\n",
    "# #         print(filename)\n",
    "#         print(os.path.basename(filename[0]))\n",
    "# #         print(dir_path+\"/images/\"+os.path.splitext(os.path.basename(filename[0]))[0]+\".jpg\")\n",
    "# #         im.save(dir_path+\"/images/\"+os.path.basename(filename)+\".jpg\")\n",
    "# #         im.close()"
   ]
  },
  {
   "cell_type": "code",
   "execution_count": 4,
   "id": "fed15d0e",
   "metadata": {},
   "outputs": [],
   "source": [
    "# filenames = []\n",
    "# for f in range(len(fmpath)):\n",
    "#     filenames.append(os.path.basename(fmpath[f]))\n",
    "# filenames"
   ]
  },
  {
   "cell_type": "code",
   "execution_count": 10,
   "id": "86fc4070",
   "metadata": {},
   "outputs": [
    {
     "name": "stdout",
     "output_type": "stream",
     "text": [
      "1\n",
      "2\n"
     ]
    }
   ],
   "source": [
    "import glob\n",
    "from PIL import Image\n",
    "\n",
    "# filepaths\n",
    "fp_in = \"/home/thomas/desktop/LTT1445_fits_files/Test/Tes2/images/*jpg\"\n",
    "fp_out = \"/home/thomas/desktop/LTT1445_fits_files/Test/Tes2/images/GIF/Image.gif\"\n",
    "\n",
    "# https://pillow.readthedocs.io/en/stable/handbook/image-file-formats.html#gif\n",
    "imgs = (Image.open(f) for f in sorted(glob.glob(fp_in)))\n",
    "print(1)\n",
    "img = next(imgs)  # extract first image from iterator\n",
    "print(2)\n",
    "img.save(fp=fp_out, format='GIF', append_images=imgs,\n",
    "         save_all=True, duration=200, loop=1)"
   ]
  },
  {
   "cell_type": "code",
   "execution_count": 6,
   "id": "7dddaad8",
   "metadata": {},
   "outputs": [],
   "source": [
    "# glob.glob('/home/thomas/desktop/LTT1445_fits_files/Test/Tes2/images/*jpg')"
   ]
  },
  {
   "cell_type": "code",
   "execution_count": 7,
   "id": "23253838",
   "metadata": {},
   "outputs": [],
   "source": [
    "# for filename in glob.glob('/home/thomas/desktop/LTT1445_fits_files/Test/Tes2/*fits'):\n",
    "#     if filename.endswith(\".fits\"):\n",
    "#         print(filename)"
   ]
  },
  {
   "cell_type": "code",
   "execution_count": 8,
   "id": "e9737801",
   "metadata": {},
   "outputs": [],
   "source": [
    "# postarg1 = +?"
   ]
  },
  {
   "cell_type": "code",
   "execution_count": 9,
   "id": "e13bf33f",
   "metadata": {},
   "outputs": [],
   "source": [
    "# import os\n",
    "# import numpy as np\n",
    "# import glob\n",
    "# from PIL import Image\n",
    "# from astropy.io import fits\n",
    "\n",
    "# for filename in glob.glob('/home/thomas/desktop/LTT1445_fits_files/Test/Tes2/*fits'):\n",
    "#     fname = filename\n",
    "#     if filename.endswith(\".fits\"):\n",
    "#         image_data = fits.getdata(filename)\n",
    "#         if len(image_data.shape) == 2:\n",
    "#             sum_image = image_data\n",
    "#         else:\n",
    "#             sum_image = image_data[0] - image_data[0]\n",
    "#             for single_image_data in image_data:\n",
    "#                 sum_image += single_image_data  \n",
    "\n",
    "#         sum_image = imgsqrt(sum_image, scale_min=0, scale_max=np.amax(image_data))\n",
    "#         sum_image = sum_image * 200\n",
    "#         im = Image.fromarray(sum_image)\n",
    "#         if im.mode != 'RGB':\n",
    "#             im = im.convert('RGB')\n",
    "# #         print(filename)\n",
    "# #         print(os.path.basename(filename[0]))\n",
    "# #         print(os.path.splitext(os.path.basename(filename))[0])\n",
    "#         print(dir_path+\"/images/\"+os.path.splitext(os.path.basename(filename))[0]+\".jpg\")\n",
    "# #         im.save(dir_path+\"/images/\"+os.path.basename(filename)+\".jpg\")\n",
    "# #         im.close()"
   ]
  },
  {
   "cell_type": "code",
   "execution_count": null,
   "id": "d3ec20d2",
   "metadata": {},
   "outputs": [],
   "source": []
  }
 ],
 "metadata": {
  "kernelspec": {
   "display_name": "Python 3 (ipykernel)",
   "language": "python",
   "name": "python3"
  },
  "language_info": {
   "codemirror_mode": {
    "name": "ipython",
    "version": 3
   },
   "file_extension": ".py",
   "mimetype": "text/x-python",
   "name": "python",
   "nbconvert_exporter": "python",
   "pygments_lexer": "ipython3",
   "version": "3.9.7"
  }
 },
 "nbformat": 4,
 "nbformat_minor": 5
}
