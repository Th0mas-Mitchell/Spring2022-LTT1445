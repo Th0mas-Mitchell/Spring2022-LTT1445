{
 "cells": [
  {
   "cell_type": "code",
   "execution_count": 1,
   "metadata": {},
   "outputs": [
    {
     "name": "stdout",
     "output_type": "stream",
     "text": [
      "Filename: \\Users\\fixit\\Desktop\\iejra2lsq_flt.fits\n",
      "No.    Name      Ver    Type      Cards   Dimensions   Format\n",
      "  0  PRIMARY       1 PrimaryHDU     298   ()      \n",
      "  1  SCI           1 ImageHDU       176   (513, 512)   float32   \n",
      "  2  ERR           1 ImageHDU        48   (513, 512)   float32   \n",
      "  3  DQ            1 ImageHDU        40   (513, 512)   int16   \n",
      "  4  D2IMARR       1 ImageHDU        16   (64, 32)   float32   \n",
      "  5  D2IMARR       2 ImageHDU        16   (64, 32)   float32   \n",
      "  6  WCSDVARR      1 ImageHDU        16   (64, 32)   float32   \n",
      "  7  WCSDVARR      2 ImageHDU        16   (64, 32)   float32   \n"
     ]
    }
   ],
   "source": [
    "import matplotlib.pyplot as plt\n",
    "from astropy.visualization import astropy_mpl_style\n",
    "plt.style.use(astropy_mpl_style)\n",
    "\n",
    "from astropy.utils.data import get_pkg_data_filename\n",
    "from astropy.io import fits\n",
    "\n",
    "image_file = get_pkg_data_filename('/Users/fixit/Desktop/iejra2lsq_flt.fits')\n",
    "fits.info(image_file)\n",
    "\n",
    "# This is pretty much just coppied and pasted from the guide "
   ]
  },
  {
   "cell_type": "code",
   "execution_count": 2,
   "metadata": {},
   "outputs": [
    {
     "name": "stdout",
     "output_type": "stream",
     "text": [
      "(512, 513)\n"
     ]
    },
    {
     "data": {
      "text/plain": [
       "<matplotlib.colorbar.Colorbar at 0x1cc137bc880>"
      ]
     },
     "execution_count": 2,
     "metadata": {},
     "output_type": "execute_result"
    },
    {
     "data": {
      "image/png": "[encoded data removed]",
      "text/plain": [
       "<Figure size 576x432 with 2 Axes>"
      ]
     },
     "metadata": {},
     "output_type": "display_data"
    }
   ],
   "source": [
    "image_data = fits.getdata(image_file, ext=0)\n",
    "print(image_data.shape)\n",
    "plt.figure()\n",
    "plt.imshow(image_data, cmap='gray')\n",
    "plt.colorbar()\n",
    "\n",
    "#This is also pretty much just coppied and pasted"
   ]
  },
  {
   "cell_type": "code",
   "execution_count": 3,
   "metadata": {},
   "outputs": [
    {
     "data": {
      "text/plain": [
       "SIMPLE  =                    T / file does conform to FITS standard             \n",
       "BITPIX  =                   16 / number of bits per data pixel                  \n",
       "NAXIS   =                    0 / number of data axes                            \n",
       "EXTEND  =                    T / FITS dataset may contain extensions            \n",
       "COMMENT   FITS (Flexible Image Transport System) format is defined in 'Astronomy\n",
       "COMMENT   and Astrophysics', volume 376, page 359; bibcode: 2001A&A...376..359H \n",
       "ORIGIN  = 'HSTIO/CFITSIO March 2010' / FITS file originator                     \n",
       "DATE    = '2021-09-27' / date this file was written (yyyy-mm-dd)                \n",
       "NEXTEND =                    7 / Number of standard extensions                  \n",
       "FILENAME= 'iejra2lsq_flt.fits' / name of file                                   \n",
       "FILETYPE= 'SCI      '          / type of data found in data file                \n",
       "                                                                                \n",
       "TELESCOP= 'HST'                / telescope used to acquire data                 \n",
       "INSTRUME= 'WFC3  '             / identifier for instrument used to acquire data \n",
       "EQUINOX =               2000.0 / equinox of celestial coord. system             \n",
       "                                                                                \n",
       "              / DATA DESCRIPTION KEYWORDS                                       \n",
       "                                                                                \n",
       "ROOTNAME= 'iejra2lsq                         ' / rootname of the observation set\n",
       "IMAGETYP= 'EXT               ' / type of exposure identifier                    \n",
       "PRIMESI = 'WFC3  '             / instrument designated as prime                 \n",
       "                                                                                \n",
       "              / TARGET INFORMATION                                              \n",
       "                                                                                \n",
       "TARGNAME= 'BD-17-588                      ' / proposer's target name            \n",
       "RA_TARG =   4.546108869267E+01 / right ascension of the target (deg) (J2000)    \n",
       "DEC_TARG=  -1.659425237597E+01 / declination of the target (deg) (J2000)        \n",
       "                                                                                \n",
       "              / PROPOSAL INFORMATION                                            \n",
       "                                                                                \n",
       "PROPOSID=                16503 / PEP proposal identifier                        \n",
       "LINENUM = '02.005         '    / proposal logsheet line number                  \n",
       "PR_INV_L= 'Winters                       ' / last name of principal investigator\n",
       "PR_INV_F= 'Jennifer            ' / first name of principal investigator         \n",
       "PR_INV_M= '                    ' / middle name / initial of principal investigat\n",
       "                                                                                \n",
       "              / EXPOSURE INFORMATION                                            \n",
       "                                                                                \n",
       "SUNANGLE=           134.544113 / angle between sun and V1 axis                  \n",
       "MOONANGL=            42.902611 / angle between moon and V1 axis                 \n",
       "SUN_ALT =            15.725032 / altitude of the sun above Earth's limb         \n",
       "FGSLOCK = 'FINE              ' / commanded FGS lock (FINE,COARSE,GYROS,UNKNOWN) \n",
       "GYROMODE= 'T'                  / number of gyros scheduled, T=3+OBAD            \n",
       "REFFRAME= 'ICRS    '           / guide star catalog version                     \n",
       "MTFLAG  = ' '                  / moving target flag; T if it is a moving target \n",
       "                                                                                \n",
       "DATE-OBS= '2021-09-26'         / UT date of start of observation (yyyy-mm-dd)   \n",
       "TIME-OBS= '15:18:16'           / UT time of start of observation (hh:mm:ss)     \n",
       "EXPSTART=   5.948363769035E+04 / exposure start time (Modified Julian Date)     \n",
       "EXPEND  =   5.948363794496E+04 / exposure end time (Modified Julian Date)       \n",
       "EXPTIME =            22.000000 / exposure duration (seconds)--calculated        \n",
       "EXPFLAG = 'TDF-DOWN AT EXPSTART' / Exposure interruption indicator              \n",
       "QUALCOM1= '                                                                    '\n",
       "QUALCOM2= '                                                                    '\n",
       "QUALCOM3= '                                                                    '\n",
       "QUALITY = '                                                                    '\n",
       "                                                                                \n",
       "DARKTIME=            25.731296 / fiducial pixel dark time (secs)                \n",
       "                                                                                \n",
       "              / POINTING INFORMATION                                            \n",
       "                                                                                \n",
       "PA_V3   =           109.019501 / position angle of V3-axis of HST (deg)         \n",
       "                                                                                \n",
       "              / TARGET OFFSETS (POSTARGS)                                       \n",
       "                                                                                \n",
       "POSTARG1=           -10.086160 / POSTARG in axis 1 direction                    \n",
       "POSTARG2=            -0.180310 / POSTARG in axis 2 direction                    \n",
       "                                                                                \n",
       "              / DIAGNOSTIC KEYWORDS                                             \n",
       "                                                                                \n",
       "PROCTIME=   5.948400358796E+04 / pipeline processing time (MJD)                 \n",
       "OPUS_VER= 'HSTDP 2021_4                ' / data processing software system versi\n",
       "AWSYSVER= '                            ' / cloud infrastructure package version \n",
       "AWSDPVER= '                            ' / cloud docker image version           \n",
       "CSYS_VER= 'caldp_20210827'     / calibration software system version id         \n",
       "CAL_VER = '3.6.2 (May-27-2021)' / CALWF3 code version                           \n",
       "                                                                                \n",
       "              / SCIENCE INSTRUMENT CONFIGURATION                                \n",
       "                                                                                \n",
       "OBSTYPE = 'IMAGING       '     / observation type - imaging or spectroscopic    \n",
       "OBSMODE = 'ACCUM     '         / operating mode                                 \n",
       "CTEIMAGE= '    '               / type of Charge Transfer Image, if applicable   \n",
       "SCLAMP  = 'NONE          '     / lamp status, NONE or name of lamp which is on  \n",
       "NRPTEXP =                   16 / number of repeat exposures in set: default 1   \n",
       "SUBARRAY=                    T / data from a subarray (T) or full frame (F)     \n",
       "DETECTOR= 'UVIS'               / detector in use: UVIS or IR                    \n",
       "FILTER  = 'F814W  '            / element selected from filter wheel             \n",
       "APERTURE= 'UVIS2-C512C-SUB '   / aperture name                                  \n",
       "PROPAPER= '                '   / proposed aperture name                         \n",
       "DIRIMAGE= 'NONE     '          / direct image for grism or prism exposure       \n",
       "CTEDIR  = 'NONE    '           / CTE measurement direction: serial or parallel  \n",
       "CRSPLIT =                    1 / number of cosmic ray split exposures           \n",
       "                                                                                \n",
       "              / CTE CORRECTION PARAMETERS                                       \n",
       "                                                                                \n",
       "CTE_NAME= '                       ' / Name of the CTE algorithm                 \n",
       "CTE_VER = '                       ' / Version number of the CTE algorithm       \n",
       "CTEDATE0=   0.000000000000E+00 / Date of WFC3/UVIS installation in HST (MJD)    \n",
       "CTEDATE1=   0.000000000000E+00 / Reference date of CTE model pinning (MJD)      \n",
       "PCTETLEN=   0.000000000000E+00 / Maximum length of CTE trail                    \n",
       "PCTERNOI=   0.000000000000E+00 / Read noise amplitude                           \n",
       "PCTENFOR=                    0 / Number iterations used in CTE forward modeling \n",
       "PCTENPAR=                    0 / Number of iterations used in parallel transfer \n",
       "PCTEFRAC=   0.000000000000E+00 / Scaling of CTE model (relative to CTEDATE1)    \n",
       "PCTENSMD=                    0 / Read noise mitigation algorithm                \n",
       "PCTETRSH=   0.000000000000E+00 / Over-subtraction threshold                     \n",
       "FIXROCR =                    0 / Fix readout cosmic rays                        \n",
       "                                                                                \n",
       "              / SCAN KEYWORDS                                                   \n",
       "                                                                                \n",
       "SCAN_TYP= 'C                 ' / C:bostrophidon; D:C with dwell; N:N/A          \n",
       "SCAN_WID=   0.000000000000E+00 / scan width (arcsec)                            \n",
       "ANG_SIDE=   8.621849822998E+01 / angle between sides of parallelogram (deg)     \n",
       "DWELL_LN=                    0 / dwell pts/line for scan pointing (1-99,0 if NA)\n",
       "DWELL_TM=   0.000000000000E+00 / wait time (duration) at each dwell point (sec) \n",
       "SCAN_ANG=   3.182304077148E+02 / position angle of scan line (deg)              \n",
       "SCAN_RAT=   6.700000166893E-01 / commanded rate of the line scan (arcsec/sec)   \n",
       "NO_LINES=                    1 / number of lines per scan (1-99,0 if NA)        \n",
       "SCAN_LEN=   1.676675033569E+01 / scan length (arcsec)                           \n",
       "SCAN_COR= 'V                 ' / scan coordinate frame of ref: celestial,vehicle\n",
       "CSMID   = 'UVIS   '            / Channel Select Mechanism ID                    \n",
       "                                                                                \n",
       "              / CALIBRATION SWITCHES: PERFORM, OMIT, COMPLETE, SKIPPED          \n",
       "                                                                                \n",
       "WRTERR  =                    T / write out error array extension                \n",
       "DQICORR = 'COMPLETE'           / data quality initialization                    \n",
       "ATODCORR= 'OMIT    '           / correct for A to D conversion errors           \n",
       "BLEVCORR= 'COMPLETE'           / subtract bias level computed from overscan     \n",
       "BIASCORR= 'COMPLETE'           / Subtract bias image                            \n",
       "FLSHCORR= 'OMIT    '           / post flash correction                          \n",
       "CRCORR  = 'OMIT    '           / combine observations to reject cosmic rays     \n",
       "EXPSCORR= 'COMPLETE'           / process individual observations after cr-reject\n",
       "SHADCORR= 'OMIT    '           / apply shutter shading correction               \n",
       "DARKCORR= 'COMPLETE'           / Subtract dark image                            \n",
       "FLATCORR= 'COMPLETE'           / flat field data                                \n",
       "PCTECORR= 'PERFORM '           / cte correction                                 \n",
       "PHOTCORR= 'COMPLETE'           / populate photometric header keywords           \n",
       "DRIZCORR= 'COMPLETE'           / drizzle processing                             \n",
       "FLUXCORR= 'COMPLETE'           / Scale UVIS2 to match UVIS1 using PHTRATIO      \n",
       "                                                                                \n",
       "              / CALIBRATION REFERENCE FILES                                     \n",
       "                                                                                \n",
       "BPIXTAB = 'iref$59h1342ai_bpx.fits' / bad pixel table                           \n",
       "CCDTAB  = 'iref$t291659mi_ccd.fits' / detector calibration parameters           \n",
       "ATODTAB = 'N/A                    ' / analog to digital correction file         \n",
       "OSCNTAB = 'iref$q911321oi_osc.fits' / detector overscan table                   \n",
       "BIASFILE= 'iref$56417237i_bia.fits' / bias image file name                      \n",
       "FLSHFILE= 'N/A                    ' / post flash correction file name           \n",
       "CRREJTAB= 'iref$n9i1435li_crr.fits' / cosmic ray rejection parameters           \n",
       "SHADFILE= 'N/A                    ' / shutter shading correction file           \n",
       "DARKFILE= 'iref$58g20336i_drk.fits' / dark image file name                      \n",
       "PFLTFILE= 'iref$zcv2054mi_pfl.fits' / pixel to pixel flat field file name       \n",
       "DFLTFILE= 'N/A                    ' / delta flat field file name                \n",
       "LFLTFILE= 'N/A                    ' / low order flat                            \n",
       "GRAPHTAB= 'N/A                    ' / the HST graph table                       \n",
       "COMPTAB = 'N/A                    ' / the HST components table                  \n",
       "IMPHTTAB= 'iref$51c1638pi_imp.fits' / Image Photometry Table                    \n",
       "IDCTAB  = 'iref$2731450pi_idc.fits' / image distortion correction table         \n",
       "DGEOFILE= 'N/A                    ' / Distortion correction image               \n",
       "MDRIZTAB= 'iref$2ck18260i_mdz.fits' / MultiDrizzle parameter table              \n",
       "D2IMFILE= 'iref$y7b1516hi_d2i.fits' / Column Correction Reference File          \n",
       "NPOLFILE= 'iref$y7b15170i_npl.fits' / Non-polynomial Offsets Reference File     \n",
       "PCTETAB = 'iref$54l1347ei_cte.fits' / CTE Correction Table                      \n",
       "DRKCFILE= 'iref$58g2032ci_dkc.fits' / De-trailed Dark Reference File            \n",
       "BIACFILE= 'iref$zcv2057ni_bic.fits' / Average bias frame used in CTE Correction \n",
       "SNKCFILE= 'iref$zcv2057oi_snk.fits' / Map of sink pixels                        \n",
       "                                                                                \n",
       "              / COSMIC RAY REJECTION ALGORITHM PARAMETERS                       \n",
       "                                                                                \n",
       "MEANEXP =                  0.0 / reference exposure time for parameters         \n",
       "SCALENSE=                  0.0 / multiplicative scale factor applied to noise   \n",
       "INITGUES= '   '                / initial guess method (MIN or MED)              \n",
       "SKYSUB  = '    '               / sky value subtracted (MODE or NONE)            \n",
       "SKYSUM  =                  0.0 / sky level from the sum of all constituent image\n",
       "CRSIGMAS= '               '    / statistical rejection criteria                 \n",
       "CRRADIUS=                  0.0 / rejection propagation radius (pixels)          \n",
       "CRTHRESH=             0.000000 / rejection propagation threshold                \n",
       "BADINPDQ=                    0 / data quality flag bits to reject               \n",
       "REJ_RATE=                  0.0 / rate at which pixels are affected by cosmic ray\n",
       "CRMASK  =                    F / flag CR-rejected pixels in input files (T/F)   \n",
       "                                                                                \n",
       "              / POST FLASH PARAMETERS                                           \n",
       "                                                                                \n",
       "FLASHDUR=                  0.0 / Exposure time in seconds: 0.1 to 409.5         \n",
       "FLASHCUR= 'ZERO   '            / Post flash current (zero, low, medium, high)   \n",
       "FLASHLVL=                    0 / Post flash requested flash level               \n",
       "FLASHSTA= 'NOT PERFORMED   '   / Status: SUCCESSFUL, ABORTED, NOT PERFORMED     \n",
       "SHUTRPOS= 'A    '              / Shutter position: A or B                       \n",
       "                                                                                \n",
       "              / CHARGE INJECTION PARAMETERS                                     \n",
       "CHINJECT= 'NONE    '           / Charge Injection Mode                          \n",
       "                                                                                \n",
       "              / OTFR KEYWORDS                                                   \n",
       "                                                                                \n",
       "T_SGSTAR= 'N/A               ' / OMS calculated guide star control              \n",
       "                                                                                \n",
       "              / PATTERN KEYWORDS                                                \n",
       "                                                                                \n",
       "PATTERN1= 'NONE                    ' / primary pattern type                     \n",
       "P1_SHAPE= '                  ' / primary pattern shape                          \n",
       "P1_PURPS= '          '         / primary pattern purpose                        \n",
       "P1_NPTS =                    0 / number of points in primary pattern            \n",
       "P1_PSPAC=             0.000000 / point spacing for primary pattern (arc-sec)    \n",
       "P1_LSPAC=             0.000000 / line spacing for primary pattern (arc-sec)     \n",
       "P1_ANGLE=             0.000000 / angle between sides of parallelogram patt (deg)\n",
       "P1_FRAME= '         '          / coordinate frame of primary pattern            \n",
       "P1_ORINT=             0.000000 / orientation of pattern to coordinate frame (deg\n",
       "P1_CENTR= '   '                / center pattern relative to pointing (yes/no)   \n",
       "PATTSTEP=                    0 / position number of this point in the pattern   \n",
       "                                                                                \n",
       "              / ENGINEERING PARAMETERS                                          \n",
       "                                                                                \n",
       "CCDAMP  = 'C   '               / CCD Amplifier Readout Configuration            \n",
       "CCDGAIN =                  1.5 / commanded gain of CCD                          \n",
       "CCDOFSTA=                    3 / commanded CCD bias offset for amplifier A      \n",
       "CCDOFSTB=                    3 / commanded CCD bias offset for amplifier B      \n",
       "CCDOFSTC=                    3 / commanded CCD bias offset for amplifier C      \n",
       "CCDOFSTD=                    3 / commanded CCD bias offset for amplifier D      \n",
       "                                                                                \n",
       "              / CALIBRATED ENGINEERING PARAMETERS                               \n",
       "                                                                                \n",
       "ATODGNA =        0.0000000E+00 / calibrated gain for amplifier A                \n",
       "ATODGNB =        0.0000000E+00 / calibrated gain for amplifier B                \n",
       "ATODGNC =        1.5599999E+00 / calibrated gain for amplifier C                \n",
       "ATODGND =        0.0000000E+00 / calibrated gain for amplifier D                \n",
       "READNSEA=        0.0000000E+00 / calibrated read noise for amplifier A          \n",
       "READNSEB=        0.0000000E+00 / calibrated read noise for amplifier B          \n",
       "READNSEC=        3.0799999E+00 / calibrated read noise for amplifier C          \n",
       "READNSED=        0.0000000E+00 / calibrated read noise for amplifier D          \n",
       "BIASLEVA=             0.000000 / bias level for amplifier A                     \n",
       "BIASLEVB=             0.000000 / bias level for amplifier B                     \n",
       "BIASLEVC=        2.4989766E+03 / bias level for amplifier C                     \n",
       "BIASLEVD=             0.000000 / bias level for amplifier D                     \n",
       "                                                                                \n",
       "              / ASSOCIATION KEYWORDS                                            \n",
       "                                                                                \n",
       "ASN_ID  = 'NONE      '         / unique identifier assigned to association      \n",
       "ASN_TAB = 'NONE                   ' / name of the association table             \n",
       "ASN_MTYP= '            '       / Role of the Member in the Association          \n",
       "CRDS_CTX= 'hst_0955.pmap'                                                       \n",
       "CRDS_VER= '10.1.0, b10.1.0, 804a30a1161a0e0282c40e46bb49d2e72bb47958'           \n",
       "NLINFILE= 'N/A     '                                                            \n",
       "UPWCSVER= '1.6.1   '           / Version of STWCS used to updated the WCS       \n",
       "PYWCSVER= '4.1     '           / Version of PYWCS used to updated the WCS       \n",
       "HISTORY CCD parameters table:                                                   \n",
       "HISTORY   reference table iref$t291659mi_ccd.fits                               \n",
       "HISTORY     GROUND                                                              \n",
       "HISTORY     UVIS-1 CCD characteristics from TV3 data                            \n",
       "HISTORY     From TV3 data                                                       \n",
       "HISTORY Uncertainty array initialized.                                          \n",
       "HISTORY DQICORR complete ...                                                    \n",
       "HISTORY   values checked for saturation                                         \n",
       "HISTORY   DQ array initialized ...                                              \n",
       "HISTORY   reference table iref$59h1342ai_bpx.fits                               \n",
       "HISTORY     INFLIGHT 23/06/2009 15/10/2009                                      \n",
       "HISTORY     Based on ground, SMOV, and Cycle 17 data, as well as 900 second &   \n",
       "HISTORY BLEVCORR complete; bias level from overscan was subtracted.             \n",
       "HISTORY BLEVCORR does not include correction for drift along lines.             \n",
       "HISTORY   Overscan region table:                                                \n",
       "HISTORY   reference table iref$q911321oi_osc.fits                               \n",
       "HISTORY     GROUND                                                              \n",
       "HISTORY     WFC3 normal overscan CCD data compatible                            \n",
       "HISTORY BIASCORR complete ...                                                   \n",
       "HISTORY   reference image iref$56417237i_bia.fits                               \n",
       "HISTORY     INFLIGHT 2020-01-01 2020-12-31                                      \n",
       "HISTORY     2020 Superbias intended for use with WFC3/UVIS subarray data        \n",
       "HISTORY CCD parameters table:                                                   \n",
       "HISTORY   reference table iref$t291659mi_ccd.fits                               \n",
       "HISTORY     GROUND                                                              \n",
       "HISTORY     UVIS-1 CCD characteristics from TV3 data                            \n",
       "HISTORY     From TV3 data                                                       \n",
       "HISTORY DQICORR complete ...                                                    \n",
       "HISTORY   values checked for saturation                                         \n",
       "HISTORY   DQ array initialized ...                                              \n",
       "HISTORY   reference table iref$59h1342ai_bpx.fits                               \n",
       "HISTORY     INFLIGHT 23/06/2009 15/10/2009                                      \n",
       "HISTORY     Based on ground, SMOV, and Cycle 17 data, as well as 900 second &   \n",
       "HISTORY DARKCORR complete ...                                                   \n",
       "HISTORY   reference image iref$58g20336i_drk.fits                               \n",
       "HISTORY     INFLIGHT 09/08/2021 11/08/2021                                      \n",
       "HISTORY     DARK created from in-flight WFC3/UVIS frames ---------------------- \n",
       "HISTORY FLATCORR complete ...                                                   \n",
       "HISTORY   reference image iref$zcv2054mi_pfl.fits                               \n",
       "HISTORY     INFLIGHT 14/05/2009 01/08/2011                                      \n",
       "HISTORY     ------ Chip-dependent LP-flat (TV3 LP-flat * Inflight L-flat)------ \n",
       "PHOTFLAM=        1.5184455E-19 / Inverse sensitivity, ergs/cm2/A/e-             \n",
       "PHOTZPT =       -2.1100000E+01 / ST magnitude zero point                        \n",
       "PHTFLAM2=   1.543532300000E-19 / Ch2 Inv Sens, use PHOTFLAM if FLUXCORR=COMPLETE\n",
       "PHTFLAM1=   1.518445435863E-19 / Ch1 Inv Sens, use PHOTFLAM for UV filters      \n",
       "HISTORY PHOTCORR complete ...                                                   \n",
       "HISTORY   reference table iref$51c1638pi_imp.fits                               \n",
       "HISTORY     INFLIGHT 08/05/2009 01/11/2019                                      \n",
       "HISTORY     2020 Time-dependent Inverse Sensitivity with updated calspec model  \n",
       "HISTORY FLUXCORR complete ...                                                   \n",
       "HISTORY EXPSCORR complete ...                                                   \n",
       "PHTRATIO=   1.016521412982E+00 / PHTFLAM2/PHTFLAM1 ratio                        \n",
       "DISTNAME= 'iejra2lsq_2731450pi-y7b15170i-y7b1516hi'                             \n",
       "SIPNAME = 'iejra2lsq_2731450pi'                                                 "
      ]
     },
     "execution_count": 3,
     "metadata": {},
     "output_type": "execute_result"
    }
   ],
   "source": [
    "image_file = get_pkg_data_filename('/Users/fixit/Desktop/iejra2lsq_flt.fits')\n",
    "hdul = fits.open(image_file)\n",
    "hdul[0].header\n",
    "\n",
    "#This is courtesy of Maura"
   ]
  },
  {
   "cell_type": "code",
   "execution_count": 4,
   "metadata": {},
   "outputs": [],
   "source": [
    "expstart = hdul[0].header['EXPSTART']\n",
    "expend = hdul[0].header['EXPEND']\n",
    "exptime = hdul[0].header['EXPTIME']\n",
    "\n",
    "#Ths is courtesy of Trevor, but I had to change it from 'hdulist' to 'hdul'"
   ]
  },
  {
   "cell_type": "code",
   "execution_count": 5,
   "metadata": {},
   "outputs": [
    {
     "name": "stdout",
     "output_type": "stream",
     "text": [
      "59483.63769035 59483.63794496 22.0\n"
     ]
    }
   ],
   "source": [
    "print(expstart, expend, exptime) #This is just to check that it worked :)"
   ]
  },
  {
   "cell_type": "code",
   "execution_count": 40,
   "metadata": {},
   "outputs": [
    {
     "data": {
      "text/plain": [
       "59483.637817655"
      ]
     },
     "execution_count": 40,
     "metadata": {},
     "output_type": "execute_result"
    }
   ],
   "source": [
    "(expstart + expend)/2"
   ]
  },
  {
   "cell_type": "code",
   "execution_count": 43,
   "metadata": {},
   "outputs": [
    {
     "data": {
      "text/plain": [
       "59483.637817655"
      ]
     },
     "execution_count": 43,
     "metadata": {},
     "output_type": "execute_result"
    }
   ],
   "source": [
    "np.median([expstart, expend])"
   ]
  },
  {
   "cell_type": "code",
   "execution_count": 7,
   "metadata": {},
   "outputs": [
    {
     "data": {
      "text/plain": [
       "(array([[512.,   0.,   0., ...,   0.,   0.,   0.],\n",
       "        [512.,   0.,   0., ...,   0.,   0.,   0.],\n",
       "        [512.,   0.,   0., ...,   0.,   0.,   0.],\n",
       "        ...,\n",
       "        [512.,   0.,   0., ...,   0.,   0.,   0.],\n",
       "        [512.,   0.,   0., ...,   0.,   0.,   0.],\n",
       "        [512.,   0.,   0., ...,   0.,   0.,   0.]]),\n",
       " array([  -73.091965,  4814.6934  ,  9702.479   , 14590.264   ,\n",
       "        19478.049   , 24365.834   , 29253.621   , 34141.406   ,\n",
       "        39029.19    , 43916.977   , 48804.76    ], dtype=float32),\n",
       " <a list of 513 Lists of Patches objects>)"
      ]
     },
     "execution_count": 7,
     "metadata": {},
     "output_type": "execute_result"
    },
    {
     "data": {
      "image/png": "[encoded data removed]",
      "text/plain": [
       "<Figure size 576x432 with 1 Axes>"
      ]
     },
     "metadata": {},
     "output_type": "display_data"
    }
   ],
   "source": [
    "plt.hist(image_data)"
   ]
  },
  {
   "cell_type": "code",
   "execution_count": 8,
   "metadata": {},
   "outputs": [
    {
     "data": {
      "text/plain": [
       "array([[-6.0466356 , -3.3808355 , -2.308521  , ..., -4.5968227 ,\n",
       "        -6.023499  ,  2.7505212 ],\n",
       "       [-2.2573168 ,  0.3039035 , -2.4421606 , ...,  1.9427482 ,\n",
       "        -5.167463  , -0.7907589 ],\n",
       "       [ 3.8389304 , -1.1620663 ,  4.26497   , ...,  0.36358547,\n",
       "         5.583905  ,  4.6138773 ],\n",
       "       ...,\n",
       "       [-1.0557768 , -0.48651642,  3.0483305 , ..., -2.0901544 ,\n",
       "         1.8440837 ,  2.7269793 ],\n",
       "       [-0.11850564, -1.9568294 ,  4.4917064 , ...,  3.3814423 ,\n",
       "         0.48102826,  3.3151639 ],\n",
       "       [-0.37083828,  2.7084463 , -0.91689074, ..., -2.8355641 ,\n",
       "         0.59530276,  2.2735612 ]], dtype=float32)"
      ]
     },
     "execution_count": 8,
     "metadata": {},
     "output_type": "execute_result"
    }
   ],
   "source": [
    "image_data"
   ]
  },
  {
   "cell_type": "code",
   "execution_count": 37,
   "metadata": {},
   "outputs": [
    {
     "data": {
      "image/png": "[encoded data removed]",
      "text/plain": [
       "<Figure size 576x432 with 1 Axes>"
      ]
     },
     "metadata": {},
     "output_type": "display_data"
    }
   ],
   "source": [
    "#Attempt at a histogram\n",
    "plt.hist(image_data)\n",
    "plt.show()"
   ]
  },
  {
   "cell_type": "code",
   "execution_count": 39,
   "metadata": {},
   "outputs": [
    {
     "name": "stderr",
     "output_type": "stream",
     "text": [
      "<ipython-input-39-ffd5d354fad4>:6: RuntimeWarning: invalid value encountered in log10\n",
      "  plt.hist(np.log10(x))\n",
      "C:\\Users\\fixit\\anaconda3\\lib\\site-packages\\numpy\\lib\\histograms.py:839: RuntimeWarning: invalid value encountered in greater_equal\n",
      "  keep = (tmp_a >= first_edge)\n",
      "C:\\Users\\fixit\\anaconda3\\lib\\site-packages\\numpy\\lib\\histograms.py:840: RuntimeWarning: invalid value encountered in less_equal\n",
      "  keep &= (tmp_a <= last_edge)\n"
     ]
    },
    {
     "name": "stdout",
     "output_type": "stream",
     "text": [
      "11949.525390625\n"
     ]
    },
    {
     "data": {
      "image/png": "[encoded data removed]",
      "text/plain": [
       "<Figure size 576x432 with 1 Axes>"
      ]
     },
     "metadata": {},
     "output_type": "display_data"
    }
   ],
   "source": [
    "x = np.zeros(len(image_data))\n",
    "for n in range(len(image_data)):\n",
    "        x[n] = np.sum(image_data[n][:])\n",
    "    \n",
    "\n",
    "plt.hist(np.log10(x))\n",
    "print(np.median(x))"
   ]
  },
  {
   "cell_type": "code",
   "execution_count": 26,
   "metadata": {},
   "outputs": [
    {
     "data": {
      "text/plain": [
       "513"
      ]
     },
     "execution_count": 26,
     "metadata": {},
     "output_type": "execute_result"
    }
   ],
   "source": [
    "len(image_data[1])"
   ]
  },
  {
   "cell_type": "code",
   "execution_count": 29,
   "metadata": {},
   "outputs": [
    {
     "name": "stdout",
     "output_type": "stream",
     "text": [
      "[-6.04663563e+00 -3.38083553e+00 -2.30852103e+00 -5.29289436e+00\n",
      " -1.35135374e+01 -4.56965029e-01 -4.54697037e+00 -6.36909103e+00\n",
      " -6.44150162e+00  5.27199268e-01 -3.33247924e+00 -6.18719721e+00\n",
      " -1.45714688e+00 -5.09003401e+00 -4.16730690e+00 -1.44449415e+01\n",
      " -2.81402397e+00 -6.46596193e+00  1.53654885e+00 -1.95392215e+00\n",
      " -1.99556589e+00 -2.69485474e-01  2.22821665e+00 -5.12428713e+00\n",
      " -6.80829763e+00 -1.85371220e+00  1.44212759e+00  4.16729450e+00\n",
      " -1.23418570e+01 -7.45913219e+00  3.09117270e+00 -2.24828959e+00\n",
      " -1.98167050e+00  1.59093308e+00  8.39234650e-01 -1.64031899e+00\n",
      "  3.22941852e+00 -7.35195494e+00 -3.63329959e+00 -5.19383192e+00\n",
      "  2.09906626e+00  5.01156378e+00  7.82904816e+00  2.89177704e+00\n",
      " -2.34613836e-01 -4.90459776e+00 -5.58034611e+00 -9.51594257e+00\n",
      " -5.36110735e+00 -4.09245300e+00 -4.76353550e+00  3.65669465e+00\n",
      " -5.01115417e+00 -3.57217336e+00  3.82035971e+00 -7.46438122e+00\n",
      " -5.96052742e+00  3.91175652e+00 -4.05847740e+00 -7.39832735e+00\n",
      " -2.06957054e+00 -9.49883699e-01  5.15721083e-01 -4.19208813e+00\n",
      "  7.15595186e-02 -2.20929891e-01 -5.61865568e+00 -5.84950733e+00\n",
      " -1.89136863e+00 -1.65326309e+00  3.54945779e+00 -1.69671333e+00\n",
      "  3.64866900e+00 -7.38940048e+00 -7.55963683e-01 -1.02340519e-01\n",
      " -1.89961147e+00  3.80242729e+00 -2.50333476e+00  3.68172526e+00\n",
      " -4.54997349e+00  1.94180739e+00  6.08287239e+00 -3.18510199e+00\n",
      " -1.58351970e+00 -4.20695162e+00 -1.35974133e+00  4.94455051e+00\n",
      "  2.07041574e+00 -1.61766887e+00  2.36546636e+00 -1.36555517e+00\n",
      "  1.84972966e+00  6.44088387e-01  1.65507245e+00 -1.55710685e+00\n",
      " -1.01328993e+00 -1.26621827e-01 -6.25771475e+00 -3.24348402e+00\n",
      " -3.51239383e-01 -1.70980895e+00 -1.41664481e+00 -4.28062153e+00\n",
      "  4.63218778e-01 -4.31325054e+00 -2.09313512e+00 -1.00480328e+01\n",
      " -1.90021050e+00 -8.33761871e-01 -2.61129713e+00 -1.92792010e+00\n",
      "  7.25953054e+00  1.96349239e+00 -6.53968620e+00 -6.54775858e+00\n",
      " -1.41703224e+00  3.56838250e+00 -6.90429449e+00 -4.40146446e+00\n",
      " -2.44950747e+00 -3.59453702e+00 -4.79944897e+00  9.44853067e-01\n",
      "  2.33449435e+00 -1.47719109e+00 -2.48272657e+00  8.02975819e-02\n",
      " -4.15025425e+00 -3.70882702e+00 -3.49994808e-01 -2.15917969e+00\n",
      " -3.25368738e+00 -3.37236857e+00  3.18611336e+00 -3.64326358e+00\n",
      " -2.59129620e+00  7.46465400e-02 -4.85094690e+00 -2.65764743e-01\n",
      "  3.33195305e+00 -4.25545311e+00  5.17359591e+00  2.02776766e+00\n",
      " -1.94899762e+00 -2.26932502e+00 -1.87613916e+00  3.08823228e+00\n",
      "  2.97976446e+00 -8.35159588e+00 -6.19473314e+00 -5.70430660e+00\n",
      "  8.66640359e-03 -3.74157238e+00 -8.75041771e+00 -5.23107815e+00\n",
      "  1.73968673e+00 -1.43181491e+00 -1.39076340e+00 -3.56167102e+00\n",
      " -2.10215092e-01 -1.42059135e+00  9.07362747e+00 -6.37236977e+00\n",
      " -2.77280211e-01  4.76776175e-02  1.47468221e+00  1.39694011e+00\n",
      " -1.38486218e+00 -6.45826912e+00 -1.00178048e-01  3.31251144e+00\n",
      " -3.49873638e+00  2.86795521e+00 -2.42789626e+00 -2.45479417e+00\n",
      " -1.87244689e+00 -2.77919650e+00  4.36064228e-02  1.34891760e+00\n",
      " -8.03699017e+00 -9.67807353e-01 -1.24268055e+00  5.09008050e-01\n",
      " -1.67461002e+00 -3.28976583e+00 -3.06825686e+00 -3.23612809e+00\n",
      "  3.51917863e+00 -4.71021986e+00 -3.08615732e+00 -6.44672632e+00\n",
      "  4.87269783e+00 -5.97113037e+00 -9.59292221e+00 -2.25337744e+00\n",
      "  3.49291348e+00 -2.16156530e+00 -7.20322418e+00  2.67496657e+00\n",
      "  4.69196923e-02 -1.13699222e+00 -1.19236267e+00 -2.52652311e+00\n",
      " -3.02524161e+00 -1.86057127e+00 -1.81003094e-01 -2.68097234e+00\n",
      " -3.14630961e+00 -6.18649185e-01  3.74995446e+00 -5.92618322e+00\n",
      " -1.93710184e+00  4.47629452e+00 -1.84979713e+00  1.60323060e+00\n",
      " -5.94912529e-01 -2.31004333e+00  3.09993215e-02  4.80342197e+00\n",
      "  4.63775682e+00 -4.19945049e+00 -4.68675423e+00 -2.03377128e+00\n",
      "  1.38417041e+00  1.68228471e+00  2.78149843e+00  1.93292290e-01\n",
      "  3.31403899e+00  1.53254735e+00  7.05910027e-01 -2.00799441e+00\n",
      " -6.93532658e+00  1.63565624e+00 -1.76524818e-01 -1.20121956e+00\n",
      " -2.57070184e+00 -1.41265655e+00  2.72405958e+00 -1.57796216e+00\n",
      " -1.47830105e+00  6.41471863e+00 -3.28153229e+00 -4.13086176e+00\n",
      " -1.05500591e+00 -1.86996520e+00 -6.63719273e+00  1.04501031e-01\n",
      " -1.51079428e+00 -1.86603531e-01 -5.07007694e+00  1.72659254e+00\n",
      " -3.04258776e+00  3.45088691e-01 -4.86029196e+00 -1.14190593e-01\n",
      " -2.04331779e+00  1.79380822e+00 -2.79660416e+00  4.96851206e+00\n",
      " -1.27038562e+00 -1.95643508e+00 -4.90945482e+00  3.34849072e+00\n",
      " -4.05871773e+00  1.47386265e+00 -5.37540054e+00 -4.48433828e+00\n",
      " -3.75975442e+00 -1.29326987e+00 -2.96599555e+00 -1.75583506e+00\n",
      "  2.02437067e+00 -8.10441685e+00 -2.29875565e+00  3.29293919e+00\n",
      " -5.06367636e+00 -6.20187998e+00  5.11797190e+00  3.77443099e+00\n",
      "  6.68073475e-01  2.60238266e+00 -3.17906547e+00  9.64562988e+00\n",
      " -7.59963703e+00 -2.05680460e-01 -5.30995512e+00 -1.58340871e+00\n",
      " -8.75610054e-01 -4.55326033e+00 -5.81315756e+00  2.81619024e+00\n",
      " -1.15577511e-01 -1.32359350e+00  5.41631207e-02 -5.00198603e+00\n",
      " -2.16348982e+00  5.76673985e-01 -7.24265277e-01 -2.99394822e+00\n",
      " -3.67635798e+00 -5.22958660e+00  2.68562984e+00 -4.73255587e+00\n",
      "  2.58918715e+00 -4.76259899e+00  4.19624996e+00  4.69809580e+00\n",
      " -3.62861872e+00 -2.78294373e+00 -7.49179983e+00 -1.50702345e+00\n",
      " -1.59853590e+00 -8.32826996e+00  1.34418592e-01 -8.95347595e-01\n",
      " -6.50830841e+00 -4.36970329e+00 -5.04508638e+00  9.11262691e-01\n",
      " -1.88313818e+00  3.15891647e+00 -1.66726947e+00 -4.64631748e+00\n",
      "  4.75524664e+00 -2.54105043e+00 -3.06236529e+00  2.84327745e+00\n",
      "  8.18542600e-01 -5.04959965e+00 -1.62935197e+00 -2.87901735e+00\n",
      "  2.97536039e+00 -5.53444433e+00  2.35324788e+00 -1.70386004e+00\n",
      " -3.00097680e+00 -4.22869682e+00  1.49611247e+00  1.22062826e+00\n",
      " -3.89680624e+00  4.06484175e+00  4.05415446e-01 -2.09987545e+00\n",
      "  4.26389074e+00 -2.59437180e+00  1.47518015e+00  6.98766899e+00\n",
      "  7.26293385e-01  1.39478052e+00  1.89054704e+00 -6.48242652e-01\n",
      " -1.34680462e+00  4.43794155e+00  4.91854000e+00 -6.59742355e+00\n",
      " -1.83015811e+00 -1.58535957e+00 -1.12214720e+00 -7.88574839e+00\n",
      " -7.82914782e+00 -6.42631865e+00 -6.57420063e+00 -6.70011342e-02\n",
      " -4.53579235e+00  3.25442314e+00  4.89273310e+00 -1.02841663e+00\n",
      " -1.56870353e+00 -3.70440555e+00 -2.87823629e+00  8.93276882e+00\n",
      " -1.04809117e+00 -2.38698745e+00  3.39460945e+00 -5.28840685e+00\n",
      " -4.13188577e-01 -1.29905546e+00 -1.18514109e+00  3.41346312e+00\n",
      " -1.80883968e+00 -4.38830890e-02  3.22184116e-01 -5.40637589e+00\n",
      " -3.15301466e+00  4.61470795e+00 -4.67882919e+00 -3.90343475e+00\n",
      " -8.48187149e-01  6.30783367e+00 -2.86294818e+00 -2.21347666e+00\n",
      "  2.89639902e+00 -6.21695936e-01  1.61339653e+00  5.91212273e+00\n",
      " -5.02109814e+00  2.77708840e+00 -6.28769684e+00 -2.89128393e-01\n",
      " -3.35808873e-01 -5.17737055e+00 -4.87918329e+00 -6.77824163e+00\n",
      "  2.73650002e+00 -4.28289461e+00 -4.98532915e+00  2.94384694e+00\n",
      " -1.81841457e+00 -4.09928989e+00  2.15998101e+00 -1.54167366e+00\n",
      "  7.00774479e+00  1.92723274e+00 -2.39304852e+00 -6.19029284e-01\n",
      "  3.88223934e+00 -1.71880782e+00 -3.75453520e+00  4.63758659e+00\n",
      " -8.61561596e-01 -1.60941207e+00 -1.02544057e+00 -2.90952396e+00\n",
      "  3.81782055e-01 -4.97946596e+00 -5.04310894e+00 -2.59915853e+00\n",
      " -6.75518799e+00  1.74486065e+00 -4.92982197e+00  3.20814204e+00\n",
      " -3.15761232e+00 -2.94357371e+00 -7.63961220e+00 -1.70157552e+00\n",
      " -2.18325520e+00 -1.74263656e+00  7.70359576e-01 -2.79623747e+00\n",
      " -3.11645007e+00 -6.70635462e-01  8.95390809e-01  2.23611140e+00\n",
      " -4.60241032e+00  3.05947876e+00 -6.29621315e+00 -3.01577240e-01\n",
      " -1.21295178e+00  5.65810084e-01  3.54680896e-01 -1.06553949e-01\n",
      " -2.81732631e+00 -4.93669176e+00  2.99041915e+00  2.74171996e+00\n",
      "  2.15224457e+00 -7.89509630e+00 -2.80838132e+00  3.06949568e+00\n",
      " -4.97710037e+00  3.49240613e+00 -6.18702412e-01  2.72749114e+00\n",
      "  2.05062914e+00 -4.34072495e+00 -7.01096237e-01  1.55997980e+00\n",
      " -1.37993872e+00 -2.81613445e+00  4.29909611e+00 -2.61234665e+00\n",
      " -1.91717839e+00  6.72282092e-03 -4.46464872e+00 -5.23036242e+00\n",
      " -1.43561214e-01 -4.94270372e+00 -1.11911750e+00  1.85857511e+00\n",
      " -1.17271149e+00 -2.91802692e+00  3.05050230e+00  1.75371006e-01\n",
      " -3.80446029e+00  2.23333693e+00  1.56492436e+00 -5.03298044e+00\n",
      "  2.34125948e+00  3.66165304e+00 -1.46253574e+00 -1.56186342e+00\n",
      " -1.74785435e+00 -5.46552479e-01 -1.70478061e-01 -4.04098797e+00\n",
      "  1.31826127e+00 -2.72683525e+00 -2.98933005e+00  1.96030468e-01\n",
      " -1.02063971e+01 -8.72382745e-02  7.92256534e-01  1.54093945e+00\n",
      " -4.70622063e+00 -3.38694692e+00  5.08459663e+00 -2.77982980e-01\n",
      " -3.51969004e+00 -3.24663115e+00 -4.59682274e+00 -6.02349901e+00\n",
      "  2.75052118e+00]\n"
     ]
    }
   ],
   "source": [
    "print(image_data[0])"
   ]
  },
  {
   "cell_type": "code",
   "execution_count": 31,
   "metadata": {},
   "outputs": [
    {
     "name": "stdout",
     "output_type": "stream",
     "text": [
      "[-2.25731683e+00  3.03903490e-01 -2.44216061e+00  6.98208427e+00\n",
      " -2.38968945e+00  6.07394123e+00 -3.88919258e+00  6.37156105e+00\n",
      "  1.77937460e+00 -2.09037447e+00  1.92071319e+00 -7.01383734e+00\n",
      "  4.82094288e+00  7.49549055e+00 -1.10551846e+00  7.76145697e-01\n",
      " -1.42529106e+00  3.13370562e+00  8.32731438e+00 -6.70882750e+00\n",
      "  6.57643700e+00 -8.38560867e+00 -2.48462653e+00  1.43773508e+00\n",
      "  6.58721268e-01 -7.88661718e-01 -1.45252615e-01 -2.17433310e+00\n",
      "  8.45229435e+00 -2.45267320e+00 -1.49377191e+00  3.39621449e+00\n",
      " -2.64889026e+00  1.18023455e+00 -9.25962813e-03  6.75456429e+00\n",
      " -2.75479889e+00  6.01808739e+00 -4.39572573e+00 -5.06941020e-01\n",
      "  2.01618314e+00  2.58199036e-01 -7.64953792e-01 -2.03936982e+00\n",
      "  5.38160276e+00  7.01323748e-01  3.61927414e+00  2.10515046e+00\n",
      "  3.37018323e+00 -1.43454984e-01  3.96614265e+00  3.85319042e+00\n",
      "  5.47773361e+00  3.66449237e+00  2.15270853e+00 -6.84030008e+00\n",
      "  7.73039007e+00  5.44519615e+00 -1.34941971e+00  1.28171360e+00\n",
      "  7.25611782e+00  2.57632136e+00 -6.95451796e-02  5.05166149e+00\n",
      "  5.39529610e+00 -5.19132257e-01  5.08394194e+00  4.79932594e+00\n",
      "  5.13201380e+00  7.73714781e+00 -1.51055801e+00  2.17480850e+00\n",
      "  2.92135596e+00 -9.62139130e-01  1.03972349e+01  5.13147879e+00\n",
      "  4.05946589e+00 -7.68867731e+00  1.86141753e+00 -2.66687703e+00\n",
      " -1.84966218e+00  3.39673305e+00 -3.35736489e+00  1.20863341e-01\n",
      "  1.87319982e+00 -4.60666001e-01  3.20430326e+00 -4.55345839e-01\n",
      "  3.03870946e-01 -2.10140443e+00  3.72385788e+00  6.76383543e+00\n",
      " -3.25326037e+00  1.97151387e+00  5.06644535e+00  4.71376514e+00\n",
      "  3.91021729e+00  1.32014787e+00  6.18337822e+00  3.05718160e+00\n",
      "  3.21542811e+00 -6.49009049e-01 -1.46766767e-01  8.21872902e+00\n",
      " -3.20509529e+00 -2.96463108e+00  2.76520395e+00 -1.29511189e+00\n",
      " -3.43065071e+00  3.57527494e+00  2.17477775e+00 -1.67732990e+00\n",
      "  7.14396191e+00 -5.49999595e-01  1.43312311e+00 -7.23122835e-01\n",
      "  2.63903570e+00  1.38579237e+00  1.06353116e+00  1.62679684e+00\n",
      " -1.14763334e-01  6.89800692e+00  1.90550172e+00  2.50418305e+00\n",
      " -2.51201367e+00 -4.41322438e-02  1.73419368e+00 -4.42873240e+00\n",
      "  7.28045464e+00  6.94728804e+00  5.18578100e+00 -1.20720994e+00\n",
      "  5.48320007e+00 -4.08924103e+00  3.48151827e+00 -3.71471262e+00\n",
      " -1.33511388e+00 -3.85422182e+00  3.31957519e-01  2.88974285e+00\n",
      " -3.71990299e+00 -5.27819729e+00 -3.00998878e+00  6.14523768e-01\n",
      " -6.35376263e+00  6.59207439e+00  1.71547747e+00  6.55219412e+00\n",
      "  1.48934841e+00  4.25109243e+00  5.08952332e+00 -2.84482789e+00\n",
      "  3.46476197e+00  6.24675274e+00  8.02173615e+00  1.71204126e+00\n",
      "  1.13354290e+00  5.39051247e+00  4.84589338e+00 -1.76736284e-02\n",
      " -1.94041705e+00  1.95979404e+00 -1.10777104e+00  2.84348339e-01\n",
      " -5.62072396e-01  3.11782151e-01  1.86606681e+00 -1.08157396e-01\n",
      "  4.88852215e+00  3.16690350e+00  4.65409660e+00  3.15681756e-01\n",
      "  4.10426319e-01 -4.87320518e+00  4.91003036e+00  4.25228167e+00\n",
      " -2.06726527e+00  1.90328634e+00  5.27345085e+00 -1.23199940e+00\n",
      " -2.39180136e+00 -6.01263142e+00 -2.40172577e+00  8.57163048e+00\n",
      "  4.29028320e+00  1.16707291e-02  2.19095111e+00  2.61596346e+00\n",
      "  3.28730321e+00 -7.32150555e+00 -5.63316286e-01 -7.90915191e-02\n",
      " -1.62899625e+00  1.29809892e+00  4.88594627e+00  3.46827960e+00\n",
      " -6.87481523e-01  3.86735678e+00 -3.36478543e+00  2.02144265e+00\n",
      "  1.54582607e-02  2.27518368e+00 -2.94584250e+00  5.01971579e+00\n",
      "  4.89478922e+00  9.04451942e+00 -3.24922657e+00  1.97881863e-01\n",
      " -2.86661625e+00  4.19322777e+00 -1.77100158e+00  2.23428202e+00\n",
      " -4.87335730e+00 -4.91858864e+00 -3.71380258e+00  3.54043531e+00\n",
      "  3.52885842e+00  6.46626854e+00  3.06806850e+00  2.95053661e-01\n",
      "  3.47297812e+00  2.10211492e+00  9.01724148e+00  5.25939751e+00\n",
      "  3.20085430e+00  5.02097750e+00  7.99188709e+00  2.21612573e+00\n",
      "  3.17138314e+00 -1.85945582e+00  3.03946376e+00 -3.05376381e-01\n",
      " -1.29374135e+00 -2.58974701e-01  2.17288542e+00 -3.72485459e-01\n",
      " -2.07134175e+00  3.89137447e-01  4.13548803e+00 -1.98334205e+00\n",
      "  1.64378679e+00  6.22964334e+00 -1.68463433e+00  6.70295429e+00\n",
      "  2.69308305e+00 -1.65476191e+00  5.84301949e+00  1.59589529e+00\n",
      "  3.03699398e+00  4.52930117e+00 -4.89948893e+00  9.85307884e+00\n",
      " -3.57538676e+00  4.54430962e+00  4.81451988e+00  1.98573005e+00\n",
      "  2.23755383e+00 -4.96420431e+00 -4.88181412e-01  1.19437957e+00\n",
      "  4.73420191e+00  4.64785624e+00  1.42880487e+00  8.67138290e+00\n",
      "  1.86678958e+00 -1.41776514e+00  4.10793447e+00  3.74540162e+00\n",
      "  1.50277686e+00  9.96363544e+00  3.39328313e+00  6.63944435e+00\n",
      "  4.31998444e+00  6.45136404e+00  1.95492017e+00  4.18097591e+00\n",
      " -4.06686354e+00  4.76305866e+00  4.37327337e+00  1.03094378e+01\n",
      " -1.90337837e+00  7.83712482e+00  3.73657870e+00  7.89785099e+00\n",
      "  5.37549078e-01  2.25065994e+00  3.00353765e-01 -2.02076292e+00\n",
      " -3.81158972e+00 -1.96772981e+00  4.54427052e+00  1.36083484e+00\n",
      " -1.57420659e+00  3.63130522e+00 -5.68080604e-01 -3.01906061e+00\n",
      "  2.54580736e+00  4.66216654e-02  2.39487600e+00  1.57943106e+00\n",
      "  6.11845970e+00  4.46273756e+00  8.68864346e+00  1.81629908e+00\n",
      "  4.77434731e+00 -3.89892006e+00 -4.41020966e+00  4.28545570e+00\n",
      "  3.20733666e+00 -2.19353151e+00  1.81627774e+00  2.71571803e+00\n",
      "  6.55946684e+00  6.49723577e+00  4.94728088e+00  2.96847510e+00\n",
      "  1.33014163e-02  6.81532860e+00  6.42010260e+00 -1.02215958e+00\n",
      "  3.46687317e+00 -5.02613688e+00  7.85261297e+00 -8.16759014e+00\n",
      "  5.41913795e+00 -3.77864981e+00  3.32768202e-01  2.61059833e+00\n",
      "  3.13860941e+00 -2.45628446e-01  4.40236282e+00 -4.58532572e+00\n",
      "  4.29900408e+00 -1.89391255e+00  3.63699627e+00  2.62477827e+00\n",
      "  6.67868519e+00 -3.33262905e-02  3.79162645e+00  1.55576527e+00\n",
      "  2.99113154e+00  6.23607683e+00  8.31734657e+00  1.07258673e+01\n",
      " -2.72063518e+00  6.22945356e+00  1.82764685e+00  3.99116802e+00\n",
      " -1.45775366e+00  1.02553868e+00  2.66884238e-01 -3.61957788e+00\n",
      "  2.99104643e+00  3.35089946e+00  1.81271732e+00  2.24521875e+00\n",
      " -2.06968617e+00 -3.62693143e+00  5.51937819e+00  3.14613819e+00\n",
      "  4.52363348e+00  4.17526245e+00  8.02063048e-01 -1.91100642e-01\n",
      " -6.10017204e+00 -3.51739001e+00 -3.13112199e-01 -1.66967511e+00\n",
      " -7.78120682e-02  3.67656302e+00 -3.27452588e+00 -3.00647473e+00\n",
      "  1.75709987e+00  3.07966757e+00  4.81720114e+00 -1.10948846e-01\n",
      "  2.19417644e+00 -3.03920889e+00 -1.55540895e+00 -5.35501182e-01\n",
      " -3.38431144e+00  3.06220698e+00 -2.06327438e+00 -4.99371052e+00\n",
      " -1.60280621e+00 -5.04878187e+00  1.32920778e+00  3.06599569e+00\n",
      "  3.02143717e+00  2.79185939e+00 -1.53017378e+00  4.95196581e+00\n",
      "  4.51359940e+00  3.73377204e+00  1.94955242e+00 -3.33391929e+00\n",
      "  4.66085100e+00  2.96799955e-03  3.83654737e+00 -1.71754336e+00\n",
      "  5.46109867e+00 -2.37328768e+00  1.56822228e+00  4.97951031e+00\n",
      " -2.96321487e+00  1.86957765e+00 -2.60116506e+00 -2.06257319e+00\n",
      " -2.03834280e-01 -6.67146111e+00  5.37405539e+00 -7.67342091e-01\n",
      "  5.63034153e+00 -3.11210811e-01 -3.08510780e+00 -3.44092369e+00\n",
      "  3.82638931e+00 -2.22430182e+00 -4.67250776e+00  6.29044026e-02\n",
      "  1.79354763e+00  4.73668957e+00  4.64168119e+00 -1.34685910e+00\n",
      " -5.70283651e-01 -3.82985973e+00 -1.74177325e+00  1.46328139e+00\n",
      "  4.09987783e+00  3.09533656e-01  1.55940700e+00  3.28808403e+00\n",
      "  2.37952575e-01  2.99691916e+00 -1.28190899e+00  1.56505740e+00\n",
      "  1.71200705e+00  3.37800741e+00 -3.32673907e+00 -1.75583720e+00\n",
      "  2.81596375e+00 -1.66980374e+00  2.60497546e+00 -3.75423336e+00\n",
      " -7.27887964e+00  6.67333174e+00  1.64574459e-01  1.94595265e+00\n",
      " -6.97152495e-01 -2.76071340e-01  3.37535119e+00  2.42463493e+00\n",
      "  2.76292324e-01  4.79560041e+00  3.94345969e-01  9.62622225e-01\n",
      "  4.66898084e-01 -8.26828480e+00  3.23364973e+00  2.29993805e-01\n",
      "  5.09189701e+00  1.25791109e+00  4.99954033e+00  3.86224318e+00\n",
      " -3.16191316e+00 -1.81248522e+00 -1.61039352e+00 -1.52153635e+00\n",
      " -6.38821498e-02  1.58002615e+00 -9.55735803e-01 -1.68330741e+00\n",
      "  5.57418299e+00  1.35689545e+00  3.41426909e-01 -2.02289653e+00\n",
      "  4.60447168e+00  2.12884188e+00  1.11484587e+00 -4.07064378e-01\n",
      " -2.19363499e+00  5.15909719e+00 -3.69730949e-01  6.86096668e+00\n",
      " -1.62773097e+00 -1.85808408e+00 -2.96712804e+00 -1.61287165e+00\n",
      "  3.38400912e+00  1.53083074e+00 -1.40923470e-01 -1.56725323e+00\n",
      "  1.93755841e+00 -7.43828714e-02  5.62690592e+00  3.28342462e+00\n",
      " -1.81179094e+00 -2.95614910e+00  2.14174962e+00  1.97386599e+00\n",
      " -6.16532797e-03 -3.16219997e+00  4.75112247e+00 -3.60774517e+00\n",
      "  6.88548803e+00 -2.20583603e-01  1.66218400e+00  6.33302689e+00\n",
      "  3.72180223e+00  3.13505268e+00  1.94274819e+00 -5.16746283e+00\n",
      " -7.90758908e-01]\n"
     ]
    }
   ],
   "source": [
    "print(image_data[1])"
   ]
  },
  {
   "cell_type": "code",
   "execution_count": 2,
   "metadata": {
    "scrolled": true
   },
   "outputs": [
    {
     "ename": "TypeError",
     "evalue": "'type' object is not subscriptable",
     "output_type": "error",
     "traceback": [
      "\u001b[1;31m---------------------------------------------------------------------------\u001b[0m",
      "\u001b[1;31mTypeError\u001b[0m                                 Traceback (most recent call last)",
      "\u001b[1;32m<ipython-input-2-9147b00588b9>\u001b[0m in \u001b[0;36m<module>\u001b[1;34m\u001b[0m\n\u001b[0;32m     18\u001b[0m \u001b[0mimage_file\u001b[0m \u001b[1;33m=\u001b[0m \u001b[0mget_pkg_data_filename\u001b[0m\u001b[1;33m(\u001b[0m\u001b[0mmist\u001b[0m\u001b[1;33m[\u001b[0m\u001b[1;36m0\u001b[0m\u001b[1;33m]\u001b[0m\u001b[1;33m)\u001b[0m\u001b[1;33m\u001b[0m\u001b[1;33m\u001b[0m\u001b[0m\n\u001b[0;32m     19\u001b[0m \u001b[0mimage_data\u001b[0m \u001b[1;33m=\u001b[0m \u001b[0mfits\u001b[0m\u001b[1;33m.\u001b[0m\u001b[0mgetdata\u001b[0m\u001b[1;33m(\u001b[0m\u001b[0mimage_file\u001b[0m\u001b[1;33m,\u001b[0m \u001b[0mext\u001b[0m\u001b[1;33m=\u001b[0m\u001b[1;36m0\u001b[0m\u001b[1;33m)\u001b[0m\u001b[1;33m\u001b[0m\u001b[1;33m\u001b[0m\u001b[0m\n\u001b[1;32m---> 20\u001b[1;33m \u001b[0mplt\u001b[0m\u001b[1;33m.\u001b[0m\u001b[0mhist\u001b[0m\u001b[1;33m(\u001b[0m\u001b[0mimage_data\u001b[0m\u001b[1;33m,\u001b[0m \u001b[1;36m10\u001b[0m\u001b[1;33m,\u001b[0m \u001b[0mrange\u001b[0m\u001b[1;33m[\u001b[0m\u001b[1;36m0\u001b[0m\u001b[1;33m,\u001b[0m\u001b[1;36m500\u001b[0m\u001b[1;33m]\u001b[0m\u001b[1;33m)\u001b[0m\u001b[1;33m\u001b[0m\u001b[1;33m\u001b[0m\u001b[0m\n\u001b[0m\u001b[0;32m     21\u001b[0m \u001b[0mplt\u001b[0m\u001b[1;33m.\u001b[0m\u001b[0mshow\u001b[0m\u001b[1;33m(\u001b[0m\u001b[1;33m)\u001b[0m\u001b[1;33m\u001b[0m\u001b[1;33m\u001b[0m\u001b[0m\n",
      "\u001b[1;31mTypeError\u001b[0m: 'type' object is not subscriptable"
     ]
    }
   ],
   "source": [
    "import numpy as np\n",
    "import scipy as sp\n",
    "import matplotlib.pyplot as plt\n",
    "import glob\n",
    "from astropy.io import fits\n",
    "from astropy.stats import sigma_clip\n",
    "from scipy import optimize, signal\n",
    "import pickle\n",
    "import warnings\n",
    "warnings.filterwarnings(\"ignore\")\n",
    "\n",
    "from astropy.utils.data import get_pkg_data_filename\n",
    "fpath='/Users/fixit/Desktop/Python/Research/LTT1445_fits_files/Test/Tes2/'\n",
    "#fpath='/Users/fixit/Desktop/Python/Research/LTT1445_fits_files/Test/'  #all files\n",
    "mist = glob.glob(fpath+'iejr0*') #29th\n",
    "#mist = glob.glob(fpath+'iejra*') #26th\n",
    "mist = sorted(mist)\n",
    "image_file = get_pkg_data_filename(mist[0])\n",
    "image_data = fits.getdata(image_file, ext=0)\n",
    "plt.hist(image_data, 10, range[0,500])\n",
    "plt.show()\n"
   ]
  },
  {
   "cell_type": "code",
   "execution_count": null,
   "metadata": {},
   "outputs": [],
   "source": []
  }
 ],
 "metadata": {
  "kernelspec": {
   "display_name": "Python 3",
   "language": "python",
   "name": "python3"
  },
  "language_info": {
   "codemirror_mode": {
    "name": "ipython",
    "version": 3
   },
   "file_extension": ".py",
   "mimetype": "text/x-python",
   "name": "python",
   "nbconvert_exporter": "python",
   "pygments_lexer": "ipython3",
   "version": "3.8.3"
  }
 },
 "nbformat": 4,
 "nbformat_minor": 4
}
