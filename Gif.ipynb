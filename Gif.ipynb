{
 "cells": [
  {
   "cell_type": "code",
   "execution_count": 11,
   "metadata": {},
   "outputs": [
    {
     "ename": "SyntaxError",
     "evalue": "invalid syntax (<ipython-input-11-6f7a6031aa22>, line 8)",
     "output_type": "error",
     "traceback": [
      "\u001b[1;36m  File \u001b[1;32m\"<ipython-input-11-6f7a6031aa22>\"\u001b[1;36m, line \u001b[1;32m8\u001b[0m\n\u001b[1;33m    frame_one = frames[0]\u001b[0m\n\u001b[1;37m    ^\u001b[0m\n\u001b[1;31mSyntaxError\u001b[0m\u001b[1;31m:\u001b[0m invalid syntax\n"
     ]
    }
   ],
   "source": [
    "import glob\n",
    "\n",
    "from PIL import Image\n",
    "\n",
    "\n",
    "def make_gif(frame_folder):\n",
    "    frames = [Image.open(image) for image in glob.glob('/Users/fixit/Desktop/Python/Research/LTT1445_fits_files/Test/Tes2/*flt.fits')\n",
    "    frame_one = frames[0]\n",
    "    frame_one.save(\"'LTT1445_2ndEpoch.gif\", format=\"GIF\", append_images=frames,\n",
    "               save_all=True, duration=100, loop=0)\n",
    "    \n",
    "\n",
    "if __name__ == \"__main__\":\n",
    "    make_gif(\"/Users/fixit/Desktop/Python/Research\")"
   ]
  },
  {
   "cell_type": "code",
   "execution_count": 3,
   "metadata": {},
   "outputs": [
    {
     "ename": "NameError",
     "evalue": "name 'glob' is not defined",
     "output_type": "error",
     "traceback": [
      "\u001b[1;31m---------------------------------------------------------------------------\u001b[0m",
      "\u001b[1;31mNameError\u001b[0m                                 Traceback (most recent call last)",
      "\u001b[1;32m<ipython-input-3-8872cc5d10dc>\u001b[0m in \u001b[0;36m<module>\u001b[1;34m\u001b[0m\n\u001b[1;32m----> 1\u001b[1;33m \u001b[0mglob\u001b[0m\u001b[1;33m.\u001b[0m\u001b[0mglob\u001b[0m\u001b[1;33m(\u001b[0m\u001b[1;34m'/Users/fixit/Desktop/Python/Research/'\u001b[0m\u001b[1;33m+\u001b[0m\u001b[1;34m'/LTT1445_fits_files/'\u001b[0m\u001b[1;33m+\u001b[0m \u001b[1;34m'/Test/'\u001b[0m\u001b[1;33m+\u001b[0m\u001b[1;34m'/Tes2/'\u001b[0m\u001b[1;33m+\u001b[0m\u001b[1;34m'*flt.fits'\u001b[0m\u001b[1;33m)\u001b[0m\u001b[1;33m\u001b[0m\u001b[1;33m\u001b[0m\u001b[0m\n\u001b[0m",
      "\u001b[1;31mNameError\u001b[0m: name 'glob' is not defined"
     ]
    }
   ],
   "source": [
    "glob.glob('/Users/fixit/Desktop/Python/Research/'+'/LTT1445_fits_files/'+ '/Test/'+'/Tes2/'+'*flt.fits')"
   ]
  },
  {
   "cell_type": "code",
   "execution_count": 4,
   "metadata": {},
   "outputs": [],
   "source": [
    "import glob"
   ]
  },
  {
   "cell_type": "code",
   "execution_count": 5,
   "metadata": {},
   "outputs": [
    {
     "data": {
      "text/plain": [
       "['/Users/fixit/Desktop/Python/Research//LTT1445_fits_files//Test//Tes2\\\\iejr02jbq_flt.fits',\n",
       " '/Users/fixit/Desktop/Python/Research//LTT1445_fits_files//Test//Tes2\\\\iejr03n2q_flt.fits',\n",
       " '/Users/fixit/Desktop/Python/Research//LTT1445_fits_files//Test//Tes2\\\\iejr03n3q_flt.fits',\n",
       " '/Users/fixit/Desktop/Python/Research//LTT1445_fits_files//Test//Tes2\\\\iejr03n4q_flt.fits',\n",
       " '/Users/fixit/Desktop/Python/Research//LTT1445_fits_files//Test//Tes2\\\\iejr03n5q_flt.fits',\n",
       " '/Users/fixit/Desktop/Python/Research//LTT1445_fits_files//Test//Tes2\\\\iejr03n6q_flt.fits',\n",
       " '/Users/fixit/Desktop/Python/Research//LTT1445_fits_files//Test//Tes2\\\\iejr03n7q_flt.fits']"
      ]
     },
     "execution_count": 5,
     "metadata": {},
     "output_type": "execute_result"
    }
   ],
   "source": [
    "glob.glob('/Users/fixit/Desktop/Python/Research/'+'/LTT1445_fits_files/'+ '/Test/'+'/Tes2/'+'*flt.fits')"
   ]
  },
  {
   "cell_type": "code",
   "execution_count": 9,
   "metadata": {},
   "outputs": [
    {
     "data": {
      "text/plain": [
       "['/Users/fixit/Desktop/Python/Research/LTT1445_fits_files/Test/Tes2\\\\iejr02jbq_flt.fits',\n",
       " '/Users/fixit/Desktop/Python/Research/LTT1445_fits_files/Test/Tes2\\\\iejr03n2q_flt.fits',\n",
       " '/Users/fixit/Desktop/Python/Research/LTT1445_fits_files/Test/Tes2\\\\iejr03n3q_flt.fits',\n",
       " '/Users/fixit/Desktop/Python/Research/LTT1445_fits_files/Test/Tes2\\\\iejr03n4q_flt.fits',\n",
       " '/Users/fixit/Desktop/Python/Research/LTT1445_fits_files/Test/Tes2\\\\iejr03n5q_flt.fits',\n",
       " '/Users/fixit/Desktop/Python/Research/LTT1445_fits_files/Test/Tes2\\\\iejr03n6q_flt.fits',\n",
       " '/Users/fixit/Desktop/Python/Research/LTT1445_fits_files/Test/Tes2\\\\iejr03n7q_flt.fits']"
      ]
     },
     "execution_count": 9,
     "metadata": {},
     "output_type": "execute_result"
    }
   ],
   "source": [
    "glob.glob('/Users/fixit/Desktop/Python/Research/LTT1445_fits_files/Test/Tes2/*flt.fits')\n",
    "# \\\\wsl.localhost\\Ubuntu\\home\\thomas\\desktop\\LTT1445_fits_files\\Test\\Tes2"
   ]
  },
  {
   "cell_type": "code",
   "execution_count": 10,
   "metadata": {},
   "outputs": [
    {
     "data": {
      "text/plain": [
       "['//wsl.localhost/Ubuntu/home/thomas/desktop/LTT1445_fits_files/Test/Tes2\\\\iejra2jgq_flt.fits',\n",
       " '//wsl.localhost/Ubuntu/home/thomas/desktop/LTT1445_fits_files/Test/Tes2\\\\iejra2lqq_flt.fits',\n",
       " '//wsl.localhost/Ubuntu/home/thomas/desktop/LTT1445_fits_files/Test/Tes2\\\\iejra2lyq_flt.fits',\n",
       " '//wsl.localhost/Ubuntu/home/thomas/desktop/LTT1445_fits_files/Test/Tes2\\\\iejra2lxq_flt.fits',\n",
       " '//wsl.localhost/Ubuntu/home/thomas/desktop/LTT1445_fits_files/Test/Tes2\\\\iejra2ktq_flt.fits',\n",
       " '//wsl.localhost/Ubuntu/home/thomas/desktop/LTT1445_fits_files/Test/Tes2\\\\iejra2kwq_flt.fits',\n",
       " '//wsl.localhost/Ubuntu/home/thomas/desktop/LTT1445_fits_files/Test/Tes2\\\\iejra2kzq_flt.fits',\n",
       " '//wsl.localhost/Ubuntu/home/thomas/desktop/LTT1445_fits_files/Test/Tes2\\\\iejra2kyq_flt.fits',\n",
       " '//wsl.localhost/Ubuntu/home/thomas/desktop/LTT1445_fits_files/Test/Tes2\\\\iejra2lcq_flt.fits',\n",
       " '//wsl.localhost/Ubuntu/home/thomas/desktop/LTT1445_fits_files/Test/Tes2\\\\iejra2jyq_flt.fits',\n",
       " '//wsl.localhost/Ubuntu/home/thomas/desktop/LTT1445_fits_files/Test/Tes2\\\\iejra2laq_flt.fits',\n",
       " '//wsl.localhost/Ubuntu/home/thomas/desktop/LTT1445_fits_files/Test/Tes2\\\\iejra2l3q_flt.fits',\n",
       " '//wsl.localhost/Ubuntu/home/thomas/desktop/LTT1445_fits_files/Test/Tes2\\\\iejra2kqq_flt.fits',\n",
       " '//wsl.localhost/Ubuntu/home/thomas/desktop/LTT1445_fits_files/Test/Tes2\\\\iejra2k6q_flt.fits',\n",
       " '//wsl.localhost/Ubuntu/home/thomas/desktop/LTT1445_fits_files/Test/Tes2\\\\iejra2jhq_flt.fits',\n",
       " '//wsl.localhost/Ubuntu/home/thomas/desktop/LTT1445_fits_files/Test/Tes2\\\\iejra2l9q_flt.fits',\n",
       " '//wsl.localhost/Ubuntu/home/thomas/desktop/LTT1445_fits_files/Test/Tes2\\\\iejra2jpq_flt.fits',\n",
       " '//wsl.localhost/Ubuntu/home/thomas/desktop/LTT1445_fits_files/Test/Tes2\\\\iejra2kjq_flt.fits',\n",
       " '//wsl.localhost/Ubuntu/home/thomas/desktop/LTT1445_fits_files/Test/Tes2\\\\iejra2kdq_flt.fits',\n",
       " '//wsl.localhost/Ubuntu/home/thomas/desktop/LTT1445_fits_files/Test/Tes2\\\\iejra2k1q_flt.fits',\n",
       " '//wsl.localhost/Ubuntu/home/thomas/desktop/LTT1445_fits_files/Test/Tes2\\\\iejra2jkq_flt.fits',\n",
       " '//wsl.localhost/Ubuntu/home/thomas/desktop/LTT1445_fits_files/Test/Tes2\\\\iejra2kmq_flt.fits',\n",
       " '//wsl.localhost/Ubuntu/home/thomas/desktop/LTT1445_fits_files/Test/Tes2\\\\iejra2ltq_flt.fits',\n",
       " '//wsl.localhost/Ubuntu/home/thomas/desktop/LTT1445_fits_files/Test/Tes2\\\\iejra2lsq_flt.fits',\n",
       " '//wsl.localhost/Ubuntu/home/thomas/desktop/LTT1445_fits_files/Test/Tes2\\\\iejra2lhq_flt.fits',\n",
       " '//wsl.localhost/Ubuntu/home/thomas/desktop/LTT1445_fits_files/Test/Tes2\\\\iejra2lmq_flt.fits',\n",
       " '//wsl.localhost/Ubuntu/home/thomas/desktop/LTT1445_fits_files/Test/Tes2\\\\iejra2kiq_flt.fits',\n",
       " '//wsl.localhost/Ubuntu/home/thomas/desktop/LTT1445_fits_files/Test/Tes2\\\\iejra2jvq_flt.fits',\n",
       " '//wsl.localhost/Ubuntu/home/thomas/desktop/LTT1445_fits_files/Test/Tes2\\\\iejra2jrq_flt.fits',\n",
       " '//wsl.localhost/Ubuntu/home/thomas/desktop/LTT1445_fits_files/Test/Tes2\\\\iejra2kbq_flt.fits',\n",
       " '//wsl.localhost/Ubuntu/home/thomas/desktop/LTT1445_fits_files/Test/Tes2\\\\iejra2koq_flt.fits',\n",
       " '//wsl.localhost/Ubuntu/home/thomas/desktop/LTT1445_fits_files/Test/Tes2\\\\iejra2jxq_flt.fits',\n",
       " '//wsl.localhost/Ubuntu/home/thomas/desktop/LTT1445_fits_files/Test/Tes2\\\\iejra2l0q_flt.fits',\n",
       " '//wsl.localhost/Ubuntu/home/thomas/desktop/LTT1445_fits_files/Test/Tes2\\\\iejra2lfq_flt.fits',\n",
       " '//wsl.localhost/Ubuntu/home/thomas/desktop/LTT1445_fits_files/Test/Tes2\\\\iejra2ljq_flt.fits',\n",
       " '//wsl.localhost/Ubuntu/home/thomas/desktop/LTT1445_fits_files/Test/Tes2\\\\iejra2lbq_flt.fits',\n",
       " '//wsl.localhost/Ubuntu/home/thomas/desktop/LTT1445_fits_files/Test/Tes2\\\\iejra2l1q_flt.fits',\n",
       " '//wsl.localhost/Ubuntu/home/thomas/desktop/LTT1445_fits_files/Test/Tes2\\\\iejra2jjq_flt.fits',\n",
       " '//wsl.localhost/Ubuntu/home/thomas/desktop/LTT1445_fits_files/Test/Tes2\\\\iejra2leq_flt.fits',\n",
       " '//wsl.localhost/Ubuntu/home/thomas/desktop/LTT1445_fits_files/Test/Tes2\\\\iejra2kfq_flt.fits',\n",
       " '//wsl.localhost/Ubuntu/home/thomas/desktop/LTT1445_fits_files/Test/Tes2\\\\iejra2jzq_flt.fits',\n",
       " '//wsl.localhost/Ubuntu/home/thomas/desktop/LTT1445_fits_files/Test/Tes2\\\\iejra2lgq_flt.fits',\n",
       " '//wsl.localhost/Ubuntu/home/thomas/desktop/LTT1445_fits_files/Test/Tes2\\\\iejra2jqq_flt.fits',\n",
       " '//wsl.localhost/Ubuntu/home/thomas/desktop/LTT1445_fits_files/Test/Tes2\\\\iejra2ldq_flt.fits',\n",
       " '//wsl.localhost/Ubuntu/home/thomas/desktop/LTT1445_fits_files/Test/Tes2\\\\iejra2kuq_flt.fits',\n",
       " '//wsl.localhost/Ubuntu/home/thomas/desktop/LTT1445_fits_files/Test/Tes2\\\\iejra2luq_flt.fits',\n",
       " '//wsl.localhost/Ubuntu/home/thomas/desktop/LTT1445_fits_files/Test/Tes2\\\\iejra2ksq_flt.fits',\n",
       " '//wsl.localhost/Ubuntu/home/thomas/desktop/LTT1445_fits_files/Test/Tes2\\\\iejra2jwq_flt.fits',\n",
       " '//wsl.localhost/Ubuntu/home/thomas/desktop/LTT1445_fits_files/Test/Tes2\\\\iejra2lpq_flt.fits',\n",
       " '//wsl.localhost/Ubuntu/home/thomas/desktop/LTT1445_fits_files/Test/Tes2\\\\iejra2k5q_flt.fits',\n",
       " '//wsl.localhost/Ubuntu/home/thomas/desktop/LTT1445_fits_files/Test/Tes2\\\\iejra2juq_flt.fits',\n",
       " '//wsl.localhost/Ubuntu/home/thomas/desktop/LTT1445_fits_files/Test/Tes2\\\\iejra2jfq_flt.fits',\n",
       " '//wsl.localhost/Ubuntu/home/thomas/desktop/LTT1445_fits_files/Test/Tes2\\\\iejra2jtq_flt.fits',\n",
       " '//wsl.localhost/Ubuntu/home/thomas/desktop/LTT1445_fits_files/Test/Tes2\\\\iejra2keq_flt.fits',\n",
       " '//wsl.localhost/Ubuntu/home/thomas/desktop/LTT1445_fits_files/Test/Tes2\\\\iejra2kkq_flt.fits',\n",
       " '//wsl.localhost/Ubuntu/home/thomas/desktop/LTT1445_fits_files/Test/Tes2\\\\iejra2liq_flt.fits',\n",
       " '//wsl.localhost/Ubuntu/home/thomas/desktop/LTT1445_fits_files/Test/Tes2\\\\iejra2k3q_flt.fits',\n",
       " '//wsl.localhost/Ubuntu/home/thomas/desktop/LTT1445_fits_files/Test/Tes2\\\\iejra2jdq_flt.fits',\n",
       " '//wsl.localhost/Ubuntu/home/thomas/desktop/LTT1445_fits_files/Test/Tes2\\\\iejra2loq_flt.fits',\n",
       " '//wsl.localhost/Ubuntu/home/thomas/desktop/LTT1445_fits_files/Test/Tes2\\\\iejra2k8q_flt.fits',\n",
       " '//wsl.localhost/Ubuntu/home/thomas/desktop/LTT1445_fits_files/Test/Tes2\\\\iejra2lwq_flt.fits',\n",
       " '//wsl.localhost/Ubuntu/home/thomas/desktop/LTT1445_fits_files/Test/Tes2\\\\iejra2joq_flt.fits',\n",
       " '//wsl.localhost/Ubuntu/home/thomas/desktop/LTT1445_fits_files/Test/Tes2\\\\iejra2knq_flt.fits',\n",
       " '//wsl.localhost/Ubuntu/home/thomas/desktop/LTT1445_fits_files/Test/Tes2\\\\iejra2llq_flt.fits',\n",
       " '//wsl.localhost/Ubuntu/home/thomas/desktop/LTT1445_fits_files/Test/Tes2\\\\iejra2kgq_flt.fits',\n",
       " '//wsl.localhost/Ubuntu/home/thomas/desktop/LTT1445_fits_files/Test/Tes2\\\\iejra2jnq_flt.fits',\n",
       " '//wsl.localhost/Ubuntu/home/thomas/desktop/LTT1445_fits_files/Test/Tes2\\\\iejra2jsq_flt.fits',\n",
       " '//wsl.localhost/Ubuntu/home/thomas/desktop/LTT1445_fits_files/Test/Tes2\\\\iejra2l6q_flt.fits',\n",
       " '//wsl.localhost/Ubuntu/home/thomas/desktop/LTT1445_fits_files/Test/Tes2\\\\iejra2kcq_flt.fits',\n",
       " '//wsl.localhost/Ubuntu/home/thomas/desktop/LTT1445_fits_files/Test/Tes2\\\\iejra2jlq_flt.fits',\n",
       " '//wsl.localhost/Ubuntu/home/thomas/desktop/LTT1445_fits_files/Test/Tes2\\\\iejra2k0q_flt.fits',\n",
       " '//wsl.localhost/Ubuntu/home/thomas/desktop/LTT1445_fits_files/Test/Tes2\\\\iejra2kvq_flt.fits',\n",
       " '//wsl.localhost/Ubuntu/home/thomas/desktop/LTT1445_fits_files/Test/Tes2\\\\iejra2l8q_flt.fits',\n",
       " '//wsl.localhost/Ubuntu/home/thomas/desktop/LTT1445_fits_files/Test/Tes2\\\\iejra2l7q_flt.fits',\n",
       " '//wsl.localhost/Ubuntu/home/thomas/desktop/LTT1445_fits_files/Test/Tes2\\\\iejra2l2q_flt.fits',\n",
       " '//wsl.localhost/Ubuntu/home/thomas/desktop/LTT1445_fits_files/Test/Tes2\\\\iejra2lnq_flt.fits',\n",
       " '//wsl.localhost/Ubuntu/home/thomas/desktop/LTT1445_fits_files/Test/Tes2\\\\iejra2krq_flt.fits',\n",
       " '//wsl.localhost/Ubuntu/home/thomas/desktop/LTT1445_fits_files/Test/Tes2\\\\iejra2kxq_flt.fits',\n",
       " '//wsl.localhost/Ubuntu/home/thomas/desktop/LTT1445_fits_files/Test/Tes2\\\\iejra2lrq_flt.fits',\n",
       " '//wsl.localhost/Ubuntu/home/thomas/desktop/LTT1445_fits_files/Test/Tes2\\\\iejra2k7q_flt.fits',\n",
       " '//wsl.localhost/Ubuntu/home/thomas/desktop/LTT1445_fits_files/Test/Tes2\\\\iejra2l4q_flt.fits',\n",
       " '//wsl.localhost/Ubuntu/home/thomas/desktop/LTT1445_fits_files/Test/Tes2\\\\iejra2klq_flt.fits',\n",
       " '//wsl.localhost/Ubuntu/home/thomas/desktop/LTT1445_fits_files/Test/Tes2\\\\iejra2kpq_flt.fits',\n",
       " '//wsl.localhost/Ubuntu/home/thomas/desktop/LTT1445_fits_files/Test/Tes2\\\\iejra2khq_flt.fits',\n",
       " '//wsl.localhost/Ubuntu/home/thomas/desktop/LTT1445_fits_files/Test/Tes2\\\\iejra2l5q_flt.fits',\n",
       " '//wsl.localhost/Ubuntu/home/thomas/desktop/LTT1445_fits_files/Test/Tes2\\\\iejra2jiq_flt.fits',\n",
       " '//wsl.localhost/Ubuntu/home/thomas/desktop/LTT1445_fits_files/Test/Tes2\\\\iejra2k9q_flt.fits',\n",
       " '//wsl.localhost/Ubuntu/home/thomas/desktop/LTT1445_fits_files/Test/Tes2\\\\iejra2lvq_flt.fits',\n",
       " '//wsl.localhost/Ubuntu/home/thomas/desktop/LTT1445_fits_files/Test/Tes2\\\\iejra2kaq_flt.fits',\n",
       " '//wsl.localhost/Ubuntu/home/thomas/desktop/LTT1445_fits_files/Test/Tes2\\\\iejra2jmq_flt.fits',\n",
       " '//wsl.localhost/Ubuntu/home/thomas/desktop/LTT1445_fits_files/Test/Tes2\\\\iejra2k4q_flt.fits',\n",
       " '//wsl.localhost/Ubuntu/home/thomas/desktop/LTT1445_fits_files/Test/Tes2\\\\iejra2jeq_flt.fits',\n",
       " '//wsl.localhost/Ubuntu/home/thomas/desktop/LTT1445_fits_files/Test/Tes2\\\\iejra2k2q_flt.fits',\n",
       " '//wsl.localhost/Ubuntu/home/thomas/desktop/LTT1445_fits_files/Test/Tes2\\\\iejra2lkq_flt.fits']"
      ]
     },
     "execution_count": 10,
     "metadata": {},
     "output_type": "execute_result"
    }
   ],
   "source": [
    "glob.glob('//wsl.localhost/Ubuntu/home/thomas/desktop/LTT1445_fits_files/Test/Tes2/*flt.fits')"
   ]
  },
  {
   "cell_type": "code",
   "execution_count": 12,
   "metadata": {},
   "outputs": [
    {
     "ename": "OSError",
     "evalue": "cannot find loader for this FITS file",
     "output_type": "error",
     "traceback": [
      "\u001b[1;31m---------------------------------------------------------------------------\u001b[0m",
      "\u001b[1;31mOSError\u001b[0m                                   Traceback (most recent call last)",
      "\u001b[1;32m<ipython-input-12-65d5b172e2ed>\u001b[0m in \u001b[0;36m<module>\u001b[1;34m\u001b[0m\n\u001b[0;32m     12\u001b[0m \u001b[1;33m\u001b[0m\u001b[0m\n\u001b[0;32m     13\u001b[0m \u001b[1;32mif\u001b[0m \u001b[0m__name__\u001b[0m \u001b[1;33m==\u001b[0m \u001b[1;34m\"__main__\"\u001b[0m\u001b[1;33m:\u001b[0m\u001b[1;33m\u001b[0m\u001b[1;33m\u001b[0m\u001b[0m\n\u001b[1;32m---> 14\u001b[1;33m     \u001b[0mmake_gif\u001b[0m\u001b[1;33m(\u001b[0m\u001b[1;34m\"/Users/fixit/Desktop/Python/Research/LTT1445_fits_files/Test/Tes2\"\u001b[0m\u001b[1;33m)\u001b[0m\u001b[1;33m\u001b[0m\u001b[1;33m\u001b[0m\u001b[0m\n\u001b[0m",
      "\u001b[1;32m<ipython-input-12-65d5b172e2ed>\u001b[0m in \u001b[0;36mmake_gif\u001b[1;34m(frame_folder)\u001b[0m\n\u001b[0;32m      7\u001b[0m     \u001b[0mframes\u001b[0m \u001b[1;33m=\u001b[0m \u001b[1;33m[\u001b[0m\u001b[0mImage\u001b[0m\u001b[1;33m.\u001b[0m\u001b[0mopen\u001b[0m\u001b[1;33m(\u001b[0m\u001b[0mimage\u001b[0m\u001b[1;33m)\u001b[0m \u001b[1;32mfor\u001b[0m \u001b[0mimage\u001b[0m \u001b[1;32min\u001b[0m \u001b[0mglob\u001b[0m\u001b[1;33m.\u001b[0m\u001b[0mglob\u001b[0m\u001b[1;33m(\u001b[0m\u001b[1;34mf\"{frame_folder}/*flt.fits\"\u001b[0m\u001b[1;33m)\u001b[0m\u001b[1;33m]\u001b[0m\u001b[1;33m\u001b[0m\u001b[1;33m\u001b[0m\u001b[0m\n\u001b[0;32m      8\u001b[0m     \u001b[0mframe_one\u001b[0m \u001b[1;33m=\u001b[0m \u001b[0mframes\u001b[0m\u001b[1;33m[\u001b[0m\u001b[1;36m0\u001b[0m\u001b[1;33m]\u001b[0m\u001b[1;33m\u001b[0m\u001b[1;33m\u001b[0m\u001b[0m\n\u001b[1;32m----> 9\u001b[1;33m     frame_one.save(\"LTT1445_2ndEpoch.gif\", format=\"GIF\", append_images=frames,\n\u001b[0m\u001b[0;32m     10\u001b[0m                save_all=True, duration=100, loop=0)\n\u001b[0;32m     11\u001b[0m \u001b[1;33m\u001b[0m\u001b[0m\n",
      "\u001b[1;32m~\\anaconda3\\lib\\site-packages\\PIL\\Image.py\u001b[0m in \u001b[0;36msave\u001b[1;34m(self, fp, format, **params)\u001b[0m\n\u001b[0;32m   2122\u001b[0m \u001b[1;33m\u001b[0m\u001b[0m\n\u001b[0;32m   2123\u001b[0m         \u001b[1;31m# may mutate self!\u001b[0m\u001b[1;33m\u001b[0m\u001b[1;33m\u001b[0m\u001b[1;33m\u001b[0m\u001b[0m\n\u001b[1;32m-> 2124\u001b[1;33m         \u001b[0mself\u001b[0m\u001b[1;33m.\u001b[0m\u001b[0m_ensure_mutable\u001b[0m\u001b[1;33m(\u001b[0m\u001b[1;33m)\u001b[0m\u001b[1;33m\u001b[0m\u001b[1;33m\u001b[0m\u001b[0m\n\u001b[0m\u001b[0;32m   2125\u001b[0m \u001b[1;33m\u001b[0m\u001b[0m\n\u001b[0;32m   2126\u001b[0m         \u001b[0msave_all\u001b[0m \u001b[1;33m=\u001b[0m \u001b[0mparams\u001b[0m\u001b[1;33m.\u001b[0m\u001b[0mpop\u001b[0m\u001b[1;33m(\u001b[0m\u001b[1;34m\"save_all\"\u001b[0m\u001b[1;33m,\u001b[0m \u001b[1;32mFalse\u001b[0m\u001b[1;33m)\u001b[0m\u001b[1;33m\u001b[0m\u001b[1;33m\u001b[0m\u001b[0m\n",
      "\u001b[1;32m~\\anaconda3\\lib\\site-packages\\PIL\\Image.py\u001b[0m in \u001b[0;36m_ensure_mutable\u001b[1;34m(self)\u001b[0m\n\u001b[0;32m    616\u001b[0m     \u001b[1;32mdef\u001b[0m \u001b[0m_ensure_mutable\u001b[0m\u001b[1;33m(\u001b[0m\u001b[0mself\u001b[0m\u001b[1;33m)\u001b[0m\u001b[1;33m:\u001b[0m\u001b[1;33m\u001b[0m\u001b[1;33m\u001b[0m\u001b[0m\n\u001b[0;32m    617\u001b[0m         \u001b[1;32mif\u001b[0m \u001b[0mself\u001b[0m\u001b[1;33m.\u001b[0m\u001b[0mreadonly\u001b[0m\u001b[1;33m:\u001b[0m\u001b[1;33m\u001b[0m\u001b[1;33m\u001b[0m\u001b[0m\n\u001b[1;32m--> 618\u001b[1;33m             \u001b[0mself\u001b[0m\u001b[1;33m.\u001b[0m\u001b[0m_copy\u001b[0m\u001b[1;33m(\u001b[0m\u001b[1;33m)\u001b[0m\u001b[1;33m\u001b[0m\u001b[1;33m\u001b[0m\u001b[0m\n\u001b[0m\u001b[0;32m    619\u001b[0m         \u001b[1;32melse\u001b[0m\u001b[1;33m:\u001b[0m\u001b[1;33m\u001b[0m\u001b[1;33m\u001b[0m\u001b[0m\n\u001b[0;32m    620\u001b[0m             \u001b[0mself\u001b[0m\u001b[1;33m.\u001b[0m\u001b[0mload\u001b[0m\u001b[1;33m(\u001b[0m\u001b[1;33m)\u001b[0m\u001b[1;33m\u001b[0m\u001b[1;33m\u001b[0m\u001b[0m\n",
      "\u001b[1;32m~\\anaconda3\\lib\\site-packages\\PIL\\Image.py\u001b[0m in \u001b[0;36m_copy\u001b[1;34m(self)\u001b[0m\n\u001b[0;32m    609\u001b[0m \u001b[1;33m\u001b[0m\u001b[0m\n\u001b[0;32m    610\u001b[0m     \u001b[1;32mdef\u001b[0m \u001b[0m_copy\u001b[0m\u001b[1;33m(\u001b[0m\u001b[0mself\u001b[0m\u001b[1;33m)\u001b[0m\u001b[1;33m:\u001b[0m\u001b[1;33m\u001b[0m\u001b[1;33m\u001b[0m\u001b[0m\n\u001b[1;32m--> 611\u001b[1;33m         \u001b[0mself\u001b[0m\u001b[1;33m.\u001b[0m\u001b[0mload\u001b[0m\u001b[1;33m(\u001b[0m\u001b[1;33m)\u001b[0m\u001b[1;33m\u001b[0m\u001b[1;33m\u001b[0m\u001b[0m\n\u001b[0m\u001b[0;32m    612\u001b[0m         \u001b[0mself\u001b[0m\u001b[1;33m.\u001b[0m\u001b[0mim\u001b[0m \u001b[1;33m=\u001b[0m \u001b[0mself\u001b[0m\u001b[1;33m.\u001b[0m\u001b[0mim\u001b[0m\u001b[1;33m.\u001b[0m\u001b[0mcopy\u001b[0m\u001b[1;33m(\u001b[0m\u001b[1;33m)\u001b[0m\u001b[1;33m\u001b[0m\u001b[1;33m\u001b[0m\u001b[0m\n\u001b[0;32m    613\u001b[0m         \u001b[0mself\u001b[0m\u001b[1;33m.\u001b[0m\u001b[0mpyaccess\u001b[0m \u001b[1;33m=\u001b[0m \u001b[1;32mNone\u001b[0m\u001b[1;33m\u001b[0m\u001b[1;33m\u001b[0m\u001b[0m\n",
      "\u001b[1;32m~\\anaconda3\\lib\\site-packages\\PIL\\ImageFile.py\u001b[0m in \u001b[0;36mload\u001b[1;34m(self)\u001b[0m\n\u001b[0;32m    331\u001b[0m         \u001b[0mloader\u001b[0m \u001b[1;33m=\u001b[0m \u001b[0mself\u001b[0m\u001b[1;33m.\u001b[0m\u001b[0m_load\u001b[0m\u001b[1;33m(\u001b[0m\u001b[1;33m)\u001b[0m\u001b[1;33m\u001b[0m\u001b[1;33m\u001b[0m\u001b[0m\n\u001b[0;32m    332\u001b[0m         \u001b[1;32mif\u001b[0m \u001b[0mloader\u001b[0m \u001b[1;32mis\u001b[0m \u001b[1;32mNone\u001b[0m\u001b[1;33m:\u001b[0m\u001b[1;33m\u001b[0m\u001b[1;33m\u001b[0m\u001b[0m\n\u001b[1;32m--> 333\u001b[1;33m             \u001b[1;32mraise\u001b[0m \u001b[0mOSError\u001b[0m\u001b[1;33m(\u001b[0m\u001b[1;34m\"cannot find loader for this %s file\"\u001b[0m \u001b[1;33m%\u001b[0m \u001b[0mself\u001b[0m\u001b[1;33m.\u001b[0m\u001b[0mformat\u001b[0m\u001b[1;33m)\u001b[0m\u001b[1;33m\u001b[0m\u001b[1;33m\u001b[0m\u001b[0m\n\u001b[0m\u001b[0;32m    334\u001b[0m         \u001b[0mimage\u001b[0m \u001b[1;33m=\u001b[0m \u001b[0mloader\u001b[0m\u001b[1;33m.\u001b[0m\u001b[0mload\u001b[0m\u001b[1;33m(\u001b[0m\u001b[0mself\u001b[0m\u001b[1;33m)\u001b[0m\u001b[1;33m\u001b[0m\u001b[1;33m\u001b[0m\u001b[0m\n\u001b[0;32m    335\u001b[0m         \u001b[1;32massert\u001b[0m \u001b[0mimage\u001b[0m \u001b[1;32mis\u001b[0m \u001b[1;32mnot\u001b[0m \u001b[1;32mNone\u001b[0m\u001b[1;33m\u001b[0m\u001b[1;33m\u001b[0m\u001b[0m\n",
      "\u001b[1;31mOSError\u001b[0m: cannot find loader for this FITS file"
     ]
    }
   ],
   "source": [
    "import glob\n",
    "\n",
    "from PIL import Image\n",
    "\n",
    "\n",
    "def make_gif(frame_folder):\n",
    "    frames = [Image.open(image) for image in glob.glob(f\"{frame_folder}/*flt.fits\")]\n",
    "    frame_one = frames[0]\n",
    "    frame_one.save(\"LTT1445_2ndEpoch.gif\", format=\"GIF\", append_images=frames,\n",
    "               save_all=True, duration=100, loop=0)\n",
    "    \n",
    "\n",
    "if __name__ == \"__main__\":\n",
    "    make_gif(\"/Users/fixit/Desktop/Python/Research/LTT1445_fits_files/Test/Tes2\")"
   ]
  },
  {
   "cell_type": "code",
   "execution_count": null,
   "metadata": {},
   "outputs": [],
   "source": []
  }
 ],
 "metadata": {
  "kernelspec": {
   "display_name": "Python 3",
   "language": "python",
   "name": "python3"
  },
  "language_info": {
   "codemirror_mode": {
    "name": "ipython",
    "version": 3
   },
   "file_extension": ".py",
   "mimetype": "text/x-python",
   "name": "python",
   "nbconvert_exporter": "python",
   "pygments_lexer": "ipython3",
   "version": "3.8.3"
  }
 },
 "nbformat": 4,
 "nbformat_minor": 4
}
